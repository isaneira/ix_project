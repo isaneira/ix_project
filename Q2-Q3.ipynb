{
 "cells": [
  {
   "cell_type": "code",
   "execution_count": 26,
   "metadata": {
    "executionInfo": {
     "elapsed": 3,
     "status": "ok",
     "timestamp": 1626672205090,
     "user": {
      "displayName": "Isabella Neira",
      "photoUrl": "",
      "userId": "09802169261336471060"
     },
     "user_tz": 600
    },
    "id": "J3Z1FKFYN6N1"
   },
   "outputs": [],
   "source": [
    "import numpy as np\n",
    "import pandas as pd\n",
    "import matplotlib.pyplot as plt\n",
    "import plotly.express as px\n",
    "\n",
    "import warnings\n",
    "warnings.simplefilter(\"ignore\")"
   ]
  },
  {
   "cell_type": "markdown",
   "metadata": {
    "id": "dMTBFjA-N6N3"
   },
   "source": [
    "# Data Preparation"
   ]
  },
  {
   "cell_type": "markdown",
   "metadata": {
    "id": "0EamEj-2N6N4"
   },
   "source": [
    "**Inspect data**"
   ]
  },
  {
   "cell_type": "code",
   "execution_count": 27,
   "metadata": {
    "colab": {
     "base_uri": "https://localhost:8080/",
     "height": 392
    },
    "executionInfo": {
     "elapsed": 172,
     "status": "error",
     "timestamp": 1626672217094,
     "user": {
      "displayName": "Isabella Neira",
      "photoUrl": "",
      "userId": "09802169261336471060"
     },
     "user_tz": 600
    },
    "id": "x102-NKbN6N4",
    "outputId": "b261f377-463c-44f2-895f-5aaa2467ff77",
    "scrolled": true
   },
   "outputs": [
    {
     "data": {
      "text/html": [
       "<div>\n",
       "<style scoped>\n",
       "    .dataframe tbody tr th:only-of-type {\n",
       "        vertical-align: middle;\n",
       "    }\n",
       "\n",
       "    .dataframe tbody tr th {\n",
       "        vertical-align: top;\n",
       "    }\n",
       "\n",
       "    .dataframe thead th {\n",
       "        text-align: right;\n",
       "    }\n",
       "</style>\n",
       "<table border=\"1\" class=\"dataframe\">\n",
       "  <thead>\n",
       "    <tr style=\"text-align: right;\">\n",
       "      <th></th>\n",
       "      <th>country</th>\n",
       "      <th>iso_code</th>\n",
       "      <th>date</th>\n",
       "      <th>total_vaccinations</th>\n",
       "      <th>people_vaccinated</th>\n",
       "      <th>people_fully_vaccinated</th>\n",
       "      <th>daily_vaccinations_raw</th>\n",
       "      <th>daily_vaccinations</th>\n",
       "      <th>total_vaccinations_per_hundred</th>\n",
       "      <th>people_vaccinated_per_hundred</th>\n",
       "      <th>people_fully_vaccinated_per_hundred</th>\n",
       "      <th>daily_vaccinations_per_million</th>\n",
       "      <th>vaccines</th>\n",
       "      <th>source_name</th>\n",
       "      <th>source_website</th>\n",
       "    </tr>\n",
       "  </thead>\n",
       "  <tbody>\n",
       "    <tr>\n",
       "      <th>0</th>\n",
       "      <td>Afghanistan</td>\n",
       "      <td>AFG</td>\n",
       "      <td>2021-02-22</td>\n",
       "      <td>0.0</td>\n",
       "      <td>0.0</td>\n",
       "      <td>NaN</td>\n",
       "      <td>NaN</td>\n",
       "      <td>NaN</td>\n",
       "      <td>0.0</td>\n",
       "      <td>0.0</td>\n",
       "      <td>NaN</td>\n",
       "      <td>NaN</td>\n",
       "      <td>Johnson&amp;Johnson, Oxford/AstraZeneca, Pfizer/Bi...</td>\n",
       "      <td>World Health Organization</td>\n",
       "      <td>https://covid19.who.int/</td>\n",
       "    </tr>\n",
       "    <tr>\n",
       "      <th>1</th>\n",
       "      <td>Afghanistan</td>\n",
       "      <td>AFG</td>\n",
       "      <td>2021-02-23</td>\n",
       "      <td>NaN</td>\n",
       "      <td>NaN</td>\n",
       "      <td>NaN</td>\n",
       "      <td>NaN</td>\n",
       "      <td>1367.0</td>\n",
       "      <td>NaN</td>\n",
       "      <td>NaN</td>\n",
       "      <td>NaN</td>\n",
       "      <td>35.0</td>\n",
       "      <td>Johnson&amp;Johnson, Oxford/AstraZeneca, Pfizer/Bi...</td>\n",
       "      <td>World Health Organization</td>\n",
       "      <td>https://covid19.who.int/</td>\n",
       "    </tr>\n",
       "    <tr>\n",
       "      <th>2</th>\n",
       "      <td>Afghanistan</td>\n",
       "      <td>AFG</td>\n",
       "      <td>2021-02-24</td>\n",
       "      <td>NaN</td>\n",
       "      <td>NaN</td>\n",
       "      <td>NaN</td>\n",
       "      <td>NaN</td>\n",
       "      <td>1367.0</td>\n",
       "      <td>NaN</td>\n",
       "      <td>NaN</td>\n",
       "      <td>NaN</td>\n",
       "      <td>35.0</td>\n",
       "      <td>Johnson&amp;Johnson, Oxford/AstraZeneca, Pfizer/Bi...</td>\n",
       "      <td>World Health Organization</td>\n",
       "      <td>https://covid19.who.int/</td>\n",
       "    </tr>\n",
       "    <tr>\n",
       "      <th>3</th>\n",
       "      <td>Afghanistan</td>\n",
       "      <td>AFG</td>\n",
       "      <td>2021-02-25</td>\n",
       "      <td>NaN</td>\n",
       "      <td>NaN</td>\n",
       "      <td>NaN</td>\n",
       "      <td>NaN</td>\n",
       "      <td>1367.0</td>\n",
       "      <td>NaN</td>\n",
       "      <td>NaN</td>\n",
       "      <td>NaN</td>\n",
       "      <td>35.0</td>\n",
       "      <td>Johnson&amp;Johnson, Oxford/AstraZeneca, Pfizer/Bi...</td>\n",
       "      <td>World Health Organization</td>\n",
       "      <td>https://covid19.who.int/</td>\n",
       "    </tr>\n",
       "    <tr>\n",
       "      <th>4</th>\n",
       "      <td>Afghanistan</td>\n",
       "      <td>AFG</td>\n",
       "      <td>2021-02-26</td>\n",
       "      <td>NaN</td>\n",
       "      <td>NaN</td>\n",
       "      <td>NaN</td>\n",
       "      <td>NaN</td>\n",
       "      <td>1367.0</td>\n",
       "      <td>NaN</td>\n",
       "      <td>NaN</td>\n",
       "      <td>NaN</td>\n",
       "      <td>35.0</td>\n",
       "      <td>Johnson&amp;Johnson, Oxford/AstraZeneca, Pfizer/Bi...</td>\n",
       "      <td>World Health Organization</td>\n",
       "      <td>https://covid19.who.int/</td>\n",
       "    </tr>\n",
       "  </tbody>\n",
       "</table>\n",
       "</div>"
      ],
      "text/plain": [
       "       country iso_code        date  total_vaccinations  people_vaccinated  \\\n",
       "0  Afghanistan      AFG  2021-02-22                 0.0                0.0   \n",
       "1  Afghanistan      AFG  2021-02-23                 NaN                NaN   \n",
       "2  Afghanistan      AFG  2021-02-24                 NaN                NaN   \n",
       "3  Afghanistan      AFG  2021-02-25                 NaN                NaN   \n",
       "4  Afghanistan      AFG  2021-02-26                 NaN                NaN   \n",
       "\n",
       "   people_fully_vaccinated  daily_vaccinations_raw  daily_vaccinations  \\\n",
       "0                      NaN                     NaN                 NaN   \n",
       "1                      NaN                     NaN              1367.0   \n",
       "2                      NaN                     NaN              1367.0   \n",
       "3                      NaN                     NaN              1367.0   \n",
       "4                      NaN                     NaN              1367.0   \n",
       "\n",
       "   total_vaccinations_per_hundred  people_vaccinated_per_hundred  \\\n",
       "0                             0.0                            0.0   \n",
       "1                             NaN                            NaN   \n",
       "2                             NaN                            NaN   \n",
       "3                             NaN                            NaN   \n",
       "4                             NaN                            NaN   \n",
       "\n",
       "   people_fully_vaccinated_per_hundred  daily_vaccinations_per_million  \\\n",
       "0                                  NaN                             NaN   \n",
       "1                                  NaN                            35.0   \n",
       "2                                  NaN                            35.0   \n",
       "3                                  NaN                            35.0   \n",
       "4                                  NaN                            35.0   \n",
       "\n",
       "                                            vaccines  \\\n",
       "0  Johnson&Johnson, Oxford/AstraZeneca, Pfizer/Bi...   \n",
       "1  Johnson&Johnson, Oxford/AstraZeneca, Pfizer/Bi...   \n",
       "2  Johnson&Johnson, Oxford/AstraZeneca, Pfizer/Bi...   \n",
       "3  Johnson&Johnson, Oxford/AstraZeneca, Pfizer/Bi...   \n",
       "4  Johnson&Johnson, Oxford/AstraZeneca, Pfizer/Bi...   \n",
       "\n",
       "                 source_name            source_website  \n",
       "0  World Health Organization  https://covid19.who.int/  \n",
       "1  World Health Organization  https://covid19.who.int/  \n",
       "2  World Health Organization  https://covid19.who.int/  \n",
       "3  World Health Organization  https://covid19.who.int/  \n",
       "4  World Health Organization  https://covid19.who.int/  "
      ]
     },
     "execution_count": 27,
     "metadata": {},
     "output_type": "execute_result"
    }
   ],
   "source": [
    "data = pd.read_csv('country_vaccinations.csv')\n",
    "data.head()"
   ]
  },
  {
   "cell_type": "code",
   "execution_count": 28,
   "metadata": {},
   "outputs": [
    {
     "data": {
      "text/html": [
       "<div>\n",
       "<style scoped>\n",
       "    .dataframe tbody tr th:only-of-type {\n",
       "        vertical-align: middle;\n",
       "    }\n",
       "\n",
       "    .dataframe tbody tr th {\n",
       "        vertical-align: top;\n",
       "    }\n",
       "\n",
       "    .dataframe thead th {\n",
       "        text-align: right;\n",
       "    }\n",
       "</style>\n",
       "<table border=\"1\" class=\"dataframe\">\n",
       "  <thead>\n",
       "    <tr style=\"text-align: right;\">\n",
       "      <th></th>\n",
       "      <th>country</th>\n",
       "      <th>iso_code</th>\n",
       "      <th>date</th>\n",
       "      <th>total_vaccinations</th>\n",
       "      <th>people_vaccinated</th>\n",
       "      <th>people_fully_vaccinated</th>\n",
       "      <th>daily_vaccinations_raw</th>\n",
       "      <th>daily_vaccinations</th>\n",
       "      <th>total_vaccinations_per_hundred</th>\n",
       "      <th>people_vaccinated_per_hundred</th>\n",
       "      <th>people_fully_vaccinated_per_hundred</th>\n",
       "      <th>daily_vaccinations_per_million</th>\n",
       "      <th>vaccines</th>\n",
       "      <th>source_name</th>\n",
       "      <th>source_website</th>\n",
       "    </tr>\n",
       "  </thead>\n",
       "  <tbody>\n",
       "    <tr>\n",
       "      <th>0</th>\n",
       "      <td>Afghanistan</td>\n",
       "      <td>AFG</td>\n",
       "      <td>2021-02-22</td>\n",
       "      <td>0.0</td>\n",
       "      <td>0.0</td>\n",
       "      <td>NaN</td>\n",
       "      <td>NaN</td>\n",
       "      <td>NaN</td>\n",
       "      <td>0.0</td>\n",
       "      <td>0.0</td>\n",
       "      <td>NaN</td>\n",
       "      <td>NaN</td>\n",
       "      <td>Johnson&amp;Johnson, Oxford/AstraZeneca, Pfizer/Bi...</td>\n",
       "      <td>World Health Organization</td>\n",
       "      <td>https://covid19.who.int/</td>\n",
       "    </tr>\n",
       "    <tr>\n",
       "      <th>1</th>\n",
       "      <td>Afghanistan</td>\n",
       "      <td>AFG</td>\n",
       "      <td>2021-02-23</td>\n",
       "      <td>NaN</td>\n",
       "      <td>NaN</td>\n",
       "      <td>NaN</td>\n",
       "      <td>NaN</td>\n",
       "      <td>1367.0</td>\n",
       "      <td>NaN</td>\n",
       "      <td>NaN</td>\n",
       "      <td>NaN</td>\n",
       "      <td>35.0</td>\n",
       "      <td>Johnson&amp;Johnson, Oxford/AstraZeneca, Pfizer/Bi...</td>\n",
       "      <td>World Health Organization</td>\n",
       "      <td>https://covid19.who.int/</td>\n",
       "    </tr>\n",
       "    <tr>\n",
       "      <th>2</th>\n",
       "      <td>Afghanistan</td>\n",
       "      <td>AFG</td>\n",
       "      <td>2021-02-24</td>\n",
       "      <td>NaN</td>\n",
       "      <td>NaN</td>\n",
       "      <td>NaN</td>\n",
       "      <td>NaN</td>\n",
       "      <td>1367.0</td>\n",
       "      <td>NaN</td>\n",
       "      <td>NaN</td>\n",
       "      <td>NaN</td>\n",
       "      <td>35.0</td>\n",
       "      <td>Johnson&amp;Johnson, Oxford/AstraZeneca, Pfizer/Bi...</td>\n",
       "      <td>World Health Organization</td>\n",
       "      <td>https://covid19.who.int/</td>\n",
       "    </tr>\n",
       "    <tr>\n",
       "      <th>3</th>\n",
       "      <td>Afghanistan</td>\n",
       "      <td>AFG</td>\n",
       "      <td>2021-02-25</td>\n",
       "      <td>NaN</td>\n",
       "      <td>NaN</td>\n",
       "      <td>NaN</td>\n",
       "      <td>NaN</td>\n",
       "      <td>1367.0</td>\n",
       "      <td>NaN</td>\n",
       "      <td>NaN</td>\n",
       "      <td>NaN</td>\n",
       "      <td>35.0</td>\n",
       "      <td>Johnson&amp;Johnson, Oxford/AstraZeneca, Pfizer/Bi...</td>\n",
       "      <td>World Health Organization</td>\n",
       "      <td>https://covid19.who.int/</td>\n",
       "    </tr>\n",
       "    <tr>\n",
       "      <th>4</th>\n",
       "      <td>Afghanistan</td>\n",
       "      <td>AFG</td>\n",
       "      <td>2021-02-26</td>\n",
       "      <td>NaN</td>\n",
       "      <td>NaN</td>\n",
       "      <td>NaN</td>\n",
       "      <td>NaN</td>\n",
       "      <td>1367.0</td>\n",
       "      <td>NaN</td>\n",
       "      <td>NaN</td>\n",
       "      <td>NaN</td>\n",
       "      <td>35.0</td>\n",
       "      <td>Johnson&amp;Johnson, Oxford/AstraZeneca, Pfizer/Bi...</td>\n",
       "      <td>World Health Organization</td>\n",
       "      <td>https://covid19.who.int/</td>\n",
       "    </tr>\n",
       "  </tbody>\n",
       "</table>\n",
       "</div>"
      ],
      "text/plain": [
       "       country iso_code        date  total_vaccinations  people_vaccinated  \\\n",
       "0  Afghanistan      AFG  2021-02-22                 0.0                0.0   \n",
       "1  Afghanistan      AFG  2021-02-23                 NaN                NaN   \n",
       "2  Afghanistan      AFG  2021-02-24                 NaN                NaN   \n",
       "3  Afghanistan      AFG  2021-02-25                 NaN                NaN   \n",
       "4  Afghanistan      AFG  2021-02-26                 NaN                NaN   \n",
       "\n",
       "   people_fully_vaccinated  daily_vaccinations_raw  daily_vaccinations  \\\n",
       "0                      NaN                     NaN                 NaN   \n",
       "1                      NaN                     NaN              1367.0   \n",
       "2                      NaN                     NaN              1367.0   \n",
       "3                      NaN                     NaN              1367.0   \n",
       "4                      NaN                     NaN              1367.0   \n",
       "\n",
       "   total_vaccinations_per_hundred  people_vaccinated_per_hundred  \\\n",
       "0                             0.0                            0.0   \n",
       "1                             NaN                            NaN   \n",
       "2                             NaN                            NaN   \n",
       "3                             NaN                            NaN   \n",
       "4                             NaN                            NaN   \n",
       "\n",
       "   people_fully_vaccinated_per_hundred  daily_vaccinations_per_million  \\\n",
       "0                                  NaN                             NaN   \n",
       "1                                  NaN                            35.0   \n",
       "2                                  NaN                            35.0   \n",
       "3                                  NaN                            35.0   \n",
       "4                                  NaN                            35.0   \n",
       "\n",
       "                                            vaccines  \\\n",
       "0  Johnson&Johnson, Oxford/AstraZeneca, Pfizer/Bi...   \n",
       "1  Johnson&Johnson, Oxford/AstraZeneca, Pfizer/Bi...   \n",
       "2  Johnson&Johnson, Oxford/AstraZeneca, Pfizer/Bi...   \n",
       "3  Johnson&Johnson, Oxford/AstraZeneca, Pfizer/Bi...   \n",
       "4  Johnson&Johnson, Oxford/AstraZeneca, Pfizer/Bi...   \n",
       "\n",
       "                 source_name            source_website  \n",
       "0  World Health Organization  https://covid19.who.int/  \n",
       "1  World Health Organization  https://covid19.who.int/  \n",
       "2  World Health Organization  https://covid19.who.int/  \n",
       "3  World Health Organization  https://covid19.who.int/  \n",
       "4  World Health Organization  https://covid19.who.int/  "
      ]
     },
     "execution_count": 28,
     "metadata": {},
     "output_type": "execute_result"
    }
   ],
   "source": [
    "data = pd.read_csv('country_vaccinations.csv')\n",
    "data.head()"
   ]
  },
  {
   "cell_type": "code",
   "execution_count": 29,
   "metadata": {
    "colab": {
     "base_uri": "https://localhost:8080/",
     "height": 164
    },
    "executionInfo": {
     "elapsed": 10,
     "status": "error",
     "timestamp": 1626672206324,
     "user": {
      "displayName": "Isabella Neira",
      "photoUrl": "",
      "userId": "09802169261336471060"
     },
     "user_tz": 600
    },
    "id": "UU2EacuEN6N5",
    "outputId": "3fcbb24b-a629-4ab4-d860-3d937611d21e"
   },
   "outputs": [
    {
     "data": {
      "text/plain": [
       "Index(['country', 'iso_code', 'date', 'total_vaccinations',\n",
       "       'people_vaccinated', 'people_fully_vaccinated',\n",
       "       'daily_vaccinations_raw', 'daily_vaccinations',\n",
       "       'total_vaccinations_per_hundred', 'people_vaccinated_per_hundred',\n",
       "       'people_fully_vaccinated_per_hundred', 'daily_vaccinations_per_million',\n",
       "       'vaccines', 'source_name', 'source_website'],\n",
       "      dtype='object')"
      ]
     },
     "execution_count": 29,
     "metadata": {},
     "output_type": "execute_result"
    }
   ],
   "source": [
    "data.columns"
   ]
  },
  {
   "cell_type": "markdown",
   "metadata": {
    "id": "hu6Aj2uiN6N5"
   },
   "source": [
    "**Keep only useful columns**"
   ]
  },
  {
   "cell_type": "code",
   "execution_count": 30,
   "metadata": {
    "colab": {
     "base_uri": "https://localhost:8080/",
     "height": 215
    },
    "executionInfo": {
     "elapsed": 5,
     "status": "error",
     "timestamp": 1626672206497,
     "user": {
      "displayName": "Isabella Neira",
      "photoUrl": "",
      "userId": "09802169261336471060"
     },
     "user_tz": 600
    },
    "id": "976_xmgIN6N6",
    "outputId": "38d11608-a2f2-4edf-dea4-eca70a204370"
   },
   "outputs": [
    {
     "data": {
      "text/plain": [
       "Index(['country', 'iso_code', 'date', 'daily_vaccinations',\n",
       "       'people_vaccinated', 'people_vaccinated_per_hundred',\n",
       "       'people_fully_vaccinated', 'vaccines'],\n",
       "      dtype='object')"
      ]
     },
     "execution_count": 30,
     "metadata": {},
     "output_type": "execute_result"
    }
   ],
   "source": [
    "relevant_columns = [\n",
    "    'country',\n",
    "    'iso_code',\n",
    "    'date',\n",
    "    'daily_vaccinations',\n",
    "    'people_vaccinated',\n",
    "    'people_vaccinated_per_hundred',\n",
    "    'people_fully_vaccinated',\n",
    "    'vaccines',\n",
    "]\n",
    "\n",
    "data = data[relevant_columns]\n",
    "data.columns"
   ]
  },
  {
   "cell_type": "markdown",
   "metadata": {
    "id": "3_5uksF3N6N6"
   },
   "source": [
    "**Check datatypes**"
   ]
  },
  {
   "cell_type": "code",
   "execution_count": 31,
   "metadata": {
    "id": "nm70NdenN6N7",
    "outputId": "a326d81a-115a-41d7-d024-eb1b8f3cd5d1"
   },
   "outputs": [
    {
     "data": {
      "text/plain": [
       "country                           object\n",
       "iso_code                          object\n",
       "date                              object\n",
       "daily_vaccinations               float64\n",
       "people_vaccinated                float64\n",
       "people_vaccinated_per_hundred    float64\n",
       "people_fully_vaccinated          float64\n",
       "vaccines                          object\n",
       "dtype: object"
      ]
     },
     "execution_count": 31,
     "metadata": {},
     "output_type": "execute_result"
    }
   ],
   "source": [
    "data.dtypes"
   ]
  },
  {
   "cell_type": "markdown",
   "metadata": {
    "id": "_o8cZLFlN6N7"
   },
   "source": [
    "**Inspect missing values**"
   ]
  },
  {
   "cell_type": "code",
   "execution_count": 32,
   "metadata": {
    "id": "Z8htuR0XN6N7",
    "outputId": "4cc8b546-36fb-4363-a3cc-ed8638023187"
   },
   "outputs": [
    {
     "data": {
      "text/plain": [
       "country                              0\n",
       "iso_code                             0\n",
       "date                                 0\n",
       "daily_vaccinations                 243\n",
       "people_vaccinated                14761\n",
       "people_vaccinated_per_hundred    14761\n",
       "people_fully_vaccinated          17506\n",
       "vaccines                             0\n",
       "dtype: int64"
      ]
     },
     "execution_count": 32,
     "metadata": {},
     "output_type": "execute_result"
    }
   ],
   "source": [
    "data.isnull().sum()"
   ]
  },
  {
   "cell_type": "markdown",
   "metadata": {
    "id": "6a0k4uDdN6N7"
   },
   "source": [
    "Check if `people_vaccinated` and `people_vaccinated_per_hundred` line up in terms of missing values"
   ]
  },
  {
   "cell_type": "code",
   "execution_count": 33,
   "metadata": {
    "id": "5KrbCHg_N6N8",
    "outputId": "d1408971-ceec-48ed-db2a-1013de5f35e4"
   },
   "outputs": [
    {
     "data": {
      "text/plain": [
       "14761"
      ]
     },
     "execution_count": 33,
     "metadata": {},
     "output_type": "execute_result"
    }
   ],
   "source": [
    "data.loc[data.people_vaccinated.isnull() | data.people_vaccinated_per_hundred.isnull()].shape[0]"
   ]
  },
  {
   "cell_type": "markdown",
   "metadata": {
    "id": "gDUDGG3xN6N8"
   },
   "source": [
    "Yes"
   ]
  },
  {
   "cell_type": "markdown",
   "metadata": {
    "id": "AAPs4mHwN6N8"
   },
   "source": [
    "Check which countries and dates have missing data"
   ]
  },
  {
   "cell_type": "code",
   "execution_count": 34,
   "metadata": {
    "id": "dEWbD0ZSN6N8",
    "outputId": "c6ae0da2-83da-4b6a-f940-88658c0cb641"
   },
   "outputs": [
    {
     "data": {
      "text/plain": [
       "China                   214\n",
       "Kuwait                  183\n",
       "Monaco                  183\n",
       "United Arab Emirates    178\n",
       "Saudi Arabia            172\n",
       "                       ... \n",
       "Romania                   3\n",
       "Denmark                   2\n",
       "England                   2\n",
       "Malta                     1\n",
       "Scotland                  1\n",
       "Name: country, Length: 195, dtype: int64"
      ]
     },
     "execution_count": 34,
     "metadata": {},
     "output_type": "execute_result"
    }
   ],
   "source": [
    "data.loc[data.people_vaccinated.isnull(), 'country'].value_counts()"
   ]
  },
  {
   "cell_type": "code",
   "execution_count": 35,
   "metadata": {
    "id": "YpKPkS5gN6N9",
    "outputId": "9467d199-f3ca-4000-e492-2e529f37065d"
   },
   "outputs": [
    {
     "data": {
      "text/plain": [
       "2021-06-26    119\n",
       "2021-06-19    119\n",
       "2021-05-15    117\n",
       "2021-06-04    117\n",
       "2021-05-13    114\n",
       "             ... \n",
       "2020-12-07      1\n",
       "2020-12-06      1\n",
       "2020-12-13      1\n",
       "2020-12-12      1\n",
       "2020-12-09      1\n",
       "Name: date, Length: 225, dtype: int64"
      ]
     },
     "execution_count": 35,
     "metadata": {},
     "output_type": "execute_result"
    }
   ],
   "source": [
    "data.loc[data.people_vaccinated.isnull(), 'date'].value_counts()"
   ]
  },
  {
   "cell_type": "code",
   "execution_count": 36,
   "metadata": {
    "id": "KGWQsy-wN6N9",
    "outputId": "75b24dbb-9f51-44e8-a75d-14ef90feaf4f"
   },
   "outputs": [
    {
     "data": {
      "text/plain": [
       "219"
      ]
     },
     "execution_count": 36,
     "metadata": {},
     "output_type": "execute_result"
    }
   ],
   "source": [
    "data.country.nunique()"
   ]
  },
  {
   "cell_type": "markdown",
   "metadata": {
    "id": "xH1xwSNeN6N9"
   },
   "source": [
    "Almost every country has some missing data as expected, but all the categorical features are present."
   ]
  },
  {
   "cell_type": "markdown",
   "metadata": {
    "id": "LnqCAtQ2N6N9"
   },
   "source": [
    "Check what proportion of data is missing."
   ]
  },
  {
   "cell_type": "code",
   "execution_count": 37,
   "metadata": {
    "id": "Nrv2kddFN6N-",
    "outputId": "3551b89a-4fcf-4478-ef85-6dcb8c2c2895"
   },
   "outputs": [
    {
     "name": "stdout",
     "output_type": "stream",
     "text": [
      "46.938% data missing\n"
     ]
    }
   ],
   "source": [
    "pct = data.loc[data.people_vaccinated_per_hundred.isnull()].shape[0] / data.shape[0] * 100\n",
    "print(f'{pct:.3f}% data missing')"
   ]
  },
  {
   "cell_type": "markdown",
   "metadata": {
    "id": "lF-697vVN6N-"
   },
   "source": [
    "A very big chunk of data is missing. We need to fill this up somehow. Since the `people_vaccinated*` columns are cumulative, we will use the last available value. Since `daily_vaccinations` is not we will leave them be for now."
   ]
  },
  {
   "cell_type": "code",
   "execution_count": 38,
   "metadata": {
    "id": "wuSNLLfaN6N-"
   },
   "outputs": [],
   "source": [
    "data.sort_values(by='date', inplace=True)\n",
    "all_countries = list(data.country.unique())\n",
    "\n",
    "for country in all_countries:\n",
    "    for col in ['people_vaccinated', 'people_vaccinated_per_hundred']:\n",
    "        data.loc[data.country == country, col] = \\\n",
    "        data.loc[data.country == country, col].fillna(method='bfill').fillna(method='ffill')"
   ]
  },
  {
   "cell_type": "code",
   "execution_count": 39,
   "metadata": {
    "id": "s0VaqTEcN6N-",
    "outputId": "0df271c9-5cca-4d16-e213-6f620b0c66da"
   },
   "outputs": [
    {
     "name": "stdout",
     "output_type": "stream",
     "text": [
      "0.000% data missing\n"
     ]
    }
   ],
   "source": [
    "pct = data.loc[data.people_vaccinated_per_hundred.isnull()].shape[0] / data.shape[0] * 100\n",
    "print(f'{pct:.3f}% data missing')"
   ]
  },
  {
   "cell_type": "markdown",
   "metadata": {
    "id": "esuXeNQmN6N_"
   },
   "source": [
    "Let's goooo"
   ]
  },
  {
   "cell_type": "code",
   "execution_count": 40,
   "metadata": {
    "id": "xQ127dYJN6N_",
    "outputId": "fff36c31-a9ae-4faf-bcd2-9998e294a6d7",
    "scrolled": true
   },
   "outputs": [
    {
     "data": {
      "text/html": [
       "<div>\n",
       "<style scoped>\n",
       "    .dataframe tbody tr th:only-of-type {\n",
       "        vertical-align: middle;\n",
       "    }\n",
       "\n",
       "    .dataframe tbody tr th {\n",
       "        vertical-align: top;\n",
       "    }\n",
       "\n",
       "    .dataframe thead th {\n",
       "        text-align: right;\n",
       "    }\n",
       "</style>\n",
       "<table border=\"1\" class=\"dataframe\">\n",
       "  <thead>\n",
       "    <tr style=\"text-align: right;\">\n",
       "      <th></th>\n",
       "      <th>country</th>\n",
       "      <th>iso_code</th>\n",
       "      <th>date</th>\n",
       "      <th>daily_vaccinations</th>\n",
       "      <th>people_vaccinated</th>\n",
       "      <th>people_vaccinated_per_hundred</th>\n",
       "      <th>people_fully_vaccinated</th>\n",
       "      <th>vaccines</th>\n",
       "    </tr>\n",
       "  </thead>\n",
       "  <tbody>\n",
       "    <tr>\n",
       "      <th>21261</th>\n",
       "      <td>Norway</td>\n",
       "      <td>NOR</td>\n",
       "      <td>2020-12-02</td>\n",
       "      <td>NaN</td>\n",
       "      <td>0.0</td>\n",
       "      <td>0.0</td>\n",
       "      <td>NaN</td>\n",
       "      <td>Moderna, Pfizer/BioNTech</td>\n",
       "    </tr>\n",
       "    <tr>\n",
       "      <th>21262</th>\n",
       "      <td>Norway</td>\n",
       "      <td>NOR</td>\n",
       "      <td>2020-12-03</td>\n",
       "      <td>0.0</td>\n",
       "      <td>0.0</td>\n",
       "      <td>0.0</td>\n",
       "      <td>NaN</td>\n",
       "      <td>Moderna, Pfizer/BioNTech</td>\n",
       "    </tr>\n",
       "    <tr>\n",
       "      <th>21263</th>\n",
       "      <td>Norway</td>\n",
       "      <td>NOR</td>\n",
       "      <td>2020-12-04</td>\n",
       "      <td>0.0</td>\n",
       "      <td>0.0</td>\n",
       "      <td>0.0</td>\n",
       "      <td>NaN</td>\n",
       "      <td>Moderna, Pfizer/BioNTech</td>\n",
       "    </tr>\n",
       "    <tr>\n",
       "      <th>15647</th>\n",
       "      <td>Latvia</td>\n",
       "      <td>LVA</td>\n",
       "      <td>2020-12-04</td>\n",
       "      <td>NaN</td>\n",
       "      <td>1.0</td>\n",
       "      <td>0.0</td>\n",
       "      <td>NaN</td>\n",
       "      <td>Johnson&amp;Johnson, Moderna, Oxford/AstraZeneca, ...</td>\n",
       "    </tr>\n",
       "    <tr>\n",
       "      <th>15648</th>\n",
       "      <td>Latvia</td>\n",
       "      <td>LVA</td>\n",
       "      <td>2020-12-05</td>\n",
       "      <td>0.0</td>\n",
       "      <td>2.0</td>\n",
       "      <td>0.0</td>\n",
       "      <td>NaN</td>\n",
       "      <td>Johnson&amp;Johnson, Moderna, Oxford/AstraZeneca, ...</td>\n",
       "    </tr>\n",
       "  </tbody>\n",
       "</table>\n",
       "</div>"
      ],
      "text/plain": [
       "      country iso_code        date  daily_vaccinations  people_vaccinated  \\\n",
       "21261  Norway      NOR  2020-12-02                 NaN                0.0   \n",
       "21262  Norway      NOR  2020-12-03                 0.0                0.0   \n",
       "21263  Norway      NOR  2020-12-04                 0.0                0.0   \n",
       "15647  Latvia      LVA  2020-12-04                 NaN                1.0   \n",
       "15648  Latvia      LVA  2020-12-05                 0.0                2.0   \n",
       "\n",
       "       people_vaccinated_per_hundred  people_fully_vaccinated  \\\n",
       "21261                            0.0                      NaN   \n",
       "21262                            0.0                      NaN   \n",
       "21263                            0.0                      NaN   \n",
       "15647                            0.0                      NaN   \n",
       "15648                            0.0                      NaN   \n",
       "\n",
       "                                                vaccines  \n",
       "21261                           Moderna, Pfizer/BioNTech  \n",
       "21262                           Moderna, Pfizer/BioNTech  \n",
       "21263                           Moderna, Pfizer/BioNTech  \n",
       "15647  Johnson&Johnson, Moderna, Oxford/AstraZeneca, ...  \n",
       "15648  Johnson&Johnson, Moderna, Oxford/AstraZeneca, ...  "
      ]
     },
     "execution_count": 40,
     "metadata": {},
     "output_type": "execute_result"
    }
   ],
   "source": [
    "data.head()"
   ]
  },
  {
   "cell_type": "code",
   "execution_count": 41,
   "metadata": {},
   "outputs": [
    {
     "data": {
      "text/html": [
       "<div>\n",
       "<style scoped>\n",
       "    .dataframe tbody tr th:only-of-type {\n",
       "        vertical-align: middle;\n",
       "    }\n",
       "\n",
       "    .dataframe tbody tr th {\n",
       "        vertical-align: top;\n",
       "    }\n",
       "\n",
       "    .dataframe thead th {\n",
       "        text-align: right;\n",
       "    }\n",
       "</style>\n",
       "<table border=\"1\" class=\"dataframe\">\n",
       "  <thead>\n",
       "    <tr style=\"text-align: right;\">\n",
       "      <th></th>\n",
       "      <th>country</th>\n",
       "      <th>iso_code</th>\n",
       "      <th>date</th>\n",
       "      <th>daily_vaccinations</th>\n",
       "      <th>people_vaccinated</th>\n",
       "      <th>people_vaccinated_per_hundred</th>\n",
       "      <th>people_fully_vaccinated</th>\n",
       "      <th>vaccines</th>\n",
       "    </tr>\n",
       "  </thead>\n",
       "  <tbody>\n",
       "    <tr>\n",
       "      <th>10983</th>\n",
       "      <td>Gibraltar</td>\n",
       "      <td>GIB</td>\n",
       "      <td>2021-07-14</td>\n",
       "      <td>15.0</td>\n",
       "      <td>39305.0</td>\n",
       "      <td>116.66</td>\n",
       "      <td>38976.0</td>\n",
       "      <td>Pfizer/BioNTech</td>\n",
       "    </tr>\n",
       "    <tr>\n",
       "      <th>10980</th>\n",
       "      <td>Gibraltar</td>\n",
       "      <td>GIB</td>\n",
       "      <td>2021-07-11</td>\n",
       "      <td>10.0</td>\n",
       "      <td>39294.0</td>\n",
       "      <td>116.63</td>\n",
       "      <td>NaN</td>\n",
       "      <td>Pfizer/BioNTech</td>\n",
       "    </tr>\n",
       "    <tr>\n",
       "      <th>10976</th>\n",
       "      <td>Gibraltar</td>\n",
       "      <td>GIB</td>\n",
       "      <td>2021-07-07</td>\n",
       "      <td>10.0</td>\n",
       "      <td>39294.0</td>\n",
       "      <td>116.63</td>\n",
       "      <td>NaN</td>\n",
       "      <td>Pfizer/BioNTech</td>\n",
       "    </tr>\n",
       "    <tr>\n",
       "      <th>10981</th>\n",
       "      <td>Gibraltar</td>\n",
       "      <td>GIB</td>\n",
       "      <td>2021-07-12</td>\n",
       "      <td>10.0</td>\n",
       "      <td>39294.0</td>\n",
       "      <td>116.63</td>\n",
       "      <td>NaN</td>\n",
       "      <td>Pfizer/BioNTech</td>\n",
       "    </tr>\n",
       "    <tr>\n",
       "      <th>10973</th>\n",
       "      <td>Gibraltar</td>\n",
       "      <td>GIB</td>\n",
       "      <td>2021-07-04</td>\n",
       "      <td>10.0</td>\n",
       "      <td>39294.0</td>\n",
       "      <td>116.63</td>\n",
       "      <td>NaN</td>\n",
       "      <td>Pfizer/BioNTech</td>\n",
       "    </tr>\n",
       "    <tr>\n",
       "      <th>10982</th>\n",
       "      <td>Gibraltar</td>\n",
       "      <td>GIB</td>\n",
       "      <td>2021-07-13</td>\n",
       "      <td>10.0</td>\n",
       "      <td>39294.0</td>\n",
       "      <td>116.63</td>\n",
       "      <td>38939.0</td>\n",
       "      <td>Pfizer/BioNTech</td>\n",
       "    </tr>\n",
       "    <tr>\n",
       "      <th>10979</th>\n",
       "      <td>Gibraltar</td>\n",
       "      <td>GIB</td>\n",
       "      <td>2021-07-10</td>\n",
       "      <td>10.0</td>\n",
       "      <td>39294.0</td>\n",
       "      <td>116.63</td>\n",
       "      <td>NaN</td>\n",
       "      <td>Pfizer/BioNTech</td>\n",
       "    </tr>\n",
       "    <tr>\n",
       "      <th>10972</th>\n",
       "      <td>Gibraltar</td>\n",
       "      <td>GIB</td>\n",
       "      <td>2021-07-03</td>\n",
       "      <td>10.0</td>\n",
       "      <td>39294.0</td>\n",
       "      <td>116.63</td>\n",
       "      <td>NaN</td>\n",
       "      <td>Pfizer/BioNTech</td>\n",
       "    </tr>\n",
       "    <tr>\n",
       "      <th>10975</th>\n",
       "      <td>Gibraltar</td>\n",
       "      <td>GIB</td>\n",
       "      <td>2021-07-06</td>\n",
       "      <td>11.0</td>\n",
       "      <td>39294.0</td>\n",
       "      <td>116.63</td>\n",
       "      <td>NaN</td>\n",
       "      <td>Pfizer/BioNTech</td>\n",
       "    </tr>\n",
       "    <tr>\n",
       "      <th>10974</th>\n",
       "      <td>Gibraltar</td>\n",
       "      <td>GIB</td>\n",
       "      <td>2021-07-05</td>\n",
       "      <td>11.0</td>\n",
       "      <td>39294.0</td>\n",
       "      <td>116.63</td>\n",
       "      <td>NaN</td>\n",
       "      <td>Pfizer/BioNTech</td>\n",
       "    </tr>\n",
       "    <tr>\n",
       "      <th>10978</th>\n",
       "      <td>Gibraltar</td>\n",
       "      <td>GIB</td>\n",
       "      <td>2021-07-09</td>\n",
       "      <td>10.0</td>\n",
       "      <td>39294.0</td>\n",
       "      <td>116.63</td>\n",
       "      <td>NaN</td>\n",
       "      <td>Pfizer/BioNTech</td>\n",
       "    </tr>\n",
       "    <tr>\n",
       "      <th>10977</th>\n",
       "      <td>Gibraltar</td>\n",
       "      <td>GIB</td>\n",
       "      <td>2021-07-08</td>\n",
       "      <td>10.0</td>\n",
       "      <td>39294.0</td>\n",
       "      <td>116.63</td>\n",
       "      <td>NaN</td>\n",
       "      <td>Pfizer/BioNTech</td>\n",
       "    </tr>\n",
       "    <tr>\n",
       "      <th>10970</th>\n",
       "      <td>Gibraltar</td>\n",
       "      <td>GIB</td>\n",
       "      <td>2021-07-01</td>\n",
       "      <td>9.0</td>\n",
       "      <td>39259.0</td>\n",
       "      <td>116.53</td>\n",
       "      <td>NaN</td>\n",
       "      <td>Pfizer/BioNTech</td>\n",
       "    </tr>\n",
       "    <tr>\n",
       "      <th>10971</th>\n",
       "      <td>Gibraltar</td>\n",
       "      <td>GIB</td>\n",
       "      <td>2021-07-02</td>\n",
       "      <td>10.0</td>\n",
       "      <td>39259.0</td>\n",
       "      <td>116.53</td>\n",
       "      <td>38866.0</td>\n",
       "      <td>Pfizer/BioNTech</td>\n",
       "    </tr>\n",
       "    <tr>\n",
       "      <th>10969</th>\n",
       "      <td>Gibraltar</td>\n",
       "      <td>GIB</td>\n",
       "      <td>2021-06-30</td>\n",
       "      <td>11.0</td>\n",
       "      <td>39259.0</td>\n",
       "      <td>116.53</td>\n",
       "      <td>NaN</td>\n",
       "      <td>Pfizer/BioNTech</td>\n",
       "    </tr>\n",
       "    <tr>\n",
       "      <th>10966</th>\n",
       "      <td>Gibraltar</td>\n",
       "      <td>GIB</td>\n",
       "      <td>2021-06-27</td>\n",
       "      <td>17.0</td>\n",
       "      <td>39235.0</td>\n",
       "      <td>116.46</td>\n",
       "      <td>NaN</td>\n",
       "      <td>Pfizer/BioNTech</td>\n",
       "    </tr>\n",
       "    <tr>\n",
       "      <th>10968</th>\n",
       "      <td>Gibraltar</td>\n",
       "      <td>GIB</td>\n",
       "      <td>2021-06-29</td>\n",
       "      <td>13.0</td>\n",
       "      <td>39235.0</td>\n",
       "      <td>116.46</td>\n",
       "      <td>38854.0</td>\n",
       "      <td>Pfizer/BioNTech</td>\n",
       "    </tr>\n",
       "    <tr>\n",
       "      <th>10965</th>\n",
       "      <td>Gibraltar</td>\n",
       "      <td>GIB</td>\n",
       "      <td>2021-06-26</td>\n",
       "      <td>18.0</td>\n",
       "      <td>39235.0</td>\n",
       "      <td>116.46</td>\n",
       "      <td>NaN</td>\n",
       "      <td>Pfizer/BioNTech</td>\n",
       "    </tr>\n",
       "    <tr>\n",
       "      <th>10964</th>\n",
       "      <td>Gibraltar</td>\n",
       "      <td>GIB</td>\n",
       "      <td>2021-06-25</td>\n",
       "      <td>19.0</td>\n",
       "      <td>39235.0</td>\n",
       "      <td>116.46</td>\n",
       "      <td>NaN</td>\n",
       "      <td>Pfizer/BioNTech</td>\n",
       "    </tr>\n",
       "    <tr>\n",
       "      <th>10967</th>\n",
       "      <td>Gibraltar</td>\n",
       "      <td>GIB</td>\n",
       "      <td>2021-06-28</td>\n",
       "      <td>16.0</td>\n",
       "      <td>39235.0</td>\n",
       "      <td>116.46</td>\n",
       "      <td>NaN</td>\n",
       "      <td>Pfizer/BioNTech</td>\n",
       "    </tr>\n",
       "  </tbody>\n",
       "</table>\n",
       "</div>"
      ],
      "text/plain": [
       "         country iso_code        date  daily_vaccinations  people_vaccinated  \\\n",
       "10983  Gibraltar      GIB  2021-07-14                15.0            39305.0   \n",
       "10980  Gibraltar      GIB  2021-07-11                10.0            39294.0   \n",
       "10976  Gibraltar      GIB  2021-07-07                10.0            39294.0   \n",
       "10981  Gibraltar      GIB  2021-07-12                10.0            39294.0   \n",
       "10973  Gibraltar      GIB  2021-07-04                10.0            39294.0   \n",
       "10982  Gibraltar      GIB  2021-07-13                10.0            39294.0   \n",
       "10979  Gibraltar      GIB  2021-07-10                10.0            39294.0   \n",
       "10972  Gibraltar      GIB  2021-07-03                10.0            39294.0   \n",
       "10975  Gibraltar      GIB  2021-07-06                11.0            39294.0   \n",
       "10974  Gibraltar      GIB  2021-07-05                11.0            39294.0   \n",
       "10978  Gibraltar      GIB  2021-07-09                10.0            39294.0   \n",
       "10977  Gibraltar      GIB  2021-07-08                10.0            39294.0   \n",
       "10970  Gibraltar      GIB  2021-07-01                 9.0            39259.0   \n",
       "10971  Gibraltar      GIB  2021-07-02                10.0            39259.0   \n",
       "10969  Gibraltar      GIB  2021-06-30                11.0            39259.0   \n",
       "10966  Gibraltar      GIB  2021-06-27                17.0            39235.0   \n",
       "10968  Gibraltar      GIB  2021-06-29                13.0            39235.0   \n",
       "10965  Gibraltar      GIB  2021-06-26                18.0            39235.0   \n",
       "10964  Gibraltar      GIB  2021-06-25                19.0            39235.0   \n",
       "10967  Gibraltar      GIB  2021-06-28                16.0            39235.0   \n",
       "\n",
       "       people_vaccinated_per_hundred  people_fully_vaccinated         vaccines  \n",
       "10983                         116.66                  38976.0  Pfizer/BioNTech  \n",
       "10980                         116.63                      NaN  Pfizer/BioNTech  \n",
       "10976                         116.63                      NaN  Pfizer/BioNTech  \n",
       "10981                         116.63                      NaN  Pfizer/BioNTech  \n",
       "10973                         116.63                      NaN  Pfizer/BioNTech  \n",
       "10982                         116.63                  38939.0  Pfizer/BioNTech  \n",
       "10979                         116.63                      NaN  Pfizer/BioNTech  \n",
       "10972                         116.63                      NaN  Pfizer/BioNTech  \n",
       "10975                         116.63                      NaN  Pfizer/BioNTech  \n",
       "10974                         116.63                      NaN  Pfizer/BioNTech  \n",
       "10978                         116.63                      NaN  Pfizer/BioNTech  \n",
       "10977                         116.63                      NaN  Pfizer/BioNTech  \n",
       "10970                         116.53                      NaN  Pfizer/BioNTech  \n",
       "10971                         116.53                  38866.0  Pfizer/BioNTech  \n",
       "10969                         116.53                      NaN  Pfizer/BioNTech  \n",
       "10966                         116.46                      NaN  Pfizer/BioNTech  \n",
       "10968                         116.46                  38854.0  Pfizer/BioNTech  \n",
       "10965                         116.46                      NaN  Pfizer/BioNTech  \n",
       "10964                         116.46                      NaN  Pfizer/BioNTech  \n",
       "10967                         116.46                      NaN  Pfizer/BioNTech  "
      ]
     },
     "execution_count": 41,
     "metadata": {},
     "output_type": "execute_result"
    }
   ],
   "source": [
    "#data.sort_values(\"people_vaccinated_per_hundred\")\n",
    "\n",
    "data_percent = data.sort_values(by=\"people_vaccinated_per_hundred\",ascending=False)\n",
    "data_percent.head(20)"
   ]
  },
  {
   "cell_type": "code",
   "execution_count": 42,
   "metadata": {},
   "outputs": [],
   "source": [
    "#drop_duplicates(data, subset=None, keep=\"last\", inplace=False)"
   ]
  },
  {
   "cell_type": "code",
   "execution_count": 43,
   "metadata": {},
   "outputs": [
    {
     "data": {
      "text/html": [
       "<div>\n",
       "<style scoped>\n",
       "    .dataframe tbody tr th:only-of-type {\n",
       "        vertical-align: middle;\n",
       "    }\n",
       "\n",
       "    .dataframe tbody tr th {\n",
       "        vertical-align: top;\n",
       "    }\n",
       "\n",
       "    .dataframe thead th {\n",
       "        text-align: right;\n",
       "    }\n",
       "</style>\n",
       "<table border=\"1\" class=\"dataframe\">\n",
       "  <thead>\n",
       "    <tr style=\"text-align: right;\">\n",
       "      <th></th>\n",
       "      <th>country</th>\n",
       "      <th>iso_code</th>\n",
       "      <th>date</th>\n",
       "      <th>daily_vaccinations</th>\n",
       "      <th>people_vaccinated</th>\n",
       "      <th>people_vaccinated_per_hundred</th>\n",
       "      <th>people_fully_vaccinated</th>\n",
       "      <th>vaccines</th>\n",
       "    </tr>\n",
       "  </thead>\n",
       "  <tbody>\n",
       "    <tr>\n",
       "      <th>10983</th>\n",
       "      <td>Gibraltar</td>\n",
       "      <td>GIB</td>\n",
       "      <td>2021-07-14</td>\n",
       "      <td>15.0</td>\n",
       "      <td>39305.0</td>\n",
       "      <td>116.66</td>\n",
       "      <td>38976.0</td>\n",
       "      <td>Pfizer/BioNTech</td>\n",
       "    </tr>\n",
       "    <tr>\n",
       "      <th>22666</th>\n",
       "      <td>Pitcairn</td>\n",
       "      <td>PCN</td>\n",
       "      <td>2021-06-16</td>\n",
       "      <td>0.0</td>\n",
       "      <td>47.0</td>\n",
       "      <td>100.00</td>\n",
       "      <td>NaN</td>\n",
       "      <td>Oxford/AstraZeneca</td>\n",
       "    </tr>\n",
       "    <tr>\n",
       "      <th>17806</th>\n",
       "      <td>Malta</td>\n",
       "      <td>MLT</td>\n",
       "      <td>2021-07-16</td>\n",
       "      <td>2498.0</td>\n",
       "      <td>381764.0</td>\n",
       "      <td>86.46</td>\n",
       "      <td>355883.0</td>\n",
       "      <td>Johnson&amp;Johnson, Moderna, Oxford/AstraZeneca, ...</td>\n",
       "    </tr>\n",
       "    <tr>\n",
       "      <th>12816</th>\n",
       "      <td>Iceland</td>\n",
       "      <td>ISL</td>\n",
       "      <td>2021-07-15</td>\n",
       "      <td>2197.0</td>\n",
       "      <td>267154.0</td>\n",
       "      <td>78.29</td>\n",
       "      <td>252152.0</td>\n",
       "      <td>Johnson&amp;Johnson, Moderna, Oxford/AstraZeneca, ...</td>\n",
       "    </tr>\n",
       "    <tr>\n",
       "      <th>29831</th>\n",
       "      <td>United Arab Emirates</td>\n",
       "      <td>ARE</td>\n",
       "      <td>2021-07-17</td>\n",
       "      <td>60842.0</td>\n",
       "      <td>7674812.0</td>\n",
       "      <td>77.60</td>\n",
       "      <td>6735241.0</td>\n",
       "      <td>Oxford/AstraZeneca, Pfizer/BioNTech, Sinopharm...</td>\n",
       "    </tr>\n",
       "    <tr>\n",
       "      <th>...</th>\n",
       "      <td>...</td>\n",
       "      <td>...</td>\n",
       "      <td>...</td>\n",
       "      <td>...</td>\n",
       "      <td>...</td>\n",
       "      <td>...</td>\n",
       "      <td>...</td>\n",
       "      <td>...</td>\n",
       "    </tr>\n",
       "    <tr>\n",
       "      <th>3217</th>\n",
       "      <td>Benin</td>\n",
       "      <td>BEN</td>\n",
       "      <td>2021-07-10</td>\n",
       "      <td>461.0</td>\n",
       "      <td>40270.0</td>\n",
       "      <td>0.33</td>\n",
       "      <td>NaN</td>\n",
       "      <td>Oxford/AstraZeneca, Sinovac</td>\n",
       "    </tr>\n",
       "    <tr>\n",
       "      <th>4510</th>\n",
       "      <td>Burkina Faso</td>\n",
       "      <td>BFA</td>\n",
       "      <td>2021-07-08</td>\n",
       "      <td>580.0</td>\n",
       "      <td>30479.0</td>\n",
       "      <td>0.15</td>\n",
       "      <td>NaN</td>\n",
       "      <td>Oxford/AstraZeneca</td>\n",
       "    </tr>\n",
       "    <tr>\n",
       "      <th>5388</th>\n",
       "      <td>Chad</td>\n",
       "      <td>TCD</td>\n",
       "      <td>2021-07-15</td>\n",
       "      <td>498.0</td>\n",
       "      <td>18484.0</td>\n",
       "      <td>0.11</td>\n",
       "      <td>5975.0</td>\n",
       "      <td>Sinopharm/Beijing</td>\n",
       "    </tr>\n",
       "    <tr>\n",
       "      <th>7347</th>\n",
       "      <td>Democratic Republic of Congo</td>\n",
       "      <td>COD</td>\n",
       "      <td>2021-07-11</td>\n",
       "      <td>1129.0</td>\n",
       "      <td>44840.0</td>\n",
       "      <td>0.05</td>\n",
       "      <td>NaN</td>\n",
       "      <td>Oxford/AstraZeneca</td>\n",
       "    </tr>\n",
       "    <tr>\n",
       "      <th>12146</th>\n",
       "      <td>Haiti</td>\n",
       "      <td>HTI</td>\n",
       "      <td>2021-07-16</td>\n",
       "      <td>NaN</td>\n",
       "      <td>38.0</td>\n",
       "      <td>0.00</td>\n",
       "      <td>NaN</td>\n",
       "      <td>Oxford/AstraZeneca</td>\n",
       "    </tr>\n",
       "  </tbody>\n",
       "</table>\n",
       "<p>219 rows × 8 columns</p>\n",
       "</div>"
      ],
      "text/plain": [
       "                            country iso_code        date  daily_vaccinations  \\\n",
       "10983                     Gibraltar      GIB  2021-07-14                15.0   \n",
       "22666                      Pitcairn      PCN  2021-06-16                 0.0   \n",
       "17806                         Malta      MLT  2021-07-16              2498.0   \n",
       "12816                       Iceland      ISL  2021-07-15              2197.0   \n",
       "29831          United Arab Emirates      ARE  2021-07-17             60842.0   \n",
       "...                             ...      ...         ...                 ...   \n",
       "3217                          Benin      BEN  2021-07-10               461.0   \n",
       "4510                   Burkina Faso      BFA  2021-07-08               580.0   \n",
       "5388                           Chad      TCD  2021-07-15               498.0   \n",
       "7347   Democratic Republic of Congo      COD  2021-07-11              1129.0   \n",
       "12146                         Haiti      HTI  2021-07-16                 NaN   \n",
       "\n",
       "       people_vaccinated  people_vaccinated_per_hundred  \\\n",
       "10983            39305.0                         116.66   \n",
       "22666               47.0                         100.00   \n",
       "17806           381764.0                          86.46   \n",
       "12816           267154.0                          78.29   \n",
       "29831          7674812.0                          77.60   \n",
       "...                  ...                            ...   \n",
       "3217             40270.0                           0.33   \n",
       "4510             30479.0                           0.15   \n",
       "5388             18484.0                           0.11   \n",
       "7347             44840.0                           0.05   \n",
       "12146               38.0                           0.00   \n",
       "\n",
       "       people_fully_vaccinated  \\\n",
       "10983                  38976.0   \n",
       "22666                      NaN   \n",
       "17806                 355883.0   \n",
       "12816                 252152.0   \n",
       "29831                6735241.0   \n",
       "...                        ...   \n",
       "3217                       NaN   \n",
       "4510                       NaN   \n",
       "5388                    5975.0   \n",
       "7347                       NaN   \n",
       "12146                      NaN   \n",
       "\n",
       "                                                vaccines  \n",
       "10983                                    Pfizer/BioNTech  \n",
       "22666                                 Oxford/AstraZeneca  \n",
       "17806  Johnson&Johnson, Moderna, Oxford/AstraZeneca, ...  \n",
       "12816  Johnson&Johnson, Moderna, Oxford/AstraZeneca, ...  \n",
       "29831  Oxford/AstraZeneca, Pfizer/BioNTech, Sinopharm...  \n",
       "...                                                  ...  \n",
       "3217                         Oxford/AstraZeneca, Sinovac  \n",
       "4510                                  Oxford/AstraZeneca  \n",
       "5388                                   Sinopharm/Beijing  \n",
       "7347                                  Oxford/AstraZeneca  \n",
       "12146                                 Oxford/AstraZeneca  \n",
       "\n",
       "[219 rows x 8 columns]"
      ]
     },
     "execution_count": 43,
     "metadata": {},
     "output_type": "execute_result"
    }
   ],
   "source": [
    "data_percent.drop_duplicates(['country'], keep='first', inplace=True)\n",
    "data_percent = data_percent.sort_values(by=\"people_vaccinated_per_hundred\",ascending=False)\n",
    "\n",
    "data_percent"
   ]
  },
  {
   "cell_type": "code",
   "execution_count": 44,
   "metadata": {},
   "outputs": [
    {
     "data": {
      "text/html": [
       "<div>\n",
       "<style scoped>\n",
       "    .dataframe tbody tr th:only-of-type {\n",
       "        vertical-align: middle;\n",
       "    }\n",
       "\n",
       "    .dataframe tbody tr th {\n",
       "        vertical-align: top;\n",
       "    }\n",
       "\n",
       "    .dataframe thead th {\n",
       "        text-align: right;\n",
       "    }\n",
       "</style>\n",
       "<table border=\"1\" class=\"dataframe\">\n",
       "  <thead>\n",
       "    <tr style=\"text-align: right;\">\n",
       "      <th></th>\n",
       "      <th>country</th>\n",
       "      <th>iso_code</th>\n",
       "      <th>date</th>\n",
       "      <th>daily_vaccinations</th>\n",
       "      <th>people_vaccinated</th>\n",
       "      <th>people_vaccinated_per_hundred</th>\n",
       "      <th>people_fully_vaccinated</th>\n",
       "      <th>vaccines</th>\n",
       "      <th>percent</th>\n",
       "    </tr>\n",
       "  </thead>\n",
       "  <tbody>\n",
       "    <tr>\n",
       "      <th>10983</th>\n",
       "      <td>Gibraltar</td>\n",
       "      <td>GIB</td>\n",
       "      <td>2021-07-14</td>\n",
       "      <td>15.0</td>\n",
       "      <td>39305.0</td>\n",
       "      <td>116.66</td>\n",
       "      <td>38976.0</td>\n",
       "      <td>Pfizer/BioNTech</td>\n",
       "      <td>1.1666</td>\n",
       "    </tr>\n",
       "    <tr>\n",
       "      <th>22666</th>\n",
       "      <td>Pitcairn</td>\n",
       "      <td>PCN</td>\n",
       "      <td>2021-06-16</td>\n",
       "      <td>0.0</td>\n",
       "      <td>47.0</td>\n",
       "      <td>100.00</td>\n",
       "      <td>NaN</td>\n",
       "      <td>Oxford/AstraZeneca</td>\n",
       "      <td>1.0000</td>\n",
       "    </tr>\n",
       "    <tr>\n",
       "      <th>17806</th>\n",
       "      <td>Malta</td>\n",
       "      <td>MLT</td>\n",
       "      <td>2021-07-16</td>\n",
       "      <td>2498.0</td>\n",
       "      <td>381764.0</td>\n",
       "      <td>86.46</td>\n",
       "      <td>355883.0</td>\n",
       "      <td>Johnson&amp;Johnson, Moderna, Oxford/AstraZeneca, ...</td>\n",
       "      <td>0.8646</td>\n",
       "    </tr>\n",
       "    <tr>\n",
       "      <th>12816</th>\n",
       "      <td>Iceland</td>\n",
       "      <td>ISL</td>\n",
       "      <td>2021-07-15</td>\n",
       "      <td>2197.0</td>\n",
       "      <td>267154.0</td>\n",
       "      <td>78.29</td>\n",
       "      <td>252152.0</td>\n",
       "      <td>Johnson&amp;Johnson, Moderna, Oxford/AstraZeneca, ...</td>\n",
       "      <td>0.7829</td>\n",
       "    </tr>\n",
       "    <tr>\n",
       "      <th>29831</th>\n",
       "      <td>United Arab Emirates</td>\n",
       "      <td>ARE</td>\n",
       "      <td>2021-07-17</td>\n",
       "      <td>60842.0</td>\n",
       "      <td>7674812.0</td>\n",
       "      <td>77.60</td>\n",
       "      <td>6735241.0</td>\n",
       "      <td>Oxford/AstraZeneca, Pfizer/BioNTech, Sinopharm...</td>\n",
       "      <td>0.7760</td>\n",
       "    </tr>\n",
       "    <tr>\n",
       "      <th>...</th>\n",
       "      <td>...</td>\n",
       "      <td>...</td>\n",
       "      <td>...</td>\n",
       "      <td>...</td>\n",
       "      <td>...</td>\n",
       "      <td>...</td>\n",
       "      <td>...</td>\n",
       "      <td>...</td>\n",
       "      <td>...</td>\n",
       "    </tr>\n",
       "    <tr>\n",
       "      <th>3217</th>\n",
       "      <td>Benin</td>\n",
       "      <td>BEN</td>\n",
       "      <td>2021-07-10</td>\n",
       "      <td>461.0</td>\n",
       "      <td>40270.0</td>\n",
       "      <td>0.33</td>\n",
       "      <td>NaN</td>\n",
       "      <td>Oxford/AstraZeneca, Sinovac</td>\n",
       "      <td>0.0033</td>\n",
       "    </tr>\n",
       "    <tr>\n",
       "      <th>4510</th>\n",
       "      <td>Burkina Faso</td>\n",
       "      <td>BFA</td>\n",
       "      <td>2021-07-08</td>\n",
       "      <td>580.0</td>\n",
       "      <td>30479.0</td>\n",
       "      <td>0.15</td>\n",
       "      <td>NaN</td>\n",
       "      <td>Oxford/AstraZeneca</td>\n",
       "      <td>0.0015</td>\n",
       "    </tr>\n",
       "    <tr>\n",
       "      <th>5388</th>\n",
       "      <td>Chad</td>\n",
       "      <td>TCD</td>\n",
       "      <td>2021-07-15</td>\n",
       "      <td>498.0</td>\n",
       "      <td>18484.0</td>\n",
       "      <td>0.11</td>\n",
       "      <td>5975.0</td>\n",
       "      <td>Sinopharm/Beijing</td>\n",
       "      <td>0.0011</td>\n",
       "    </tr>\n",
       "    <tr>\n",
       "      <th>7347</th>\n",
       "      <td>Democratic Republic of Congo</td>\n",
       "      <td>COD</td>\n",
       "      <td>2021-07-11</td>\n",
       "      <td>1129.0</td>\n",
       "      <td>44840.0</td>\n",
       "      <td>0.05</td>\n",
       "      <td>NaN</td>\n",
       "      <td>Oxford/AstraZeneca</td>\n",
       "      <td>0.0005</td>\n",
       "    </tr>\n",
       "    <tr>\n",
       "      <th>12146</th>\n",
       "      <td>Haiti</td>\n",
       "      <td>HTI</td>\n",
       "      <td>2021-07-16</td>\n",
       "      <td>NaN</td>\n",
       "      <td>38.0</td>\n",
       "      <td>0.00</td>\n",
       "      <td>NaN</td>\n",
       "      <td>Oxford/AstraZeneca</td>\n",
       "      <td>0.0000</td>\n",
       "    </tr>\n",
       "  </tbody>\n",
       "</table>\n",
       "<p>219 rows × 9 columns</p>\n",
       "</div>"
      ],
      "text/plain": [
       "                            country iso_code        date  daily_vaccinations  \\\n",
       "10983                     Gibraltar      GIB  2021-07-14                15.0   \n",
       "22666                      Pitcairn      PCN  2021-06-16                 0.0   \n",
       "17806                         Malta      MLT  2021-07-16              2498.0   \n",
       "12816                       Iceland      ISL  2021-07-15              2197.0   \n",
       "29831          United Arab Emirates      ARE  2021-07-17             60842.0   \n",
       "...                             ...      ...         ...                 ...   \n",
       "3217                          Benin      BEN  2021-07-10               461.0   \n",
       "4510                   Burkina Faso      BFA  2021-07-08               580.0   \n",
       "5388                           Chad      TCD  2021-07-15               498.0   \n",
       "7347   Democratic Republic of Congo      COD  2021-07-11              1129.0   \n",
       "12146                         Haiti      HTI  2021-07-16                 NaN   \n",
       "\n",
       "       people_vaccinated  people_vaccinated_per_hundred  \\\n",
       "10983            39305.0                         116.66   \n",
       "22666               47.0                         100.00   \n",
       "17806           381764.0                          86.46   \n",
       "12816           267154.0                          78.29   \n",
       "29831          7674812.0                          77.60   \n",
       "...                  ...                            ...   \n",
       "3217             40270.0                           0.33   \n",
       "4510             30479.0                           0.15   \n",
       "5388             18484.0                           0.11   \n",
       "7347             44840.0                           0.05   \n",
       "12146               38.0                           0.00   \n",
       "\n",
       "       people_fully_vaccinated  \\\n",
       "10983                  38976.0   \n",
       "22666                      NaN   \n",
       "17806                 355883.0   \n",
       "12816                 252152.0   \n",
       "29831                6735241.0   \n",
       "...                        ...   \n",
       "3217                       NaN   \n",
       "4510                       NaN   \n",
       "5388                    5975.0   \n",
       "7347                       NaN   \n",
       "12146                      NaN   \n",
       "\n",
       "                                                vaccines  percent  \n",
       "10983                                    Pfizer/BioNTech   1.1666  \n",
       "22666                                 Oxford/AstraZeneca   1.0000  \n",
       "17806  Johnson&Johnson, Moderna, Oxford/AstraZeneca, ...   0.8646  \n",
       "12816  Johnson&Johnson, Moderna, Oxford/AstraZeneca, ...   0.7829  \n",
       "29831  Oxford/AstraZeneca, Pfizer/BioNTech, Sinopharm...   0.7760  \n",
       "...                                                  ...      ...  \n",
       "3217                         Oxford/AstraZeneca, Sinovac   0.0033  \n",
       "4510                                  Oxford/AstraZeneca   0.0015  \n",
       "5388                                   Sinopharm/Beijing   0.0011  \n",
       "7347                                  Oxford/AstraZeneca   0.0005  \n",
       "12146                                 Oxford/AstraZeneca   0.0000  \n",
       "\n",
       "[219 rows x 9 columns]"
      ]
     },
     "execution_count": 44,
     "metadata": {},
     "output_type": "execute_result"
    }
   ],
   "source": [
    "data_percent['percent'] = data_percent.people_vaccinated_per_hundred / 100\n",
    "data_percent"
   ]
  },
  {
   "cell_type": "code",
   "execution_count": 45,
   "metadata": {},
   "outputs": [
    {
     "data": {
      "text/html": [
       "<div>\n",
       "<style scoped>\n",
       "    .dataframe tbody tr th:only-of-type {\n",
       "        vertical-align: middle;\n",
       "    }\n",
       "\n",
       "    .dataframe tbody tr th {\n",
       "        vertical-align: top;\n",
       "    }\n",
       "\n",
       "    .dataframe thead th {\n",
       "        text-align: right;\n",
       "    }\n",
       "</style>\n",
       "<table border=\"1\" class=\"dataframe\">\n",
       "  <thead>\n",
       "    <tr style=\"text-align: right;\">\n",
       "      <th></th>\n",
       "      <th>country</th>\n",
       "      <th>iso_code</th>\n",
       "      <th>date</th>\n",
       "      <th>daily_vaccinations</th>\n",
       "      <th>people_vaccinated</th>\n",
       "      <th>people_vaccinated_per_hundred</th>\n",
       "      <th>people_fully_vaccinated</th>\n",
       "      <th>vaccines</th>\n",
       "      <th>percent</th>\n",
       "    </tr>\n",
       "  </thead>\n",
       "  <tbody>\n",
       "    <tr>\n",
       "      <th>10983</th>\n",
       "      <td>Gibraltar</td>\n",
       "      <td>GIB</td>\n",
       "      <td>2021-07-14</td>\n",
       "      <td>15.0</td>\n",
       "      <td>39305.0</td>\n",
       "      <td>116.66</td>\n",
       "      <td>38976.0</td>\n",
       "      <td>Pfizer/BioNTech</td>\n",
       "      <td>1.1666</td>\n",
       "    </tr>\n",
       "    <tr>\n",
       "      <th>22666</th>\n",
       "      <td>Pitcairn</td>\n",
       "      <td>PCN</td>\n",
       "      <td>2021-06-16</td>\n",
       "      <td>0.0</td>\n",
       "      <td>47.0</td>\n",
       "      <td>100.00</td>\n",
       "      <td>NaN</td>\n",
       "      <td>Oxford/AstraZeneca</td>\n",
       "      <td>1.0000</td>\n",
       "    </tr>\n",
       "    <tr>\n",
       "      <th>17806</th>\n",
       "      <td>Malta</td>\n",
       "      <td>MLT</td>\n",
       "      <td>2021-07-16</td>\n",
       "      <td>2498.0</td>\n",
       "      <td>381764.0</td>\n",
       "      <td>86.46</td>\n",
       "      <td>355883.0</td>\n",
       "      <td>Johnson&amp;Johnson, Moderna, Oxford/AstraZeneca, ...</td>\n",
       "      <td>0.8646</td>\n",
       "    </tr>\n",
       "    <tr>\n",
       "      <th>12816</th>\n",
       "      <td>Iceland</td>\n",
       "      <td>ISL</td>\n",
       "      <td>2021-07-15</td>\n",
       "      <td>2197.0</td>\n",
       "      <td>267154.0</td>\n",
       "      <td>78.29</td>\n",
       "      <td>252152.0</td>\n",
       "      <td>Johnson&amp;Johnson, Moderna, Oxford/AstraZeneca, ...</td>\n",
       "      <td>0.7829</td>\n",
       "    </tr>\n",
       "    <tr>\n",
       "      <th>29831</th>\n",
       "      <td>United Arab Emirates</td>\n",
       "      <td>ARE</td>\n",
       "      <td>2021-07-17</td>\n",
       "      <td>60842.0</td>\n",
       "      <td>7674812.0</td>\n",
       "      <td>77.60</td>\n",
       "      <td>6735241.0</td>\n",
       "      <td>Oxford/AstraZeneca, Pfizer/BioNTech, Sinopharm...</td>\n",
       "      <td>0.7760</td>\n",
       "    </tr>\n",
       "    <tr>\n",
       "      <th>13845</th>\n",
       "      <td>Isle of Man</td>\n",
       "      <td>IMN</td>\n",
       "      <td>2021-07-17</td>\n",
       "      <td>661.0</td>\n",
       "      <td>64404.0</td>\n",
       "      <td>75.74</td>\n",
       "      <td>53821.0</td>\n",
       "      <td>Oxford/AstraZeneca, Pfizer/BioNTech</td>\n",
       "      <td>0.7574</td>\n",
       "    </tr>\n",
       "    <tr>\n",
       "      <th>9420</th>\n",
       "      <td>Falkland Islands</td>\n",
       "      <td>FLK</td>\n",
       "      <td>2021-04-14</td>\n",
       "      <td>12.0</td>\n",
       "      <td>2632.0</td>\n",
       "      <td>75.57</td>\n",
       "      <td>1775.0</td>\n",
       "      <td>Oxford/AstraZeneca</td>\n",
       "      <td>0.7557</td>\n",
       "    </tr>\n",
       "    <tr>\n",
       "      <th>5302</th>\n",
       "      <td>Cayman Islands</td>\n",
       "      <td>CYM</td>\n",
       "      <td>2021-07-15</td>\n",
       "      <td>175.0</td>\n",
       "      <td>49141.0</td>\n",
       "      <td>74.77</td>\n",
       "      <td>46360.0</td>\n",
       "      <td>Oxford/AstraZeneca, Pfizer/BioNTech</td>\n",
       "      <td>0.7477</td>\n",
       "    </tr>\n",
       "    <tr>\n",
       "      <th>20724</th>\n",
       "      <td>Niue</td>\n",
       "      <td>NIU</td>\n",
       "      <td>2021-07-01</td>\n",
       "      <td>83.0</td>\n",
       "      <td>1184.0</td>\n",
       "      <td>73.18</td>\n",
       "      <td>NaN</td>\n",
       "      <td>Oxford/AstraZeneca</td>\n",
       "      <td>0.7318</td>\n",
       "    </tr>\n",
       "    <tr>\n",
       "      <th>25586</th>\n",
       "      <td>Seychelles</td>\n",
       "      <td>SYC</td>\n",
       "      <td>2021-07-01</td>\n",
       "      <td>116.0</td>\n",
       "      <td>71490.0</td>\n",
       "      <td>72.70</td>\n",
       "      <td>NaN</td>\n",
       "      <td>Oxford/AstraZeneca, Sinopharm/Beijing</td>\n",
       "      <td>0.7270</td>\n",
       "    </tr>\n",
       "  </tbody>\n",
       "</table>\n",
       "</div>"
      ],
      "text/plain": [
       "                    country iso_code        date  daily_vaccinations  \\\n",
       "10983             Gibraltar      GIB  2021-07-14                15.0   \n",
       "22666              Pitcairn      PCN  2021-06-16                 0.0   \n",
       "17806                 Malta      MLT  2021-07-16              2498.0   \n",
       "12816               Iceland      ISL  2021-07-15              2197.0   \n",
       "29831  United Arab Emirates      ARE  2021-07-17             60842.0   \n",
       "13845           Isle of Man      IMN  2021-07-17               661.0   \n",
       "9420       Falkland Islands      FLK  2021-04-14                12.0   \n",
       "5302         Cayman Islands      CYM  2021-07-15               175.0   \n",
       "20724                  Niue      NIU  2021-07-01                83.0   \n",
       "25586            Seychelles      SYC  2021-07-01               116.0   \n",
       "\n",
       "       people_vaccinated  people_vaccinated_per_hundred  \\\n",
       "10983            39305.0                         116.66   \n",
       "22666               47.0                         100.00   \n",
       "17806           381764.0                          86.46   \n",
       "12816           267154.0                          78.29   \n",
       "29831          7674812.0                          77.60   \n",
       "13845            64404.0                          75.74   \n",
       "9420              2632.0                          75.57   \n",
       "5302             49141.0                          74.77   \n",
       "20724             1184.0                          73.18   \n",
       "25586            71490.0                          72.70   \n",
       "\n",
       "       people_fully_vaccinated  \\\n",
       "10983                  38976.0   \n",
       "22666                      NaN   \n",
       "17806                 355883.0   \n",
       "12816                 252152.0   \n",
       "29831                6735241.0   \n",
       "13845                  53821.0   \n",
       "9420                    1775.0   \n",
       "5302                   46360.0   \n",
       "20724                      NaN   \n",
       "25586                      NaN   \n",
       "\n",
       "                                                vaccines  percent  \n",
       "10983                                    Pfizer/BioNTech   1.1666  \n",
       "22666                                 Oxford/AstraZeneca   1.0000  \n",
       "17806  Johnson&Johnson, Moderna, Oxford/AstraZeneca, ...   0.8646  \n",
       "12816  Johnson&Johnson, Moderna, Oxford/AstraZeneca, ...   0.7829  \n",
       "29831  Oxford/AstraZeneca, Pfizer/BioNTech, Sinopharm...   0.7760  \n",
       "13845                Oxford/AstraZeneca, Pfizer/BioNTech   0.7574  \n",
       "9420                                  Oxford/AstraZeneca   0.7557  \n",
       "5302                 Oxford/AstraZeneca, Pfizer/BioNTech   0.7477  \n",
       "20724                                 Oxford/AstraZeneca   0.7318  \n",
       "25586              Oxford/AstraZeneca, Sinopharm/Beijing   0.7270  "
      ]
     },
     "execution_count": 45,
     "metadata": {},
     "output_type": "execute_result"
    }
   ],
   "source": [
    "data_short = data_percent.head(10)\n",
    "data_short"
   ]
  },
  {
   "cell_type": "code",
   "execution_count": 46,
   "metadata": {
    "scrolled": true
   },
   "outputs": [
    {
     "data": {
      "image/png": "[encoded data removed]",
      "text/plain": [
       "<Figure size 432x288 with 1 Axes>"
      ]
     },
     "metadata": {
      "needs_background": "light"
     },
     "output_type": "display_data"
    }
   ],
   "source": [
    "import matplotlib.pyplot as plt\n",
    "fig = plt.figure()\n",
    "ax = fig.add_axes([0,0,1,1])\n",
    "ax.bar(data_short.country,data_short.percent)\n",
    "ax.set_ylabel('Percentage')\n",
    "ax.set_title('Percentage of Population Vaccinated')\n",
    "plt.xticks(rotation=90)\n",
    "plt.bar(data_short.country, data_short.percent, color=['salmon', 'orange', 'gold', 'lightgreen', 'paleturquoise', \"plum\", \"pink\", \"peachpuff\", \"silver\", 'aquamarine'])\n",
    "plt.show()\n"
   ]
  },
  {
   "cell_type": "code",
   "execution_count": 92,
   "metadata": {
    "scrolled": true
   },
   "outputs": [
    {
     "data": {
      "application/vnd.plotly.v1+json": {
       "config": {
        "plotlyServerURL": "https://plot.ly"
       },
       "data": [
        {
         "coloraxis": "coloraxis",
         "geo": "geo",
         "hovertemplate": "<b>%{hovertext}</b><br><br>iso_code=%{location}<br>percent=%{z}<extra></extra>",
         "hovertext": [
          "Gibraltar",
          "Pitcairn",
          "Malta",
          "Iceland",
          "United Arab Emirates",
          "Isle of Man",
          "Falkland Islands",
          "Cayman Islands",
          "Niue",
          "Seychelles",
          "Scotland",
          "Wales",
          "Saint Helena",
          "Jersey",
          "Uruguay",
          "Chile",
          "Singapore",
          "Canada",
          "Nauru",
          "England",
          "Faeroe Islands",
          "United Kingdom",
          "Netherlands",
          "San Marino",
          "Denmark",
          "Bermuda",
          "Aruba",
          "Belgium",
          "Israel",
          "Qatar",
          "Bahrain",
          "Mongolia",
          "Finland",
          "Portugal",
          "Northern Ireland",
          "Bhutan",
          "Anguilla",
          "Spain",
          "Turks and Caicos Islands",
          "Ireland",
          "Luxembourg",
          "Italy",
          "Maldives",
          "Germany",
          "Norway",
          "Sweden",
          "Greenland",
          "Hungary",
          "Austria",
          "Cyprus",
          "Cook Islands",
          "United States",
          "Curacao",
          "France",
          "Andorra",
          "Monaco",
          "Saudi Arabia",
          "Sint Maarten (Dutch part)",
          "Liechtenstein",
          "Switzerland",
          "Greece",
          "Czechia",
          "Dominican Republic",
          "Guernsey",
          "Lithuania",
          "Argentina",
          "Mauritius",
          "Poland",
          "Turkey",
          "Estonia",
          "British Virgin Islands",
          "Brazil",
          "Saint Kitts and Nevis",
          "China",
          "Slovenia",
          "Macao",
          "Wallis and Futuna",
          "Serbia",
          "Tuvalu",
          "Slovakia",
          "Fiji",
          "Croatia",
          "Latvia",
          "Antigua and Barbuda",
          "Hong Kong",
          "Costa Rica",
          "El Salvador",
          "Cambodia",
          "Kuwait",
          "Barbados",
          "Ecuador",
          "Japan",
          "South Korea",
          "Suriname",
          "Guyana",
          "Morocco",
          "Malaysia",
          "Mexico",
          "Cuba",
          "Montserrat",
          "Colombia",
          "Northern Cyprus",
          "Dominica",
          "Australia",
          "Oman",
          "Belize",
          "Tonga",
          "Panama",
          "French Polynesia",
          "Samoa",
          "Jordan",
          "Kazakhstan",
          "Montenegro",
          "Azerbaijan",
          "Romania",
          "Sri Lanka",
          "Brunei",
          "India",
          "Bonaire Sint Eustatius and Saba",
          "Russia",
          "North Macedonia",
          "New Caledonia",
          "Albania",
          "Taiwan",
          "Cape Verde",
          "Bolivia",
          "Peru",
          "Timor",
          "Grenada",
          "Trinidad and Tobago",
          "New Zealand",
          "Saint Lucia",
          "Saint Vincent and the Grenadines",
          "Thailand",
          "Lebanon",
          "Bahamas",
          "Indonesia",
          "Bulgaria",
          "Laos",
          "Tunisia",
          "Moldova",
          "Sao Tome and Principe",
          "Equatorial Guinea",
          "Palestine",
          "Honduras",
          "Venezuela",
          "Nepal",
          "Paraguay",
          "Kosovo",
          "Bosnia and Herzegovina",
          "Philippines",
          "Belarus",
          "Botswana",
          "South Africa",
          "Zimbabwe",
          "Armenia",
          "Uzbekistan",
          "Libya",
          "Ukraine",
          "Jamaica",
          "Algeria",
          "Guatemala",
          "Namibia",
          "Iran",
          "Comoros",
          "Vanuatu",
          "Georgia",
          "Pakistan",
          "Vietnam",
          "Tajikistan",
          "Guinea",
          "Mauritania",
          "Bangladesh",
          "Egypt",
          "Senegal",
          "Myanmar",
          "Cote d'Ivoire",
          "Eswatini",
          "Togo",
          "Rwanda",
          "Congo",
          "Angola",
          "Solomon Islands",
          "Ghana",
          "Nicaragua",
          "Uganda",
          "Gabon",
          "Malawi",
          "Afghanistan",
          "Kenya",
          "Iraq",
          "Liberia",
          "Lesotho",
          "Ethiopia",
          "Central African Republic",
          "Kyrgyzstan",
          "Niger",
          "Gambia",
          "Djibouti",
          "Sudan",
          "Nigeria",
          "Guinea-Bissau",
          "Zambia",
          "Mozambique",
          "Sierra Leone",
          "Somalia",
          "Yemen",
          "Mali",
          "Madagascar",
          "Syria",
          "Papua New Guinea",
          "Turkmenistan",
          "Cameroon",
          "South Sudan",
          "Benin",
          "Burkina Faso",
          "Chad",
          "Democratic Republic of Congo",
          "Haiti"
         ],
         "locations": [
          "GIB",
          "PCN",
          "MLT",
          "ISL",
          "ARE",
          "IMN",
          "FLK",
          "CYM",
          "NIU",
          "SYC",
          "OWID_SCT",
          "OWID_WLS",
          "SHN",
          "JEY",
          "URY",
          "CHL",
          "SGP",
          "CAN",
          "NRU",
          "OWID_ENG",
          "FRO",
          "GBR",
          "NLD",
          "SMR",
          "DNK",
          "BMU",
          "ABW",
          "BEL",
          "ISR",
          "QAT",
          "BHR",
          "MNG",
          "FIN",
          "PRT",
          "OWID_NIR",
          "BTN",
          "AIA",
          "ESP",
          "TCA",
          "IRL",
          "LUX",
          "ITA",
          "MDV",
          "DEU",
          "NOR",
          "SWE",
          "GRL",
          "HUN",
          "AUT",
          "CYP",
          "COK",
          "USA",
          "CUW",
          "FRA",
          "AND",
          "MCO",
          "SAU",
          "SXM",
          "LIE",
          "CHE",
          "GRC",
          "CZE",
          "DOM",
          "GGY",
          "LTU",
          "ARG",
          "MUS",
          "POL",
          "TUR",
          "EST",
          "VGB",
          "BRA",
          "KNA",
          "CHN",
          "SVN",
          "MAC",
          "WLF",
          "SRB",
          "TUV",
          "SVK",
          "FJI",
          "HRV",
          "LVA",
          "ATG",
          "HKG",
          "CRI",
          "SLV",
          "KHM",
          "KWT",
          "BRB",
          "ECU",
          "JPN",
          "KOR",
          "SUR",
          "GUY",
          "MAR",
          "MYS",
          "MEX",
          "CUB",
          "MSR",
          "COL",
          "OWID_CYN",
          "DMA",
          "AUS",
          "OMN",
          "BLZ",
          "TON",
          "PAN",
          "PYF",
          "WSM",
          "JOR",
          "KAZ",
          "MNE",
          "AZE",
          "ROU",
          "LKA",
          "BRN",
          "IND",
          "BES",
          "RUS",
          "MKD",
          "NCL",
          "ALB",
          "TWN",
          "CPV",
          "BOL",
          "PER",
          "TLS",
          "GRD",
          "TTO",
          "NZL",
          "LCA",
          "VCT",
          "THA",
          "LBN",
          "BHS",
          "IDN",
          "BGR",
          "LAO",
          "TUN",
          "MDA",
          "STP",
          "GNQ",
          "PSE",
          "HND",
          "VEN",
          "NPL",
          "PRY",
          "OWID_KOS",
          "BIH",
          "PHL",
          "BLR",
          "BWA",
          "ZAF",
          "ZWE",
          "ARM",
          "UZB",
          "LBY",
          "UKR",
          "JAM",
          "DZA",
          "GTM",
          "NAM",
          "IRN",
          "COM",
          "VUT",
          "GEO",
          "PAK",
          "VNM",
          "TJK",
          "GIN",
          "MRT",
          "BGD",
          "EGY",
          "SEN",
          "MMR",
          "CIV",
          "SWZ",
          "TGO",
          "RWA",
          "COG",
          "AGO",
          "SLB",
          "GHA",
          "NIC",
          "UGA",
          "GAB",
          "MWI",
          "AFG",
          "KEN",
          "IRQ",
          "LBR",
          "LSO",
          "ETH",
          "CAF",
          "KGZ",
          "NER",
          "GMB",
          "DJI",
          "SDN",
          "NGA",
          "GNB",
          "ZMB",
          "MOZ",
          "SLE",
          "SOM",
          "YEM",
          "MLI",
          "MDG",
          "SYR",
          "PNG",
          "TKM",
          "CMR",
          "SSD",
          "BEN",
          "BFA",
          "TCD",
          "COD",
          "HTI"
         ],
         "name": "",
         "type": "choropleth",
         "z": [
          1.1665999999999999,
          1,
          0.8645999999999999,
          0.7829,
          0.7759999999999999,
          0.7574,
          0.7556999999999999,
          0.7476999999999999,
          0.7318000000000001,
          0.727,
          0.7267,
          0.7229000000000001,
          0.7182999999999999,
          0.716,
          0.7093,
          0.7066,
          0.7039,
          0.7014,
          0.6923999999999999,
          0.6889,
          0.6829999999999999,
          0.6809999999999999,
          0.6769,
          0.6718000000000001,
          0.6696,
          0.6665000000000001,
          0.6653,
          0.665,
          0.6634,
          0.6618,
          0.6435,
          0.6423000000000001,
          0.6414,
          0.6353,
          0.6342,
          0.6292,
          0.6213000000000001,
          0.621,
          0.6159,
          0.6147,
          0.6095,
          0.6025,
          0.5928,
          0.5924,
          0.589,
          0.5834,
          0.5764,
          0.5755,
          0.5702,
          0.5583,
          0.5554,
          0.5554,
          0.5553,
          0.5442,
          0.5399,
          0.5388000000000001,
          0.5296,
          0.5277000000000001,
          0.5257000000000001,
          0.525,
          0.521,
          0.5025,
          0.4919,
          0.4917,
          0.479,
          0.4789,
          0.46880000000000005,
          0.46880000000000005,
          0.4612,
          0.4496,
          0.4445,
          0.4415,
          0.4368,
          0.4321,
          0.41969999999999996,
          0.41229999999999994,
          0.40990000000000004,
          0.408,
          0.4047,
          0.4011,
          0.3942,
          0.3859,
          0.3822,
          0.3788,
          0.3722,
          0.3502,
          0.3453,
          0.345,
          0.34,
          0.3375,
          0.3248,
          0.32380000000000003,
          0.3146,
          0.306,
          0.3056,
          0.3038,
          0.2957,
          0.2929,
          0.2898,
          0.2871,
          0.2862,
          0.285,
          0.2847,
          0.28300000000000003,
          0.2814,
          0.2804,
          0.2712,
          0.2695,
          0.2688,
          0.2667,
          0.2646,
          0.2575,
          0.2568,
          0.2531,
          0.2525,
          0.25239999999999996,
          0.2345,
          0.2309,
          0.2184,
          0.2184,
          0.2141,
          0.21280000000000002,
          0.20739999999999997,
          0.20120000000000002,
          0.1991,
          0.1989,
          0.19149999999999998,
          0.1805,
          0.18030000000000002,
          0.1772,
          0.1741,
          0.172,
          0.166,
          0.1545,
          0.1539,
          0.1533,
          0.1509,
          0.1492,
          0.1427,
          0.1304,
          0.1247,
          0.1195,
          0.1155,
          0.1109,
          0.1104,
          0.102,
          0.1,
          0.0965,
          0.09449999999999999,
          0.0934,
          0.0929,
          0.0742,
          0.0738,
          0.0731,
          0.0697,
          0.0644,
          0.062,
          0.061900000000000004,
          0.0603,
          0.0601,
          0.057,
          0.056100000000000004,
          0.053399999999999996,
          0.052300000000000006,
          0.0496,
          0.045700000000000005,
          0.044000000000000004,
          0.0421,
          0.0406,
          0.039599999999999996,
          0.0381,
          0.0365,
          0.0354,
          0.0352,
          0.0351,
          0.0338,
          0.0332,
          0.032799999999999996,
          0.0327,
          0.030699999999999998,
          0.0297,
          0.0292,
          0.0286,
          0.0278,
          0.0253,
          0.023799999999999998,
          0.0207,
          0.020099999999999996,
          0.019799999999999998,
          0.019299999999999998,
          0.0174,
          0.0171,
          0.0171,
          0.0165,
          0.0163,
          0.015300000000000001,
          0.015,
          0.0129,
          0.0127,
          0.0126,
          0.0123,
          0.012,
          0.0116,
          0.0113,
          0.0103,
          0.0102,
          0.0097,
          0.0072,
          0.0070999999999999995,
          0.006999999999999999,
          0.005600000000000001,
          0.0053,
          0.0051,
          0.0046,
          0.0033,
          0.0015,
          0.0011,
          0.0005,
          0
         ]
        }
       ],
       "layout": {
        "coloraxis": {
         "colorbar": {
          "title": {
           "text": "percent"
          }
         },
         "colorscale": [
          [
           0,
           "rgb(214, 249, 207)"
          ],
          [
           0.09090909090909091,
           "rgb(186, 228, 174)"
          ],
          [
           0.18181818181818182,
           "rgb(156, 209, 143)"
          ],
          [
           0.2727272727272727,
           "rgb(124, 191, 115)"
          ],
          [
           0.36363636363636365,
           "rgb(85, 174, 91)"
          ],
          [
           0.45454545454545453,
           "rgb(37, 157, 81)"
          ],
          [
           0.5454545454545454,
           "rgb(7, 138, 78)"
          ],
          [
           0.6363636363636364,
           "rgb(13, 117, 71)"
          ],
          [
           0.7272727272727273,
           "rgb(23, 95, 61)"
          ],
          [
           0.8181818181818182,
           "rgb(25, 75, 49)"
          ],
          [
           0.9090909090909091,
           "rgb(23, 55, 35)"
          ],
          [
           1,
           "rgb(17, 36, 20)"
          ]
         ]
        },
        "geo": {
         "center": {},
         "domain": {
          "x": [
           0,
           1
          ],
          "y": [
           0,
           1
          ]
         }
        },
        "legend": {
         "tracegroupgap": 0
        },
        "margin": {
         "t": 60
        },
        "template": {
         "data": {
          "bar": [
           {
            "error_x": {
             "color": "#2a3f5f"
            },
            "error_y": {
             "color": "#2a3f5f"
            },
            "marker": {
             "line": {
              "color": "#E5ECF6",
              "width": 0.5
             }
            },
            "type": "bar"
           }
          ],
          "barpolar": [
           {
            "marker": {
             "line": {
              "color": "#E5ECF6",
              "width": 0.5
             }
            },
            "type": "barpolar"
           }
          ],
          "carpet": [
           {
            "aaxis": {
             "endlinecolor": "#2a3f5f",
             "gridcolor": "white",
             "linecolor": "white",
             "minorgridcolor": "white",
             "startlinecolor": "#2a3f5f"
            },
            "baxis": {
             "endlinecolor": "#2a3f5f",
             "gridcolor": "white",
             "linecolor": "white",
             "minorgridcolor": "white",
             "startlinecolor": "#2a3f5f"
            },
            "type": "carpet"
           }
          ],
          "choropleth": [
           {
            "colorbar": {
             "outlinewidth": 0,
             "ticks": ""
            },
            "type": "choropleth"
           }
          ],
          "contour": [
           {
            "colorbar": {
             "outlinewidth": 0,
             "ticks": ""
            },
            "colorscale": [
             [
              0,
              "#0d0887"
             ],
             [
              0.1111111111111111,
              "#46039f"
             ],
             [
              0.2222222222222222,
              "#7201a8"
             ],
             [
              0.3333333333333333,
              "#9c179e"
             ],
             [
              0.4444444444444444,
              "#bd3786"
             ],
             [
              0.5555555555555556,
              "#d8576b"
             ],
             [
              0.6666666666666666,
              "#ed7953"
             ],
             [
              0.7777777777777778,
              "#fb9f3a"
             ],
             [
              0.8888888888888888,
              "#fdca26"
             ],
             [
              1,
              "#f0f921"
             ]
            ],
            "type": "contour"
           }
          ],
          "contourcarpet": [
           {
            "colorbar": {
             "outlinewidth": 0,
             "ticks": ""
            },
            "type": "contourcarpet"
           }
          ],
          "heatmap": [
           {
            "colorbar": {
             "outlinewidth": 0,
             "ticks": ""
            },
            "colorscale": [
             [
              0,
              "#0d0887"
             ],
             [
              0.1111111111111111,
              "#46039f"
             ],
             [
              0.2222222222222222,
              "#7201a8"
             ],
             [
              0.3333333333333333,
              "#9c179e"
             ],
             [
              0.4444444444444444,
              "#bd3786"
             ],
             [
              0.5555555555555556,
              "#d8576b"
             ],
             [
              0.6666666666666666,
              "#ed7953"
             ],
             [
              0.7777777777777778,
              "#fb9f3a"
             ],
             [
              0.8888888888888888,
              "#fdca26"
             ],
             [
              1,
              "#f0f921"
             ]
            ],
            "type": "heatmap"
           }
          ],
          "heatmapgl": [
           {
            "colorbar": {
             "outlinewidth": 0,
             "ticks": ""
            },
            "colorscale": [
             [
              0,
              "#0d0887"
             ],
             [
              0.1111111111111111,
              "#46039f"
             ],
             [
              0.2222222222222222,
              "#7201a8"
             ],
             [
              0.3333333333333333,
              "#9c179e"
             ],
             [
              0.4444444444444444,
              "#bd3786"
             ],
             [
              0.5555555555555556,
              "#d8576b"
             ],
             [
              0.6666666666666666,
              "#ed7953"
             ],
             [
              0.7777777777777778,
              "#fb9f3a"
             ],
             [
              0.8888888888888888,
              "#fdca26"
             ],
             [
              1,
              "#f0f921"
             ]
            ],
            "type": "heatmapgl"
           }
          ],
          "histogram": [
           {
            "marker": {
             "colorbar": {
              "outlinewidth": 0,
              "ticks": ""
             }
            },
            "type": "histogram"
           }
          ],
          "histogram2d": [
           {
            "colorbar": {
             "outlinewidth": 0,
             "ticks": ""
            },
            "colorscale": [
             [
              0,
              "#0d0887"
             ],
             [
              0.1111111111111111,
              "#46039f"
             ],
             [
              0.2222222222222222,
              "#7201a8"
             ],
             [
              0.3333333333333333,
              "#9c179e"
             ],
             [
              0.4444444444444444,
              "#bd3786"
             ],
             [
              0.5555555555555556,
              "#d8576b"
             ],
             [
              0.6666666666666666,
              "#ed7953"
             ],
             [
              0.7777777777777778,
              "#fb9f3a"
             ],
             [
              0.8888888888888888,
              "#fdca26"
             ],
             [
              1,
              "#f0f921"
             ]
            ],
            "type": "histogram2d"
           }
          ],
          "histogram2dcontour": [
           {
            "colorbar": {
             "outlinewidth": 0,
             "ticks": ""
            },
            "colorscale": [
             [
              0,
              "#0d0887"
             ],
             [
              0.1111111111111111,
              "#46039f"
             ],
             [
              0.2222222222222222,
              "#7201a8"
             ],
             [
              0.3333333333333333,
              "#9c179e"
             ],
             [
              0.4444444444444444,
              "#bd3786"
             ],
             [
              0.5555555555555556,
              "#d8576b"
             ],
             [
              0.6666666666666666,
              "#ed7953"
             ],
             [
              0.7777777777777778,
              "#fb9f3a"
             ],
             [
              0.8888888888888888,
              "#fdca26"
             ],
             [
              1,
              "#f0f921"
             ]
            ],
            "type": "histogram2dcontour"
           }
          ],
          "mesh3d": [
           {
            "colorbar": {
             "outlinewidth": 0,
             "ticks": ""
            },
            "type": "mesh3d"
           }
          ],
          "parcoords": [
           {
            "line": {
             "colorbar": {
              "outlinewidth": 0,
              "ticks": ""
             }
            },
            "type": "parcoords"
           }
          ],
          "pie": [
           {
            "automargin": true,
            "type": "pie"
           }
          ],
          "scatter": [
           {
            "marker": {
             "colorbar": {
              "outlinewidth": 0,
              "ticks": ""
             }
            },
            "type": "scatter"
           }
          ],
          "scatter3d": [
           {
            "line": {
             "colorbar": {
              "outlinewidth": 0,
              "ticks": ""
             }
            },
            "marker": {
             "colorbar": {
              "outlinewidth": 0,
              "ticks": ""
             }
            },
            "type": "scatter3d"
           }
          ],
          "scattercarpet": [
           {
            "marker": {
             "colorbar": {
              "outlinewidth": 0,
              "ticks": ""
             }
            },
            "type": "scattercarpet"
           }
          ],
          "scattergeo": [
           {
            "marker": {
             "colorbar": {
              "outlinewidth": 0,
              "ticks": ""
             }
            },
            "type": "scattergeo"
           }
          ],
          "scattergl": [
           {
            "marker": {
             "colorbar": {
              "outlinewidth": 0,
              "ticks": ""
             }
            },
            "type": "scattergl"
           }
          ],
          "scattermapbox": [
           {
            "marker": {
             "colorbar": {
              "outlinewidth": 0,
              "ticks": ""
             }
            },
            "type": "scattermapbox"
           }
          ],
          "scatterpolar": [
           {
            "marker": {
             "colorbar": {
              "outlinewidth": 0,
              "ticks": ""
             }
            },
            "type": "scatterpolar"
           }
          ],
          "scatterpolargl": [
           {
            "marker": {
             "colorbar": {
              "outlinewidth": 0,
              "ticks": ""
             }
            },
            "type": "scatterpolargl"
           }
          ],
          "scatterternary": [
           {
            "marker": {
             "colorbar": {
              "outlinewidth": 0,
              "ticks": ""
             }
            },
            "type": "scatterternary"
           }
          ],
          "surface": [
           {
            "colorbar": {
             "outlinewidth": 0,
             "ticks": ""
            },
            "colorscale": [
             [
              0,
              "#0d0887"
             ],
             [
              0.1111111111111111,
              "#46039f"
             ],
             [
              0.2222222222222222,
              "#7201a8"
             ],
             [
              0.3333333333333333,
              "#9c179e"
             ],
             [
              0.4444444444444444,
              "#bd3786"
             ],
             [
              0.5555555555555556,
              "#d8576b"
             ],
             [
              0.6666666666666666,
              "#ed7953"
             ],
             [
              0.7777777777777778,
              "#fb9f3a"
             ],
             [
              0.8888888888888888,
              "#fdca26"
             ],
             [
              1,
              "#f0f921"
             ]
            ],
            "type": "surface"
           }
          ],
          "table": [
           {
            "cells": {
             "fill": {
              "color": "#EBF0F8"
             },
             "line": {
              "color": "white"
             }
            },
            "header": {
             "fill": {
              "color": "#C8D4E3"
             },
             "line": {
              "color": "white"
             }
            },
            "type": "table"
           }
          ]
         },
         "layout": {
          "annotationdefaults": {
           "arrowcolor": "#2a3f5f",
           "arrowhead": 0,
           "arrowwidth": 1
          },
          "autotypenumbers": "strict",
          "coloraxis": {
           "colorbar": {
            "outlinewidth": 0,
            "ticks": ""
           }
          },
          "colorscale": {
           "diverging": [
            [
             0,
             "#8e0152"
            ],
            [
             0.1,
             "#c51b7d"
            ],
            [
             0.2,
             "#de77ae"
            ],
            [
             0.3,
             "#f1b6da"
            ],
            [
             0.4,
             "#fde0ef"
            ],
            [
             0.5,
             "#f7f7f7"
            ],
            [
             0.6,
             "#e6f5d0"
            ],
            [
             0.7,
             "#b8e186"
            ],
            [
             0.8,
             "#7fbc41"
            ],
            [
             0.9,
             "#4d9221"
            ],
            [
             1,
             "#276419"
            ]
           ],
           "sequential": [
            [
             0,
             "#0d0887"
            ],
            [
             0.1111111111111111,
             "#46039f"
            ],
            [
             0.2222222222222222,
             "#7201a8"
            ],
            [
             0.3333333333333333,
             "#9c179e"
            ],
            [
             0.4444444444444444,
             "#bd3786"
            ],
            [
             0.5555555555555556,
             "#d8576b"
            ],
            [
             0.6666666666666666,
             "#ed7953"
            ],
            [
             0.7777777777777778,
             "#fb9f3a"
            ],
            [
             0.8888888888888888,
             "#fdca26"
            ],
            [
             1,
             "#f0f921"
            ]
           ],
           "sequentialminus": [
            [
             0,
             "#0d0887"
            ],
            [
             0.1111111111111111,
             "#46039f"
            ],
            [
             0.2222222222222222,
             "#7201a8"
            ],
            [
             0.3333333333333333,
             "#9c179e"
            ],
            [
             0.4444444444444444,
             "#bd3786"
            ],
            [
             0.5555555555555556,
             "#d8576b"
            ],
            [
             0.6666666666666666,
             "#ed7953"
            ],
            [
             0.7777777777777778,
             "#fb9f3a"
            ],
            [
             0.8888888888888888,
             "#fdca26"
            ],
            [
             1,
             "#f0f921"
            ]
           ]
          },
          "colorway": [
           "#636efa",
           "#EF553B",
           "#00cc96",
           "#ab63fa",
           "#FFA15A",
           "#19d3f3",
           "#FF6692",
           "#B6E880",
           "#FF97FF",
           "#FECB52"
          ],
          "font": {
           "color": "#2a3f5f"
          },
          "geo": {
           "bgcolor": "white",
           "lakecolor": "white",
           "landcolor": "#E5ECF6",
           "showlakes": true,
           "showland": true,
           "subunitcolor": "white"
          },
          "hoverlabel": {
           "align": "left"
          },
          "hovermode": "closest",
          "mapbox": {
           "style": "light"
          },
          "paper_bgcolor": "white",
          "plot_bgcolor": "#E5ECF6",
          "polar": {
           "angularaxis": {
            "gridcolor": "white",
            "linecolor": "white",
            "ticks": ""
           },
           "bgcolor": "#E5ECF6",
           "radialaxis": {
            "gridcolor": "white",
            "linecolor": "white",
            "ticks": ""
           }
          },
          "scene": {
           "xaxis": {
            "backgroundcolor": "#E5ECF6",
            "gridcolor": "white",
            "gridwidth": 2,
            "linecolor": "white",
            "showbackground": true,
            "ticks": "",
            "zerolinecolor": "white"
           },
           "yaxis": {
            "backgroundcolor": "#E5ECF6",
            "gridcolor": "white",
            "gridwidth": 2,
            "linecolor": "white",
            "showbackground": true,
            "ticks": "",
            "zerolinecolor": "white"
           },
           "zaxis": {
            "backgroundcolor": "#E5ECF6",
            "gridcolor": "white",
            "gridwidth": 2,
            "linecolor": "white",
            "showbackground": true,
            "ticks": "",
            "zerolinecolor": "white"
           }
          },
          "shapedefaults": {
           "line": {
            "color": "#2a3f5f"
           }
          },
          "ternary": {
           "aaxis": {
            "gridcolor": "white",
            "linecolor": "white",
            "ticks": ""
           },
           "baxis": {
            "gridcolor": "white",
            "linecolor": "white",
            "ticks": ""
           },
           "bgcolor": "#E5ECF6",
           "caxis": {
            "gridcolor": "white",
            "linecolor": "white",
            "ticks": ""
           }
          },
          "title": {
           "x": 0.05
          },
          "xaxis": {
           "automargin": true,
           "gridcolor": "white",
           "linecolor": "white",
           "ticks": "",
           "title": {
            "standoff": 15
           },
           "zerolinecolor": "white",
           "zerolinewidth": 2
          },
          "yaxis": {
           "automargin": true,
           "gridcolor": "white",
           "linecolor": "white",
           "ticks": "",
           "title": {
            "standoff": 15
           },
           "zerolinecolor": "white",
           "zerolinewidth": 2
          }
         }
        }
       }
      },
      "text/html": [
       "<div>                            <div id=\"f36aecc6-096c-44f0-8fc7-3b69d6656ec1\" class=\"plotly-graph-div\" style=\"height:525px; width:100%;\"></div>            <script type=\"text/javascript\">                require([\"plotly\"], function(Plotly) {                    window.PLOTLYENV=window.PLOTLYENV || {};                                    if (document.getElementById(\"f36aecc6-096c-44f0-8fc7-3b69d6656ec1\")) {                    Plotly.newPlot(                        \"f36aecc6-096c-44f0-8fc7-3b69d6656ec1\",                        [{\"coloraxis\": \"coloraxis\", \"geo\": \"geo\", \"hovertemplate\": \"<b>%{hovertext}</b><br><br>iso_code=%{location}<br>percent=%{z}<extra></extra>\", \"hovertext\": [\"Gibraltar\", \"Pitcairn\", \"Malta\", \"Iceland\", \"United Arab Emirates\", \"Isle of Man\", \"Falkland Islands\", \"Cayman Islands\", \"Niue\", \"Seychelles\", \"Scotland\", \"Wales\", \"Saint Helena\", \"Jersey\", \"Uruguay\", \"Chile\", \"Singapore\", \"Canada\", \"Nauru\", \"England\", \"Faeroe Islands\", \"United Kingdom\", \"Netherlands\", \"San Marino\", \"Denmark\", \"Bermuda\", \"Aruba\", \"Belgium\", \"Israel\", \"Qatar\", \"Bahrain\", \"Mongolia\", \"Finland\", \"Portugal\", \"Northern Ireland\", \"Bhutan\", \"Anguilla\", \"Spain\", \"Turks and Caicos Islands\", \"Ireland\", \"Luxembourg\", \"Italy\", \"Maldives\", \"Germany\", \"Norway\", \"Sweden\", \"Greenland\", \"Hungary\", \"Austria\", \"Cyprus\", \"Cook Islands\", \"United States\", \"Curacao\", \"France\", \"Andorra\", \"Monaco\", \"Saudi Arabia\", \"Sint Maarten (Dutch part)\", \"Liechtenstein\", \"Switzerland\", \"Greece\", \"Czechia\", \"Dominican Republic\", \"Guernsey\", \"Lithuania\", \"Argentina\", \"Mauritius\", \"Poland\", \"Turkey\", \"Estonia\", \"British Virgin Islands\", \"Brazil\", \"Saint Kitts and Nevis\", \"China\", \"Slovenia\", \"Macao\", \"Wallis and Futuna\", \"Serbia\", \"Tuvalu\", \"Slovakia\", \"Fiji\", \"Croatia\", \"Latvia\", \"Antigua and Barbuda\", \"Hong Kong\", \"Costa Rica\", \"El Salvador\", \"Cambodia\", \"Kuwait\", \"Barbados\", \"Ecuador\", \"Japan\", \"South Korea\", \"Suriname\", \"Guyana\", \"Morocco\", \"Malaysia\", \"Mexico\", \"Cuba\", \"Montserrat\", \"Colombia\", \"Northern Cyprus\", \"Dominica\", \"Australia\", \"Oman\", \"Belize\", \"Tonga\", \"Panama\", \"French Polynesia\", \"Samoa\", \"Jordan\", \"Kazakhstan\", \"Montenegro\", \"Azerbaijan\", \"Romania\", \"Sri Lanka\", \"Brunei\", \"India\", \"Bonaire Sint Eustatius and Saba\", \"Russia\", \"North Macedonia\", \"New Caledonia\", \"Albania\", \"Taiwan\", \"Cape Verde\", \"Bolivia\", \"Peru\", \"Timor\", \"Grenada\", \"Trinidad and Tobago\", \"New Zealand\", \"Saint Lucia\", \"Saint Vincent and the Grenadines\", \"Thailand\", \"Lebanon\", \"Bahamas\", \"Indonesia\", \"Bulgaria\", \"Laos\", \"Tunisia\", \"Moldova\", \"Sao Tome and Principe\", \"Equatorial Guinea\", \"Palestine\", \"Honduras\", \"Venezuela\", \"Nepal\", \"Paraguay\", \"Kosovo\", \"Bosnia and Herzegovina\", \"Philippines\", \"Belarus\", \"Botswana\", \"South Africa\", \"Zimbabwe\", \"Armenia\", \"Uzbekistan\", \"Libya\", \"Ukraine\", \"Jamaica\", \"Algeria\", \"Guatemala\", \"Namibia\", \"Iran\", \"Comoros\", \"Vanuatu\", \"Georgia\", \"Pakistan\", \"Vietnam\", \"Tajikistan\", \"Guinea\", \"Mauritania\", \"Bangladesh\", \"Egypt\", \"Senegal\", \"Myanmar\", \"Cote d'Ivoire\", \"Eswatini\", \"Togo\", \"Rwanda\", \"Congo\", \"Angola\", \"Solomon Islands\", \"Ghana\", \"Nicaragua\", \"Uganda\", \"Gabon\", \"Malawi\", \"Afghanistan\", \"Kenya\", \"Iraq\", \"Liberia\", \"Lesotho\", \"Ethiopia\", \"Central African Republic\", \"Kyrgyzstan\", \"Niger\", \"Gambia\", \"Djibouti\", \"Sudan\", \"Nigeria\", \"Guinea-Bissau\", \"Zambia\", \"Mozambique\", \"Sierra Leone\", \"Somalia\", \"Yemen\", \"Mali\", \"Madagascar\", \"Syria\", \"Papua New Guinea\", \"Turkmenistan\", \"Cameroon\", \"South Sudan\", \"Benin\", \"Burkina Faso\", \"Chad\", \"Democratic Republic of Congo\", \"Haiti\"], \"locations\": [\"GIB\", \"PCN\", \"MLT\", \"ISL\", \"ARE\", \"IMN\", \"FLK\", \"CYM\", \"NIU\", \"SYC\", \"OWID_SCT\", \"OWID_WLS\", \"SHN\", \"JEY\", \"URY\", \"CHL\", \"SGP\", \"CAN\", \"NRU\", \"OWID_ENG\", \"FRO\", \"GBR\", \"NLD\", \"SMR\", \"DNK\", \"BMU\", \"ABW\", \"BEL\", \"ISR\", \"QAT\", \"BHR\", \"MNG\", \"FIN\", \"PRT\", \"OWID_NIR\", \"BTN\", \"AIA\", \"ESP\", \"TCA\", \"IRL\", \"LUX\", \"ITA\", \"MDV\", \"DEU\", \"NOR\", \"SWE\", \"GRL\", \"HUN\", \"AUT\", \"CYP\", \"COK\", \"USA\", \"CUW\", \"FRA\", \"AND\", \"MCO\", \"SAU\", \"SXM\", \"LIE\", \"CHE\", \"GRC\", \"CZE\", \"DOM\", \"GGY\", \"LTU\", \"ARG\", \"MUS\", \"POL\", \"TUR\", \"EST\", \"VGB\", \"BRA\", \"KNA\", \"CHN\", \"SVN\", \"MAC\", \"WLF\", \"SRB\", \"TUV\", \"SVK\", \"FJI\", \"HRV\", \"LVA\", \"ATG\", \"HKG\", \"CRI\", \"SLV\", \"KHM\", \"KWT\", \"BRB\", \"ECU\", \"JPN\", \"KOR\", \"SUR\", \"GUY\", \"MAR\", \"MYS\", \"MEX\", \"CUB\", \"MSR\", \"COL\", \"OWID_CYN\", \"DMA\", \"AUS\", \"OMN\", \"BLZ\", \"TON\", \"PAN\", \"PYF\", \"WSM\", \"JOR\", \"KAZ\", \"MNE\", \"AZE\", \"ROU\", \"LKA\", \"BRN\", \"IND\", \"BES\", \"RUS\", \"MKD\", \"NCL\", \"ALB\", \"TWN\", \"CPV\", \"BOL\", \"PER\", \"TLS\", \"GRD\", \"TTO\", \"NZL\", \"LCA\", \"VCT\", \"THA\", \"LBN\", \"BHS\", \"IDN\", \"BGR\", \"LAO\", \"TUN\", \"MDA\", \"STP\", \"GNQ\", \"PSE\", \"HND\", \"VEN\", \"NPL\", \"PRY\", \"OWID_KOS\", \"BIH\", \"PHL\", \"BLR\", \"BWA\", \"ZAF\", \"ZWE\", \"ARM\", \"UZB\", \"LBY\", \"UKR\", \"JAM\", \"DZA\", \"GTM\", \"NAM\", \"IRN\", \"COM\", \"VUT\", \"GEO\", \"PAK\", \"VNM\", \"TJK\", \"GIN\", \"MRT\", \"BGD\", \"EGY\", \"SEN\", \"MMR\", \"CIV\", \"SWZ\", \"TGO\", \"RWA\", \"COG\", \"AGO\", \"SLB\", \"GHA\", \"NIC\", \"UGA\", \"GAB\", \"MWI\", \"AFG\", \"KEN\", \"IRQ\", \"LBR\", \"LSO\", \"ETH\", \"CAF\", \"KGZ\", \"NER\", \"GMB\", \"DJI\", \"SDN\", \"NGA\", \"GNB\", \"ZMB\", \"MOZ\", \"SLE\", \"SOM\", \"YEM\", \"MLI\", \"MDG\", \"SYR\", \"PNG\", \"TKM\", \"CMR\", \"SSD\", \"BEN\", \"BFA\", \"TCD\", \"COD\", \"HTI\"], \"name\": \"\", \"type\": \"choropleth\", \"z\": [1.1665999999999999, 1.0, 0.8645999999999999, 0.7829, 0.7759999999999999, 0.7574, 0.7556999999999999, 0.7476999999999999, 0.7318000000000001, 0.727, 0.7267, 0.7229000000000001, 0.7182999999999999, 0.716, 0.7093, 0.7066, 0.7039, 0.7014, 0.6923999999999999, 0.6889, 0.6829999999999999, 0.6809999999999999, 0.6769, 0.6718000000000001, 0.6696, 0.6665000000000001, 0.6653, 0.665, 0.6634, 0.6618, 0.6435, 0.6423000000000001, 0.6414, 0.6353, 0.6342, 0.6292, 0.6213000000000001, 0.621, 0.6159, 0.6147, 0.6095, 0.6025, 0.5928, 0.5924, 0.589, 0.5834, 0.5764, 0.5755, 0.5702, 0.5583, 0.5554, 0.5554, 0.5553, 0.5442, 0.5399, 0.5388000000000001, 0.5296, 0.5277000000000001, 0.5257000000000001, 0.525, 0.521, 0.5025, 0.4919, 0.4917, 0.479, 0.4789, 0.46880000000000005, 0.46880000000000005, 0.4612, 0.4496, 0.4445, 0.4415, 0.4368, 0.4321, 0.41969999999999996, 0.41229999999999994, 0.40990000000000004, 0.408, 0.4047, 0.4011, 0.3942, 0.3859, 0.3822, 0.3788, 0.3722, 0.3502, 0.3453, 0.345, 0.34, 0.3375, 0.3248, 0.32380000000000003, 0.3146, 0.306, 0.3056, 0.3038, 0.2957, 0.2929, 0.2898, 0.2871, 0.2862, 0.285, 0.2847, 0.28300000000000003, 0.2814, 0.2804, 0.2712, 0.2695, 0.2688, 0.2667, 0.2646, 0.2575, 0.2568, 0.2531, 0.2525, 0.25239999999999996, 0.2345, 0.2309, 0.2184, 0.2184, 0.2141, 0.21280000000000002, 0.20739999999999997, 0.20120000000000002, 0.1991, 0.1989, 0.19149999999999998, 0.1805, 0.18030000000000002, 0.1772, 0.1741, 0.172, 0.166, 0.1545, 0.1539, 0.1533, 0.1509, 0.1492, 0.1427, 0.1304, 0.1247, 0.1195, 0.1155, 0.1109, 0.1104, 0.102, 0.1, 0.0965, 0.09449999999999999, 0.0934, 0.0929, 0.0742, 0.0738, 0.0731, 0.0697, 0.0644, 0.062, 0.061900000000000004, 0.0603, 0.0601, 0.057, 0.056100000000000004, 0.053399999999999996, 0.052300000000000006, 0.0496, 0.045700000000000005, 0.044000000000000004, 0.0421, 0.0406, 0.039599999999999996, 0.0381, 0.0365, 0.0354, 0.0352, 0.0351, 0.0338, 0.0332, 0.032799999999999996, 0.0327, 0.030699999999999998, 0.0297, 0.0292, 0.0286, 0.0278, 0.0253, 0.023799999999999998, 0.0207, 0.020099999999999996, 0.019799999999999998, 0.019299999999999998, 0.0174, 0.0171, 0.0171, 0.0165, 0.0163, 0.015300000000000001, 0.015, 0.0129, 0.0127, 0.0126, 0.0123, 0.012, 0.0116, 0.0113, 0.0103, 0.0102, 0.0097, 0.0072, 0.0070999999999999995, 0.006999999999999999, 0.005600000000000001, 0.0053, 0.0051, 0.0046, 0.0033, 0.0015, 0.0011, 0.0005, 0.0]}],                        {\"coloraxis\": {\"colorbar\": {\"title\": {\"text\": \"percent\"}}, \"colorscale\": [[0.0, \"rgb(214, 249, 207)\"], [0.09090909090909091, \"rgb(186, 228, 174)\"], [0.18181818181818182, \"rgb(156, 209, 143)\"], [0.2727272727272727, \"rgb(124, 191, 115)\"], [0.36363636363636365, \"rgb(85, 174, 91)\"], [0.45454545454545453, \"rgb(37, 157, 81)\"], [0.5454545454545454, \"rgb(7, 138, 78)\"], [0.6363636363636364, \"rgb(13, 117, 71)\"], [0.7272727272727273, \"rgb(23, 95, 61)\"], [0.8181818181818182, \"rgb(25, 75, 49)\"], [0.9090909090909091, \"rgb(23, 55, 35)\"], [1.0, \"rgb(17, 36, 20)\"]]}, \"geo\": {\"center\": {}, \"domain\": {\"x\": [0.0, 1.0], \"y\": [0.0, 1.0]}}, \"legend\": {\"tracegroupgap\": 0}, \"margin\": {\"t\": 60}, \"template\": {\"data\": {\"bar\": [{\"error_x\": {\"color\": \"#2a3f5f\"}, \"error_y\": {\"color\": \"#2a3f5f\"}, \"marker\": {\"line\": {\"color\": \"#E5ECF6\", \"width\": 0.5}}, \"type\": \"bar\"}], \"barpolar\": [{\"marker\": {\"line\": {\"color\": \"#E5ECF6\", \"width\": 0.5}}, \"type\": \"barpolar\"}], \"carpet\": [{\"aaxis\": {\"endlinecolor\": \"#2a3f5f\", \"gridcolor\": \"white\", \"linecolor\": \"white\", \"minorgridcolor\": \"white\", \"startlinecolor\": \"#2a3f5f\"}, \"baxis\": {\"endlinecolor\": \"#2a3f5f\", \"gridcolor\": \"white\", \"linecolor\": \"white\", \"minorgridcolor\": \"white\", \"startlinecolor\": \"#2a3f5f\"}, \"type\": \"carpet\"}], \"choropleth\": [{\"colorbar\": {\"outlinewidth\": 0, \"ticks\": \"\"}, \"type\": \"choropleth\"}], \"contour\": [{\"colorbar\": {\"outlinewidth\": 0, \"ticks\": \"\"}, \"colorscale\": [[0.0, \"#0d0887\"], [0.1111111111111111, \"#46039f\"], [0.2222222222222222, \"#7201a8\"], [0.3333333333333333, \"#9c179e\"], [0.4444444444444444, \"#bd3786\"], [0.5555555555555556, \"#d8576b\"], [0.6666666666666666, \"#ed7953\"], [0.7777777777777778, \"#fb9f3a\"], [0.8888888888888888, \"#fdca26\"], [1.0, \"#f0f921\"]], \"type\": \"contour\"}], \"contourcarpet\": [{\"colorbar\": {\"outlinewidth\": 0, \"ticks\": \"\"}, \"type\": \"contourcarpet\"}], \"heatmap\": [{\"colorbar\": {\"outlinewidth\": 0, \"ticks\": \"\"}, \"colorscale\": [[0.0, \"#0d0887\"], [0.1111111111111111, \"#46039f\"], [0.2222222222222222, \"#7201a8\"], [0.3333333333333333, \"#9c179e\"], [0.4444444444444444, \"#bd3786\"], [0.5555555555555556, \"#d8576b\"], [0.6666666666666666, \"#ed7953\"], [0.7777777777777778, \"#fb9f3a\"], [0.8888888888888888, \"#fdca26\"], [1.0, \"#f0f921\"]], \"type\": \"heatmap\"}], \"heatmapgl\": [{\"colorbar\": {\"outlinewidth\": 0, \"ticks\": \"\"}, \"colorscale\": [[0.0, \"#0d0887\"], [0.1111111111111111, \"#46039f\"], [0.2222222222222222, \"#7201a8\"], [0.3333333333333333, \"#9c179e\"], [0.4444444444444444, \"#bd3786\"], [0.5555555555555556, \"#d8576b\"], [0.6666666666666666, \"#ed7953\"], [0.7777777777777778, \"#fb9f3a\"], [0.8888888888888888, \"#fdca26\"], [1.0, \"#f0f921\"]], \"type\": \"heatmapgl\"}], \"histogram\": [{\"marker\": {\"colorbar\": {\"outlinewidth\": 0, \"ticks\": \"\"}}, \"type\": \"histogram\"}], \"histogram2d\": [{\"colorbar\": {\"outlinewidth\": 0, \"ticks\": \"\"}, \"colorscale\": [[0.0, \"#0d0887\"], [0.1111111111111111, \"#46039f\"], [0.2222222222222222, \"#7201a8\"], [0.3333333333333333, \"#9c179e\"], [0.4444444444444444, \"#bd3786\"], [0.5555555555555556, \"#d8576b\"], [0.6666666666666666, \"#ed7953\"], [0.7777777777777778, \"#fb9f3a\"], [0.8888888888888888, \"#fdca26\"], [1.0, \"#f0f921\"]], \"type\": \"histogram2d\"}], \"histogram2dcontour\": [{\"colorbar\": {\"outlinewidth\": 0, \"ticks\": \"\"}, \"colorscale\": [[0.0, \"#0d0887\"], [0.1111111111111111, \"#46039f\"], [0.2222222222222222, \"#7201a8\"], [0.3333333333333333, \"#9c179e\"], [0.4444444444444444, \"#bd3786\"], [0.5555555555555556, \"#d8576b\"], [0.6666666666666666, \"#ed7953\"], [0.7777777777777778, \"#fb9f3a\"], [0.8888888888888888, \"#fdca26\"], [1.0, \"#f0f921\"]], \"type\": \"histogram2dcontour\"}], \"mesh3d\": [{\"colorbar\": {\"outlinewidth\": 0, \"ticks\": \"\"}, \"type\": \"mesh3d\"}], \"parcoords\": [{\"line\": {\"colorbar\": {\"outlinewidth\": 0, \"ticks\": \"\"}}, \"type\": \"parcoords\"}], \"pie\": [{\"automargin\": true, \"type\": \"pie\"}], \"scatter\": [{\"marker\": {\"colorbar\": {\"outlinewidth\": 0, \"ticks\": \"\"}}, \"type\": \"scatter\"}], \"scatter3d\": [{\"line\": {\"colorbar\": {\"outlinewidth\": 0, \"ticks\": \"\"}}, \"marker\": {\"colorbar\": {\"outlinewidth\": 0, \"ticks\": \"\"}}, \"type\": \"scatter3d\"}], \"scattercarpet\": [{\"marker\": {\"colorbar\": {\"outlinewidth\": 0, \"ticks\": \"\"}}, \"type\": \"scattercarpet\"}], \"scattergeo\": [{\"marker\": {\"colorbar\": {\"outlinewidth\": 0, \"ticks\": \"\"}}, \"type\": \"scattergeo\"}], \"scattergl\": [{\"marker\": {\"colorbar\": {\"outlinewidth\": 0, \"ticks\": \"\"}}, \"type\": \"scattergl\"}], \"scattermapbox\": [{\"marker\": {\"colorbar\": {\"outlinewidth\": 0, \"ticks\": \"\"}}, \"type\": \"scattermapbox\"}], \"scatterpolar\": [{\"marker\": {\"colorbar\": {\"outlinewidth\": 0, \"ticks\": \"\"}}, \"type\": \"scatterpolar\"}], \"scatterpolargl\": [{\"marker\": {\"colorbar\": {\"outlinewidth\": 0, \"ticks\": \"\"}}, \"type\": \"scatterpolargl\"}], \"scatterternary\": [{\"marker\": {\"colorbar\": {\"outlinewidth\": 0, \"ticks\": \"\"}}, \"type\": \"scatterternary\"}], \"surface\": [{\"colorbar\": {\"outlinewidth\": 0, \"ticks\": \"\"}, \"colorscale\": [[0.0, \"#0d0887\"], [0.1111111111111111, \"#46039f\"], [0.2222222222222222, \"#7201a8\"], [0.3333333333333333, \"#9c179e\"], [0.4444444444444444, \"#bd3786\"], [0.5555555555555556, \"#d8576b\"], [0.6666666666666666, \"#ed7953\"], [0.7777777777777778, \"#fb9f3a\"], [0.8888888888888888, \"#fdca26\"], [1.0, \"#f0f921\"]], \"type\": \"surface\"}], \"table\": [{\"cells\": {\"fill\": {\"color\": \"#EBF0F8\"}, \"line\": {\"color\": \"white\"}}, \"header\": {\"fill\": {\"color\": \"#C8D4E3\"}, \"line\": {\"color\": \"white\"}}, \"type\": \"table\"}]}, \"layout\": {\"annotationdefaults\": {\"arrowcolor\": \"#2a3f5f\", \"arrowhead\": 0, \"arrowwidth\": 1}, \"autotypenumbers\": \"strict\", \"coloraxis\": {\"colorbar\": {\"outlinewidth\": 0, \"ticks\": \"\"}}, \"colorscale\": {\"diverging\": [[0, \"#8e0152\"], [0.1, \"#c51b7d\"], [0.2, \"#de77ae\"], [0.3, \"#f1b6da\"], [0.4, \"#fde0ef\"], [0.5, \"#f7f7f7\"], [0.6, \"#e6f5d0\"], [0.7, \"#b8e186\"], [0.8, \"#7fbc41\"], [0.9, \"#4d9221\"], [1, \"#276419\"]], \"sequential\": [[0.0, \"#0d0887\"], [0.1111111111111111, \"#46039f\"], [0.2222222222222222, \"#7201a8\"], [0.3333333333333333, \"#9c179e\"], [0.4444444444444444, \"#bd3786\"], [0.5555555555555556, \"#d8576b\"], [0.6666666666666666, \"#ed7953\"], [0.7777777777777778, \"#fb9f3a\"], [0.8888888888888888, \"#fdca26\"], [1.0, \"#f0f921\"]], \"sequentialminus\": [[0.0, \"#0d0887\"], [0.1111111111111111, \"#46039f\"], [0.2222222222222222, \"#7201a8\"], [0.3333333333333333, \"#9c179e\"], [0.4444444444444444, \"#bd3786\"], [0.5555555555555556, \"#d8576b\"], [0.6666666666666666, \"#ed7953\"], [0.7777777777777778, \"#fb9f3a\"], [0.8888888888888888, \"#fdca26\"], [1.0, \"#f0f921\"]]}, \"colorway\": [\"#636efa\", \"#EF553B\", \"#00cc96\", \"#ab63fa\", \"#FFA15A\", \"#19d3f3\", \"#FF6692\", \"#B6E880\", \"#FF97FF\", \"#FECB52\"], \"font\": {\"color\": \"#2a3f5f\"}, \"geo\": {\"bgcolor\": \"white\", \"lakecolor\": \"white\", \"landcolor\": \"#E5ECF6\", \"showlakes\": true, \"showland\": true, \"subunitcolor\": \"white\"}, \"hoverlabel\": {\"align\": \"left\"}, \"hovermode\": \"closest\", \"mapbox\": {\"style\": \"light\"}, \"paper_bgcolor\": \"white\", \"plot_bgcolor\": \"#E5ECF6\", \"polar\": {\"angularaxis\": {\"gridcolor\": \"white\", \"linecolor\": \"white\", \"ticks\": \"\"}, \"bgcolor\": \"#E5ECF6\", \"radialaxis\": {\"gridcolor\": \"white\", \"linecolor\": \"white\", \"ticks\": \"\"}}, \"scene\": {\"xaxis\": {\"backgroundcolor\": \"#E5ECF6\", \"gridcolor\": \"white\", \"gridwidth\": 2, \"linecolor\": \"white\", \"showbackground\": true, \"ticks\": \"\", \"zerolinecolor\": \"white\"}, \"yaxis\": {\"backgroundcolor\": \"#E5ECF6\", \"gridcolor\": \"white\", \"gridwidth\": 2, \"linecolor\": \"white\", \"showbackground\": true, \"ticks\": \"\", \"zerolinecolor\": \"white\"}, \"zaxis\": {\"backgroundcolor\": \"#E5ECF6\", \"gridcolor\": \"white\", \"gridwidth\": 2, \"linecolor\": \"white\", \"showbackground\": true, \"ticks\": \"\", \"zerolinecolor\": \"white\"}}, \"shapedefaults\": {\"line\": {\"color\": \"#2a3f5f\"}}, \"ternary\": {\"aaxis\": {\"gridcolor\": \"white\", \"linecolor\": \"white\", \"ticks\": \"\"}, \"baxis\": {\"gridcolor\": \"white\", \"linecolor\": \"white\", \"ticks\": \"\"}, \"bgcolor\": \"#E5ECF6\", \"caxis\": {\"gridcolor\": \"white\", \"linecolor\": \"white\", \"ticks\": \"\"}}, \"title\": {\"x\": 0.05}, \"xaxis\": {\"automargin\": true, \"gridcolor\": \"white\", \"linecolor\": \"white\", \"ticks\": \"\", \"title\": {\"standoff\": 15}, \"zerolinecolor\": \"white\", \"zerolinewidth\": 2}, \"yaxis\": {\"automargin\": true, \"gridcolor\": \"white\", \"linecolor\": \"white\", \"ticks\": \"\", \"title\": {\"standoff\": 15}, \"zerolinecolor\": \"white\", \"zerolinewidth\": 2}}}},                        {\"responsive\": true}                    ).then(function(){\n",
       "                            \n",
       "var gd = document.getElementById('f36aecc6-096c-44f0-8fc7-3b69d6656ec1');\n",
       "var x = new MutationObserver(function (mutations, observer) {{\n",
       "        var display = window.getComputedStyle(gd).display;\n",
       "        if (!display || display === 'none') {{\n",
       "            console.log([gd, 'removed!']);\n",
       "            Plotly.purge(gd);\n",
       "            observer.disconnect();\n",
       "        }}\n",
       "}});\n",
       "\n",
       "// Listen for the removal of the full notebook cells\n",
       "var notebookContainer = gd.closest('#notebook-container');\n",
       "if (notebookContainer) {{\n",
       "    x.observe(notebookContainer, {childList: true});\n",
       "}}\n",
       "\n",
       "// Listen for the clearing of the current output cell\n",
       "var outputEl = gd.closest('.output');\n",
       "if (outputEl) {{\n",
       "    x.observe(outputEl, {childList: true});\n",
       "}}\n",
       "\n",
       "                        })                };                });            </script>        </div>"
      ]
     },
     "metadata": {},
     "output_type": "display_data"
    }
   ],
   "source": [
    "fig = px.choropleth(data_percent, locations=\"iso_code\",\n",
    "                   color=\"percent\",\n",
    "                   hover_name=\"country\",\n",
    "                   color_continuous_scale=px.colors.sequential.algae)\n",
    "fig.show()"
   ]
  },
  {
   "cell_type": "code",
   "execution_count": 95,
   "metadata": {},
   "outputs": [
    {
     "data": {
      "text/html": [
       "<div>\n",
       "<style scoped>\n",
       "    .dataframe tbody tr th:only-of-type {\n",
       "        vertical-align: middle;\n",
       "    }\n",
       "\n",
       "    .dataframe tbody tr th {\n",
       "        vertical-align: top;\n",
       "    }\n",
       "\n",
       "    .dataframe thead th {\n",
       "        text-align: right;\n",
       "    }\n",
       "</style>\n",
       "<table border=\"1\" class=\"dataframe\">\n",
       "  <thead>\n",
       "    <tr style=\"text-align: right;\">\n",
       "      <th></th>\n",
       "      <th>country</th>\n",
       "      <th>iso_code</th>\n",
       "      <th>date</th>\n",
       "      <th>daily_vaccinations</th>\n",
       "      <th>people_vaccinated</th>\n",
       "      <th>people_vaccinated_per_hundred</th>\n",
       "      <th>people_fully_vaccinated</th>\n",
       "      <th>vaccines</th>\n",
       "    </tr>\n",
       "  </thead>\n",
       "  <tbody>\n",
       "    <tr>\n",
       "      <th>21261</th>\n",
       "      <td>Norway</td>\n",
       "      <td>NOR</td>\n",
       "      <td>2020-12-02</td>\n",
       "      <td>NaN</td>\n",
       "      <td>0.0</td>\n",
       "      <td>0.0</td>\n",
       "      <td>NaN</td>\n",
       "      <td>Moderna, Pfizer/BioNTech</td>\n",
       "    </tr>\n",
       "    <tr>\n",
       "      <th>21262</th>\n",
       "      <td>Norway</td>\n",
       "      <td>NOR</td>\n",
       "      <td>2020-12-03</td>\n",
       "      <td>0.0</td>\n",
       "      <td>0.0</td>\n",
       "      <td>0.0</td>\n",
       "      <td>NaN</td>\n",
       "      <td>Moderna, Pfizer/BioNTech</td>\n",
       "    </tr>\n",
       "    <tr>\n",
       "      <th>21263</th>\n",
       "      <td>Norway</td>\n",
       "      <td>NOR</td>\n",
       "      <td>2020-12-04</td>\n",
       "      <td>0.0</td>\n",
       "      <td>0.0</td>\n",
       "      <td>0.0</td>\n",
       "      <td>NaN</td>\n",
       "      <td>Moderna, Pfizer/BioNTech</td>\n",
       "    </tr>\n",
       "    <tr>\n",
       "      <th>15647</th>\n",
       "      <td>Latvia</td>\n",
       "      <td>LVA</td>\n",
       "      <td>2020-12-04</td>\n",
       "      <td>NaN</td>\n",
       "      <td>1.0</td>\n",
       "      <td>0.0</td>\n",
       "      <td>NaN</td>\n",
       "      <td>Johnson&amp;Johnson, Moderna, Oxford/AstraZeneca, ...</td>\n",
       "    </tr>\n",
       "    <tr>\n",
       "      <th>15648</th>\n",
       "      <td>Latvia</td>\n",
       "      <td>LVA</td>\n",
       "      <td>2020-12-05</td>\n",
       "      <td>0.0</td>\n",
       "      <td>2.0</td>\n",
       "      <td>0.0</td>\n",
       "      <td>NaN</td>\n",
       "      <td>Johnson&amp;Johnson, Moderna, Oxford/AstraZeneca, ...</td>\n",
       "    </tr>\n",
       "  </tbody>\n",
       "</table>\n",
       "</div>"
      ],
      "text/plain": [
       "      country iso_code        date  daily_vaccinations  people_vaccinated  \\\n",
       "21261  Norway      NOR  2020-12-02                 NaN                0.0   \n",
       "21262  Norway      NOR  2020-12-03                 0.0                0.0   \n",
       "21263  Norway      NOR  2020-12-04                 0.0                0.0   \n",
       "15647  Latvia      LVA  2020-12-04                 NaN                1.0   \n",
       "15648  Latvia      LVA  2020-12-05                 0.0                2.0   \n",
       "\n",
       "       people_vaccinated_per_hundred  people_fully_vaccinated  \\\n",
       "21261                            0.0                      NaN   \n",
       "21262                            0.0                      NaN   \n",
       "21263                            0.0                      NaN   \n",
       "15647                            0.0                      NaN   \n",
       "15648                            0.0                      NaN   \n",
       "\n",
       "                                                vaccines  \n",
       "21261                           Moderna, Pfizer/BioNTech  \n",
       "21262                           Moderna, Pfizer/BioNTech  \n",
       "21263                           Moderna, Pfizer/BioNTech  \n",
       "15647  Johnson&Johnson, Moderna, Oxford/AstraZeneca, ...  \n",
       "15648  Johnson&Johnson, Moderna, Oxford/AstraZeneca, ...  "
      ]
     },
     "execution_count": 95,
     "metadata": {},
     "output_type": "execute_result"
    }
   ],
   "source": [
    "data.head()"
   ]
  },
  {
   "cell_type": "code",
   "execution_count": 48,
   "metadata": {},
   "outputs": [
    {
     "data": {
      "text/html": [
       "<div>\n",
       "<style scoped>\n",
       "    .dataframe tbody tr th:only-of-type {\n",
       "        vertical-align: middle;\n",
       "    }\n",
       "\n",
       "    .dataframe tbody tr th {\n",
       "        vertical-align: top;\n",
       "    }\n",
       "\n",
       "    .dataframe thead th {\n",
       "        text-align: right;\n",
       "    }\n",
       "</style>\n",
       "<table border=\"1\" class=\"dataframe\">\n",
       "  <thead>\n",
       "    <tr style=\"text-align: right;\">\n",
       "      <th></th>\n",
       "      <th>country</th>\n",
       "      <th>iso_code</th>\n",
       "      <th>date</th>\n",
       "      <th>daily_vaccinations</th>\n",
       "      <th>people_vaccinated</th>\n",
       "      <th>people_vaccinated_per_hundred</th>\n",
       "      <th>people_fully_vaccinated</th>\n",
       "      <th>vaccines</th>\n",
       "    </tr>\n",
       "  </thead>\n",
       "  <tbody>\n",
       "    <tr>\n",
       "      <th>5770</th>\n",
       "      <td>China</td>\n",
       "      <td>CHN</td>\n",
       "      <td>2021-06-10</td>\n",
       "      <td>17401857.0</td>\n",
       "      <td>622000000.0</td>\n",
       "      <td>43.21</td>\n",
       "      <td>223299000.0</td>\n",
       "      <td>CanSino, Sinopharm/Beijing, Sinopharm/Wuhan, S...</td>\n",
       "    </tr>\n",
       "    <tr>\n",
       "      <th>30257</th>\n",
       "      <td>United States</td>\n",
       "      <td>USA</td>\n",
       "      <td>2021-07-17</td>\n",
       "      <td>524863.0</td>\n",
       "      <td>185765452.0</td>\n",
       "      <td>55.54</td>\n",
       "      <td>160994035.0</td>\n",
       "      <td>Johnson&amp;Johnson, Moderna, Pfizer/BioNTech</td>\n",
       "    </tr>\n",
       "    <tr>\n",
       "      <th>30256</th>\n",
       "      <td>United States</td>\n",
       "      <td>USA</td>\n",
       "      <td>2021-07-16</td>\n",
       "      <td>519678.0</td>\n",
       "      <td>185424899.0</td>\n",
       "      <td>55.44</td>\n",
       "      <td>160686378.0</td>\n",
       "      <td>Johnson&amp;Johnson, Moderna, Pfizer/BioNTech</td>\n",
       "    </tr>\n",
       "    <tr>\n",
       "      <th>30255</th>\n",
       "      <td>United States</td>\n",
       "      <td>USA</td>\n",
       "      <td>2021-07-15</td>\n",
       "      <td>529879.0</td>\n",
       "      <td>185135757.0</td>\n",
       "      <td>55.36</td>\n",
       "      <td>160408538.0</td>\n",
       "      <td>Johnson&amp;Johnson, Moderna, Pfizer/BioNTech</td>\n",
       "    </tr>\n",
       "    <tr>\n",
       "      <th>30254</th>\n",
       "      <td>United States</td>\n",
       "      <td>USA</td>\n",
       "      <td>2021-07-14</td>\n",
       "      <td>548045.0</td>\n",
       "      <td>184835149.0</td>\n",
       "      <td>55.27</td>\n",
       "      <td>160126516.0</td>\n",
       "      <td>Johnson&amp;Johnson, Moderna, Pfizer/BioNTech</td>\n",
       "    </tr>\n",
       "    <tr>\n",
       "      <th>30253</th>\n",
       "      <td>United States</td>\n",
       "      <td>USA</td>\n",
       "      <td>2021-07-13</td>\n",
       "      <td>532556.0</td>\n",
       "      <td>184543821.0</td>\n",
       "      <td>55.18</td>\n",
       "      <td>159675163.0</td>\n",
       "      <td>Johnson&amp;Johnson, Moderna, Pfizer/BioNTech</td>\n",
       "    </tr>\n",
       "    <tr>\n",
       "      <th>30252</th>\n",
       "      <td>United States</td>\n",
       "      <td>USA</td>\n",
       "      <td>2021-07-12</td>\n",
       "      <td>527353.0</td>\n",
       "      <td>184365333.0</td>\n",
       "      <td>55.13</td>\n",
       "      <td>159499224.0</td>\n",
       "      <td>Johnson&amp;Johnson, Moderna, Pfizer/BioNTech</td>\n",
       "    </tr>\n",
       "    <tr>\n",
       "      <th>30251</th>\n",
       "      <td>United States</td>\n",
       "      <td>USA</td>\n",
       "      <td>2021-07-11</td>\n",
       "      <td>506771.0</td>\n",
       "      <td>184132768.0</td>\n",
       "      <td>55.06</td>\n",
       "      <td>159266536.0</td>\n",
       "      <td>Johnson&amp;Johnson, Moderna, Pfizer/BioNTech</td>\n",
       "    </tr>\n",
       "    <tr>\n",
       "      <th>30250</th>\n",
       "      <td>United States</td>\n",
       "      <td>USA</td>\n",
       "      <td>2021-07-10</td>\n",
       "      <td>513550.0</td>\n",
       "      <td>183836917.0</td>\n",
       "      <td>54.97</td>\n",
       "      <td>158954417.0</td>\n",
       "      <td>Johnson&amp;Johnson, Moderna, Pfizer/BioNTech</td>\n",
       "    </tr>\n",
       "    <tr>\n",
       "      <th>30249</th>\n",
       "      <td>United States</td>\n",
       "      <td>USA</td>\n",
       "      <td>2021-07-09</td>\n",
       "      <td>593848.0</td>\n",
       "      <td>183542871.0</td>\n",
       "      <td>54.88</td>\n",
       "      <td>158629431.0</td>\n",
       "      <td>Johnson&amp;Johnson, Moderna, Pfizer/BioNTech</td>\n",
       "    </tr>\n",
       "    <tr>\n",
       "      <th>30248</th>\n",
       "      <td>United States</td>\n",
       "      <td>USA</td>\n",
       "      <td>2021-07-08</td>\n",
       "      <td>599070.0</td>\n",
       "      <td>183237046.0</td>\n",
       "      <td>54.79</td>\n",
       "      <td>158287566.0</td>\n",
       "      <td>Johnson&amp;Johnson, Moderna, Pfizer/BioNTech</td>\n",
       "    </tr>\n",
       "    <tr>\n",
       "      <th>30247</th>\n",
       "      <td>United States</td>\n",
       "      <td>USA</td>\n",
       "      <td>2021-07-07</td>\n",
       "      <td>732848.0</td>\n",
       "      <td>182896080.0</td>\n",
       "      <td>54.69</td>\n",
       "      <td>157908171.0</td>\n",
       "      <td>Johnson&amp;Johnson, Moderna, Pfizer/BioNTech</td>\n",
       "    </tr>\n",
       "    <tr>\n",
       "      <th>30246</th>\n",
       "      <td>United States</td>\n",
       "      <td>USA</td>\n",
       "      <td>2021-07-06</td>\n",
       "      <td>865929.0</td>\n",
       "      <td>182714064.0</td>\n",
       "      <td>54.63</td>\n",
       "      <td>157636088.0</td>\n",
       "      <td>Johnson&amp;Johnson, Moderna, Pfizer/BioNTech</td>\n",
       "    </tr>\n",
       "    <tr>\n",
       "      <th>30244</th>\n",
       "      <td>United States</td>\n",
       "      <td>USA</td>\n",
       "      <td>2021-07-04</td>\n",
       "      <td>1039561.0</td>\n",
       "      <td>182412776.0</td>\n",
       "      <td>54.54</td>\n",
       "      <td>157323738.0</td>\n",
       "      <td>Johnson&amp;Johnson, Moderna, Pfizer/BioNTech</td>\n",
       "    </tr>\n",
       "    <tr>\n",
       "      <th>30243</th>\n",
       "      <td>United States</td>\n",
       "      <td>USA</td>\n",
       "      <td>2021-07-03</td>\n",
       "      <td>1121064.0</td>\n",
       "      <td>182109860.0</td>\n",
       "      <td>54.45</td>\n",
       "      <td>156982549.0</td>\n",
       "      <td>Johnson&amp;Johnson, Moderna, Pfizer/BioNTech</td>\n",
       "    </tr>\n",
       "    <tr>\n",
       "      <th>30242</th>\n",
       "      <td>United States</td>\n",
       "      <td>USA</td>\n",
       "      <td>2021-07-02</td>\n",
       "      <td>1087156.0</td>\n",
       "      <td>181650678.0</td>\n",
       "      <td>54.31</td>\n",
       "      <td>156255896.0</td>\n",
       "      <td>Johnson&amp;Johnson, Moderna, Pfizer/BioNTech</td>\n",
       "    </tr>\n",
       "    <tr>\n",
       "      <th>30241</th>\n",
       "      <td>United States</td>\n",
       "      <td>USA</td>\n",
       "      <td>2021-07-01</td>\n",
       "      <td>1066443.0</td>\n",
       "      <td>181339416.0</td>\n",
       "      <td>54.22</td>\n",
       "      <td>155884601.0</td>\n",
       "      <td>Johnson&amp;Johnson, Moderna, Pfizer/BioNTech</td>\n",
       "    </tr>\n",
       "    <tr>\n",
       "      <th>30240</th>\n",
       "      <td>United States</td>\n",
       "      <td>USA</td>\n",
       "      <td>2021-06-30</td>\n",
       "      <td>949925.0</td>\n",
       "      <td>180674739.0</td>\n",
       "      <td>54.02</td>\n",
       "      <td>154884686.0</td>\n",
       "      <td>Johnson&amp;Johnson, Moderna, Pfizer/BioNTech</td>\n",
       "    </tr>\n",
       "    <tr>\n",
       "      <th>30239</th>\n",
       "      <td>United States</td>\n",
       "      <td>USA</td>\n",
       "      <td>2021-06-29</td>\n",
       "      <td>847000.0</td>\n",
       "      <td>179940202.0</td>\n",
       "      <td>53.80</td>\n",
       "      <td>154199664.0</td>\n",
       "      <td>Johnson&amp;Johnson, Moderna, Pfizer/BioNTech</td>\n",
       "    </tr>\n",
       "    <tr>\n",
       "      <th>30238</th>\n",
       "      <td>United States</td>\n",
       "      <td>USA</td>\n",
       "      <td>2021-06-28</td>\n",
       "      <td>833990.0</td>\n",
       "      <td>179615165.0</td>\n",
       "      <td>53.71</td>\n",
       "      <td>153776118.0</td>\n",
       "      <td>Johnson&amp;Johnson, Moderna, Pfizer/BioNTech</td>\n",
       "    </tr>\n",
       "  </tbody>\n",
       "</table>\n",
       "</div>"
      ],
      "text/plain": [
       "             country iso_code        date  daily_vaccinations  \\\n",
       "5770           China      CHN  2021-06-10          17401857.0   \n",
       "30257  United States      USA  2021-07-17            524863.0   \n",
       "30256  United States      USA  2021-07-16            519678.0   \n",
       "30255  United States      USA  2021-07-15            529879.0   \n",
       "30254  United States      USA  2021-07-14            548045.0   \n",
       "30253  United States      USA  2021-07-13            532556.0   \n",
       "30252  United States      USA  2021-07-12            527353.0   \n",
       "30251  United States      USA  2021-07-11            506771.0   \n",
       "30250  United States      USA  2021-07-10            513550.0   \n",
       "30249  United States      USA  2021-07-09            593848.0   \n",
       "30248  United States      USA  2021-07-08            599070.0   \n",
       "30247  United States      USA  2021-07-07            732848.0   \n",
       "30246  United States      USA  2021-07-06            865929.0   \n",
       "30244  United States      USA  2021-07-04           1039561.0   \n",
       "30243  United States      USA  2021-07-03           1121064.0   \n",
       "30242  United States      USA  2021-07-02           1087156.0   \n",
       "30241  United States      USA  2021-07-01           1066443.0   \n",
       "30240  United States      USA  2021-06-30            949925.0   \n",
       "30239  United States      USA  2021-06-29            847000.0   \n",
       "30238  United States      USA  2021-06-28            833990.0   \n",
       "\n",
       "       people_vaccinated  people_vaccinated_per_hundred  \\\n",
       "5770         622000000.0                          43.21   \n",
       "30257        185765452.0                          55.54   \n",
       "30256        185424899.0                          55.44   \n",
       "30255        185135757.0                          55.36   \n",
       "30254        184835149.0                          55.27   \n",
       "30253        184543821.0                          55.18   \n",
       "30252        184365333.0                          55.13   \n",
       "30251        184132768.0                          55.06   \n",
       "30250        183836917.0                          54.97   \n",
       "30249        183542871.0                          54.88   \n",
       "30248        183237046.0                          54.79   \n",
       "30247        182896080.0                          54.69   \n",
       "30246        182714064.0                          54.63   \n",
       "30244        182412776.0                          54.54   \n",
       "30243        182109860.0                          54.45   \n",
       "30242        181650678.0                          54.31   \n",
       "30241        181339416.0                          54.22   \n",
       "30240        180674739.0                          54.02   \n",
       "30239        179940202.0                          53.80   \n",
       "30238        179615165.0                          53.71   \n",
       "\n",
       "       people_fully_vaccinated  \\\n",
       "5770               223299000.0   \n",
       "30257              160994035.0   \n",
       "30256              160686378.0   \n",
       "30255              160408538.0   \n",
       "30254              160126516.0   \n",
       "30253              159675163.0   \n",
       "30252              159499224.0   \n",
       "30251              159266536.0   \n",
       "30250              158954417.0   \n",
       "30249              158629431.0   \n",
       "30248              158287566.0   \n",
       "30247              157908171.0   \n",
       "30246              157636088.0   \n",
       "30244              157323738.0   \n",
       "30243              156982549.0   \n",
       "30242              156255896.0   \n",
       "30241              155884601.0   \n",
       "30240              154884686.0   \n",
       "30239              154199664.0   \n",
       "30238              153776118.0   \n",
       "\n",
       "                                                vaccines  \n",
       "5770   CanSino, Sinopharm/Beijing, Sinopharm/Wuhan, S...  \n",
       "30257          Johnson&Johnson, Moderna, Pfizer/BioNTech  \n",
       "30256          Johnson&Johnson, Moderna, Pfizer/BioNTech  \n",
       "30255          Johnson&Johnson, Moderna, Pfizer/BioNTech  \n",
       "30254          Johnson&Johnson, Moderna, Pfizer/BioNTech  \n",
       "30253          Johnson&Johnson, Moderna, Pfizer/BioNTech  \n",
       "30252          Johnson&Johnson, Moderna, Pfizer/BioNTech  \n",
       "30251          Johnson&Johnson, Moderna, Pfizer/BioNTech  \n",
       "30250          Johnson&Johnson, Moderna, Pfizer/BioNTech  \n",
       "30249          Johnson&Johnson, Moderna, Pfizer/BioNTech  \n",
       "30248          Johnson&Johnson, Moderna, Pfizer/BioNTech  \n",
       "30247          Johnson&Johnson, Moderna, Pfizer/BioNTech  \n",
       "30246          Johnson&Johnson, Moderna, Pfizer/BioNTech  \n",
       "30244          Johnson&Johnson, Moderna, Pfizer/BioNTech  \n",
       "30243          Johnson&Johnson, Moderna, Pfizer/BioNTech  \n",
       "30242          Johnson&Johnson, Moderna, Pfizer/BioNTech  \n",
       "30241          Johnson&Johnson, Moderna, Pfizer/BioNTech  \n",
       "30240          Johnson&Johnson, Moderna, Pfizer/BioNTech  \n",
       "30239          Johnson&Johnson, Moderna, Pfizer/BioNTech  \n",
       "30238          Johnson&Johnson, Moderna, Pfizer/BioNTech  "
      ]
     },
     "execution_count": 48,
     "metadata": {},
     "output_type": "execute_result"
    }
   ],
   "source": [
    "#data.sort_values(\"people_vaccinated_per_hundred\")\n",
    "\n",
    "data_total = data.sort_values(by=\"people_fully_vaccinated\",ascending=False)\n",
    "data_total.head(20)"
   ]
  },
  {
   "cell_type": "code",
   "execution_count": 49,
   "metadata": {},
   "outputs": [
    {
     "data": {
      "text/html": [
       "<div>\n",
       "<style scoped>\n",
       "    .dataframe tbody tr th:only-of-type {\n",
       "        vertical-align: middle;\n",
       "    }\n",
       "\n",
       "    .dataframe tbody tr th {\n",
       "        vertical-align: top;\n",
       "    }\n",
       "\n",
       "    .dataframe thead th {\n",
       "        text-align: right;\n",
       "    }\n",
       "</style>\n",
       "<table border=\"1\" class=\"dataframe\">\n",
       "  <thead>\n",
       "    <tr style=\"text-align: right;\">\n",
       "      <th></th>\n",
       "      <th>country</th>\n",
       "      <th>iso_code</th>\n",
       "      <th>date</th>\n",
       "      <th>daily_vaccinations</th>\n",
       "      <th>people_vaccinated</th>\n",
       "      <th>people_vaccinated_per_hundred</th>\n",
       "      <th>people_fully_vaccinated</th>\n",
       "      <th>vaccines</th>\n",
       "    </tr>\n",
       "  </thead>\n",
       "  <tbody>\n",
       "    <tr>\n",
       "      <th>5770</th>\n",
       "      <td>China</td>\n",
       "      <td>CHN</td>\n",
       "      <td>2021-06-10</td>\n",
       "      <td>17401857.0</td>\n",
       "      <td>622000000.0</td>\n",
       "      <td>43.21</td>\n",
       "      <td>223299000.0</td>\n",
       "      <td>CanSino, Sinopharm/Beijing, Sinopharm/Wuhan, S...</td>\n",
       "    </tr>\n",
       "    <tr>\n",
       "      <th>30257</th>\n",
       "      <td>United States</td>\n",
       "      <td>USA</td>\n",
       "      <td>2021-07-17</td>\n",
       "      <td>524863.0</td>\n",
       "      <td>185765452.0</td>\n",
       "      <td>55.54</td>\n",
       "      <td>160994035.0</td>\n",
       "      <td>Johnson&amp;Johnson, Moderna, Pfizer/BioNTech</td>\n",
       "    </tr>\n",
       "    <tr>\n",
       "      <th>12999</th>\n",
       "      <td>India</td>\n",
       "      <td>IND</td>\n",
       "      <td>2021-07-16</td>\n",
       "      <td>3883425.0</td>\n",
       "      <td>318665226.0</td>\n",
       "      <td>23.09</td>\n",
       "      <td>81030653.0</td>\n",
       "      <td>Covaxin, Oxford/AstraZeneca, Sputnik V</td>\n",
       "    </tr>\n",
       "    <tr>\n",
       "      <th>10663</th>\n",
       "      <td>Germany</td>\n",
       "      <td>DEU</td>\n",
       "      <td>2021-07-16</td>\n",
       "      <td>584144.0</td>\n",
       "      <td>49632810.0</td>\n",
       "      <td>59.24</td>\n",
       "      <td>38194316.0</td>\n",
       "      <td>Johnson&amp;Johnson, Moderna, Oxford/AstraZeneca, ...</td>\n",
       "    </tr>\n",
       "    <tr>\n",
       "      <th>30047</th>\n",
       "      <td>United Kingdom</td>\n",
       "      <td>GBR</td>\n",
       "      <td>2021-07-16</td>\n",
       "      <td>231196.0</td>\n",
       "      <td>46227101.0</td>\n",
       "      <td>68.10</td>\n",
       "      <td>35732297.0</td>\n",
       "      <td>Moderna, Oxford/AstraZeneca, Pfizer/BioNTech</td>\n",
       "    </tr>\n",
       "    <tr>\n",
       "      <th>...</th>\n",
       "      <td>...</td>\n",
       "      <td>...</td>\n",
       "      <td>...</td>\n",
       "      <td>...</td>\n",
       "      <td>...</td>\n",
       "      <td>...</td>\n",
       "      <td>...</td>\n",
       "      <td>...</td>\n",
       "    </tr>\n",
       "    <tr>\n",
       "      <th>5303</th>\n",
       "      <td>Central African Republic</td>\n",
       "      <td>CAF</td>\n",
       "      <td>2021-05-12</td>\n",
       "      <td>NaN</td>\n",
       "      <td>667.0</td>\n",
       "      <td>0.01</td>\n",
       "      <td>NaN</td>\n",
       "      <td>Covaxin, Oxford/AstraZeneca</td>\n",
       "    </tr>\n",
       "    <tr>\n",
       "      <th>17061</th>\n",
       "      <td>Madagascar</td>\n",
       "      <td>MDG</td>\n",
       "      <td>2021-05-12</td>\n",
       "      <td>NaN</td>\n",
       "      <td>609.0</td>\n",
       "      <td>0.00</td>\n",
       "      <td>NaN</td>\n",
       "      <td>Oxford/AstraZeneca</td>\n",
       "    </tr>\n",
       "    <tr>\n",
       "      <th>30490</th>\n",
       "      <td>Vanuatu</td>\n",
       "      <td>VUT</td>\n",
       "      <td>2021-06-01</td>\n",
       "      <td>NaN</td>\n",
       "      <td>0.0</td>\n",
       "      <td>0.00</td>\n",
       "      <td>NaN</td>\n",
       "      <td>Oxford/AstraZeneca</td>\n",
       "    </tr>\n",
       "    <tr>\n",
       "      <th>22665</th>\n",
       "      <td>Pitcairn</td>\n",
       "      <td>PCN</td>\n",
       "      <td>2021-06-15</td>\n",
       "      <td>NaN</td>\n",
       "      <td>47.0</td>\n",
       "      <td>100.00</td>\n",
       "      <td>NaN</td>\n",
       "      <td>Oxford/AstraZeneca</td>\n",
       "    </tr>\n",
       "    <tr>\n",
       "      <th>12146</th>\n",
       "      <td>Haiti</td>\n",
       "      <td>HTI</td>\n",
       "      <td>2021-07-16</td>\n",
       "      <td>NaN</td>\n",
       "      <td>38.0</td>\n",
       "      <td>0.00</td>\n",
       "      <td>NaN</td>\n",
       "      <td>Oxford/AstraZeneca</td>\n",
       "    </tr>\n",
       "  </tbody>\n",
       "</table>\n",
       "<p>219 rows × 8 columns</p>\n",
       "</div>"
      ],
      "text/plain": [
       "                        country iso_code        date  daily_vaccinations  \\\n",
       "5770                      China      CHN  2021-06-10          17401857.0   \n",
       "30257             United States      USA  2021-07-17            524863.0   \n",
       "12999                     India      IND  2021-07-16           3883425.0   \n",
       "10663                   Germany      DEU  2021-07-16            584144.0   \n",
       "30047            United Kingdom      GBR  2021-07-16            231196.0   \n",
       "...                         ...      ...         ...                 ...   \n",
       "5303   Central African Republic      CAF  2021-05-12                 NaN   \n",
       "17061                Madagascar      MDG  2021-05-12                 NaN   \n",
       "30490                   Vanuatu      VUT  2021-06-01                 NaN   \n",
       "22665                  Pitcairn      PCN  2021-06-15                 NaN   \n",
       "12146                     Haiti      HTI  2021-07-16                 NaN   \n",
       "\n",
       "       people_vaccinated  people_vaccinated_per_hundred  \\\n",
       "5770         622000000.0                          43.21   \n",
       "30257        185765452.0                          55.54   \n",
       "12999        318665226.0                          23.09   \n",
       "10663         49632810.0                          59.24   \n",
       "30047         46227101.0                          68.10   \n",
       "...                  ...                            ...   \n",
       "5303               667.0                           0.01   \n",
       "17061              609.0                           0.00   \n",
       "30490                0.0                           0.00   \n",
       "22665               47.0                         100.00   \n",
       "12146               38.0                           0.00   \n",
       "\n",
       "       people_fully_vaccinated  \\\n",
       "5770               223299000.0   \n",
       "30257              160994035.0   \n",
       "12999               81030653.0   \n",
       "10663               38194316.0   \n",
       "30047               35732297.0   \n",
       "...                        ...   \n",
       "5303                       NaN   \n",
       "17061                      NaN   \n",
       "30490                      NaN   \n",
       "22665                      NaN   \n",
       "12146                      NaN   \n",
       "\n",
       "                                                vaccines  \n",
       "5770   CanSino, Sinopharm/Beijing, Sinopharm/Wuhan, S...  \n",
       "30257          Johnson&Johnson, Moderna, Pfizer/BioNTech  \n",
       "12999             Covaxin, Oxford/AstraZeneca, Sputnik V  \n",
       "10663  Johnson&Johnson, Moderna, Oxford/AstraZeneca, ...  \n",
       "30047       Moderna, Oxford/AstraZeneca, Pfizer/BioNTech  \n",
       "...                                                  ...  \n",
       "5303                         Covaxin, Oxford/AstraZeneca  \n",
       "17061                                 Oxford/AstraZeneca  \n",
       "30490                                 Oxford/AstraZeneca  \n",
       "22665                                 Oxford/AstraZeneca  \n",
       "12146                                 Oxford/AstraZeneca  \n",
       "\n",
       "[219 rows x 8 columns]"
      ]
     },
     "execution_count": 49,
     "metadata": {},
     "output_type": "execute_result"
    }
   ],
   "source": [
    "data_total.drop_duplicates(['iso_code'], keep='first', inplace=True)\n",
    "data_total = data_total.sort_values(by=\"people_fully_vaccinated\",ascending=False)\n",
    "data_total"
   ]
  },
  {
   "cell_type": "code",
   "execution_count": 50,
   "metadata": {},
   "outputs": [
    {
     "data": {
      "text/html": [
       "<div>\n",
       "<style scoped>\n",
       "    .dataframe tbody tr th:only-of-type {\n",
       "        vertical-align: middle;\n",
       "    }\n",
       "\n",
       "    .dataframe tbody tr th {\n",
       "        vertical-align: top;\n",
       "    }\n",
       "\n",
       "    .dataframe thead th {\n",
       "        text-align: right;\n",
       "    }\n",
       "</style>\n",
       "<table border=\"1\" class=\"dataframe\">\n",
       "  <thead>\n",
       "    <tr style=\"text-align: right;\">\n",
       "      <th></th>\n",
       "      <th>country</th>\n",
       "      <th>iso_code</th>\n",
       "      <th>date</th>\n",
       "      <th>daily_vaccinations</th>\n",
       "      <th>people_vaccinated</th>\n",
       "      <th>people_vaccinated_per_hundred</th>\n",
       "      <th>people_fully_vaccinated</th>\n",
       "      <th>vaccines</th>\n",
       "    </tr>\n",
       "  </thead>\n",
       "  <tbody>\n",
       "    <tr>\n",
       "      <th>5770</th>\n",
       "      <td>China</td>\n",
       "      <td>CHN</td>\n",
       "      <td>2021-06-10</td>\n",
       "      <td>17401857.0</td>\n",
       "      <td>622000000.0</td>\n",
       "      <td>43.21</td>\n",
       "      <td>223299000.0</td>\n",
       "      <td>CanSino, Sinopharm/Beijing, Sinopharm/Wuhan, S...</td>\n",
       "    </tr>\n",
       "    <tr>\n",
       "      <th>30257</th>\n",
       "      <td>United States</td>\n",
       "      <td>USA</td>\n",
       "      <td>2021-07-17</td>\n",
       "      <td>524863.0</td>\n",
       "      <td>185765452.0</td>\n",
       "      <td>55.54</td>\n",
       "      <td>160994035.0</td>\n",
       "      <td>Johnson&amp;Johnson, Moderna, Pfizer/BioNTech</td>\n",
       "    </tr>\n",
       "    <tr>\n",
       "      <th>12999</th>\n",
       "      <td>India</td>\n",
       "      <td>IND</td>\n",
       "      <td>2021-07-16</td>\n",
       "      <td>3883425.0</td>\n",
       "      <td>318665226.0</td>\n",
       "      <td>23.09</td>\n",
       "      <td>81030653.0</td>\n",
       "      <td>Covaxin, Oxford/AstraZeneca, Sputnik V</td>\n",
       "    </tr>\n",
       "    <tr>\n",
       "      <th>10663</th>\n",
       "      <td>Germany</td>\n",
       "      <td>DEU</td>\n",
       "      <td>2021-07-16</td>\n",
       "      <td>584144.0</td>\n",
       "      <td>49632810.0</td>\n",
       "      <td>59.24</td>\n",
       "      <td>38194316.0</td>\n",
       "      <td>Johnson&amp;Johnson, Moderna, Oxford/AstraZeneca, ...</td>\n",
       "    </tr>\n",
       "    <tr>\n",
       "      <th>30047</th>\n",
       "      <td>United Kingdom</td>\n",
       "      <td>GBR</td>\n",
       "      <td>2021-07-16</td>\n",
       "      <td>231196.0</td>\n",
       "      <td>46227101.0</td>\n",
       "      <td>68.10</td>\n",
       "      <td>35732297.0</td>\n",
       "      <td>Moderna, Oxford/AstraZeneca, Pfizer/BioNTech</td>\n",
       "    </tr>\n",
       "    <tr>\n",
       "      <th>4119</th>\n",
       "      <td>Brazil</td>\n",
       "      <td>BRA</td>\n",
       "      <td>2021-07-17</td>\n",
       "      <td>1454070.0</td>\n",
       "      <td>93842534.0</td>\n",
       "      <td>44.15</td>\n",
       "      <td>33854929.0</td>\n",
       "      <td>Johnson&amp;Johnson, Oxford/AstraZeneca, Pfizer/Bi...</td>\n",
       "    </tr>\n",
       "    <tr>\n",
       "      <th>8654</th>\n",
       "      <td>England</td>\n",
       "      <td>OWID_ENG</td>\n",
       "      <td>2021-07-16</td>\n",
       "      <td>189488.0</td>\n",
       "      <td>38776888.0</td>\n",
       "      <td>68.89</td>\n",
       "      <td>29911441.0</td>\n",
       "      <td>Moderna, Oxford/AstraZeneca, Pfizer/BioNTech</td>\n",
       "    </tr>\n",
       "    <tr>\n",
       "      <th>9939</th>\n",
       "      <td>France</td>\n",
       "      <td>FRA</td>\n",
       "      <td>2021-07-15</td>\n",
       "      <td>569193.0</td>\n",
       "      <td>36766279.0</td>\n",
       "      <td>54.42</td>\n",
       "      <td>27070389.0</td>\n",
       "      <td>Johnson&amp;Johnson, Moderna, Oxford/AstraZeneca, ...</td>\n",
       "    </tr>\n",
       "    <tr>\n",
       "      <th>14259</th>\n",
       "      <td>Italy</td>\n",
       "      <td>ITA</td>\n",
       "      <td>2021-07-17</td>\n",
       "      <td>543392.0</td>\n",
       "      <td>36430397.0</td>\n",
       "      <td>60.25</td>\n",
       "      <td>25963073.0</td>\n",
       "      <td>Johnson&amp;Johnson, Moderna, Oxford/AstraZeneca, ...</td>\n",
       "    </tr>\n",
       "    <tr>\n",
       "      <th>14538</th>\n",
       "      <td>Japan</td>\n",
       "      <td>JPN</td>\n",
       "      <td>2021-07-15</td>\n",
       "      <td>1051913.0</td>\n",
       "      <td>40949434.0</td>\n",
       "      <td>32.38</td>\n",
       "      <td>25765094.0</td>\n",
       "      <td>Moderna, Pfizer/BioNTech</td>\n",
       "    </tr>\n",
       "  </tbody>\n",
       "</table>\n",
       "</div>"
      ],
      "text/plain": [
       "              country  iso_code        date  daily_vaccinations  \\\n",
       "5770            China       CHN  2021-06-10          17401857.0   \n",
       "30257   United States       USA  2021-07-17            524863.0   \n",
       "12999           India       IND  2021-07-16           3883425.0   \n",
       "10663         Germany       DEU  2021-07-16            584144.0   \n",
       "30047  United Kingdom       GBR  2021-07-16            231196.0   \n",
       "4119           Brazil       BRA  2021-07-17           1454070.0   \n",
       "8654          England  OWID_ENG  2021-07-16            189488.0   \n",
       "9939           France       FRA  2021-07-15            569193.0   \n",
       "14259           Italy       ITA  2021-07-17            543392.0   \n",
       "14538           Japan       JPN  2021-07-15           1051913.0   \n",
       "\n",
       "       people_vaccinated  people_vaccinated_per_hundred  \\\n",
       "5770         622000000.0                          43.21   \n",
       "30257        185765452.0                          55.54   \n",
       "12999        318665226.0                          23.09   \n",
       "10663         49632810.0                          59.24   \n",
       "30047         46227101.0                          68.10   \n",
       "4119          93842534.0                          44.15   \n",
       "8654          38776888.0                          68.89   \n",
       "9939          36766279.0                          54.42   \n",
       "14259         36430397.0                          60.25   \n",
       "14538         40949434.0                          32.38   \n",
       "\n",
       "       people_fully_vaccinated  \\\n",
       "5770               223299000.0   \n",
       "30257              160994035.0   \n",
       "12999               81030653.0   \n",
       "10663               38194316.0   \n",
       "30047               35732297.0   \n",
       "4119                33854929.0   \n",
       "8654                29911441.0   \n",
       "9939                27070389.0   \n",
       "14259               25963073.0   \n",
       "14538               25765094.0   \n",
       "\n",
       "                                                vaccines  \n",
       "5770   CanSino, Sinopharm/Beijing, Sinopharm/Wuhan, S...  \n",
       "30257          Johnson&Johnson, Moderna, Pfizer/BioNTech  \n",
       "12999             Covaxin, Oxford/AstraZeneca, Sputnik V  \n",
       "10663  Johnson&Johnson, Moderna, Oxford/AstraZeneca, ...  \n",
       "30047       Moderna, Oxford/AstraZeneca, Pfizer/BioNTech  \n",
       "4119   Johnson&Johnson, Oxford/AstraZeneca, Pfizer/Bi...  \n",
       "8654        Moderna, Oxford/AstraZeneca, Pfizer/BioNTech  \n",
       "9939   Johnson&Johnson, Moderna, Oxford/AstraZeneca, ...  \n",
       "14259  Johnson&Johnson, Moderna, Oxford/AstraZeneca, ...  \n",
       "14538                           Moderna, Pfizer/BioNTech  "
      ]
     },
     "execution_count": 50,
     "metadata": {},
     "output_type": "execute_result"
    }
   ],
   "source": [
    "data_total_short = data_total.head(10)\n",
    "data_total_short"
   ]
  },
  {
   "cell_type": "code",
   "execution_count": 96,
   "metadata": {},
   "outputs": [
    {
     "data": {
      "image/png": "[encoded data removed]",
      "text/plain": [
       "<Figure size 432x288 with 1 Axes>"
      ]
     },
     "metadata": {
      "needs_background": "light"
     },
     "output_type": "display_data"
    }
   ],
   "source": [
    "import matplotlib.pyplot as plt\n",
    "fig = plt.figure()\n",
    "ax = fig.add_axes([0,0,1,1])\n",
    "ax.bar(data_total_short.country,data_total_short.people_fully_vaccinated)\n",
    "ax.set_ylabel('Total Vaccinations')\n",
    "ax.set_title('Total Vaccinations per Country')\n",
    "plt.xticks(rotation=90)\n",
    "plt.bar(data_total_short.country,data_total_short.people_fully_vaccinated, color=['salmon', 'orange', 'gold', 'lightgreen', 'paleturquoise', \"plum\", \"pink\", \"peachpuff\", \"silver\", 'aquamarine'])\n",
    "plt.show()\n"
   ]
  },
  {
   "cell_type": "code",
   "execution_count": 85,
   "metadata": {},
   "outputs": [
    {
     "data": {
      "application/vnd.plotly.v1+json": {
       "config": {
        "plotlyServerURL": "https://plot.ly"
       },
       "data": [
        {
         "coloraxis": "coloraxis",
         "geo": "geo",
         "hovertemplate": "<b>%{hovertext}</b><br><br>iso_code=%{location}<br>people_fully_vaccinated=%{z}<extra></extra>",
         "hovertext": [
          "China",
          "United States",
          "India",
          "Germany",
          "United Kingdom",
          "Brazil",
          "England",
          "France",
          "Italy",
          "Japan",
          "Spain",
          "Mexico",
          "Russia",
          "Turkey",
          "Canada",
          "Indonesia",
          "Poland",
          "Chile",
          "Colombia",
          "Morocco",
          "Netherlands",
          "United Arab Emirates",
          "South Korea",
          "Belgium",
          "Argentina",
          "Hungary",
          "Israel",
          "Romania",
          "Portugal",
          "Greece",
          "Pakistan",
          "Malaysia",
          "Philippines",
          "Bangladesh",
          "Czechia",
          "Cambodia",
          "Austria",
          "Saudi Arabia",
          "Peru",
          "Sweden",
          "Dominican Republic",
          "Switzerland",
          "Thailand",
          "Scotland",
          "Australia",
          "Kazakhstan",
          "Serbia",
          "Singapore",
          "Denmark",
          "Ireland",
          "Iran",
          "Cuba",
          "Uruguay",
          "Hong Kong",
          "Wales",
          "Jordan",
          "Ecuador",
          "Slovakia",
          "Mongolia",
          "Azerbaijan",
          "South Africa",
          "Norway",
          "Sri Lanka",
          "Qatar",
          "Myanmar",
          "Finland",
          "Ukraine",
          "Nigeria",
          "El Salvador",
          "Croatia",
          "Egypt",
          "Uzbekistan",
          "Lithuania",
          "Nepal",
          "Venezuela",
          "Bahrain",
          "Northern Ireland",
          "Kuwait",
          "Bulgaria",
          "Costa Rica",
          "Bolivia",
          "Slovenia",
          "Tunisia",
          "Laos",
          "Lebanon",
          "Panama",
          "Latvia",
          "Zimbabwe",
          "Angola",
          "Kenya",
          "New Zealand",
          "Estonia",
          "Albania",
          "Cyprus",
          "Palestine",
          "Ghana",
          "Iraq",
          "Belarus",
          "Moldova",
          "Malta",
          "Mauritius",
          "Vietnam",
          "Oman",
          "Guinea",
          "North Macedonia",
          "Luxembourg",
          "Maldives",
          "Guatemala",
          "Rwanda",
          "Iceland",
          "Senegal",
          "Afghanistan",
          "Macao",
          "Bosnia and Herzegovina",
          "Trinidad and Tobago",
          "Mozambique",
          "Montenegro",
          "Paraguay",
          "Taiwan",
          "Sudan",
          "Guyana",
          "Jamaica",
          "Equatorial Guinea",
          "Georgia",
          "Botswana",
          "Somalia",
          "Northern Cyprus",
          "Curacao",
          "Honduras",
          "Togo",
          "Kyrgyzstan",
          "Barbados",
          "Armenia",
          "Seychelles",
          "Fiji",
          "French Polynesia",
          "Aruba",
          "Zambia",
          "Kosovo",
          "Niger",
          "Jersey",
          "New Caledonia",
          "Isle of Man",
          "Mali",
          "Suriname",
          "Cayman Islands",
          "Timor",
          "Malawi",
          "Belize",
          "Comoros",
          "Bermuda",
          "Gibraltar",
          "Bahamas",
          "Namibia",
          "Cameroon",
          "Antigua and Barbuda",
          "Andorra",
          "Gabon",
          "Faeroe Islands",
          "Saint Lucia",
          "San Marino",
          "Eswatini",
          "Turks and Caicos Islands",
          "Tajikistan",
          "Dominica",
          "Lesotho",
          "Saint Kitts and Nevis",
          "Sint Maarten (Dutch part)",
          "Greenland",
          "Brunei",
          "Monaco",
          "Liechtenstein",
          "Sierra Leone",
          "Grenada",
          "Cape Verde",
          "Guernsey",
          "Mauritania",
          "Gambia",
          "Benin",
          "Sao Tome and Principe",
          "Turkmenistan",
          "British Virgin Islands",
          "Syria",
          "Samoa",
          "Cook Islands",
          "Liberia",
          "Djibouti",
          "Yemen",
          "Democratic Republic of Congo",
          "Anguilla",
          "Solomon Islands",
          "Chad",
          "Wallis and Futuna",
          "South Sudan",
          "Uganda",
          "Saint Helena",
          "Burkina Faso",
          "Nauru",
          "Falkland Islands",
          "Bonaire Sint Eustatius and Saba",
          "Bhutan",
          "Guinea-Bissau",
          "Montserrat",
          "Papua New Guinea",
          "Niue",
          "Algeria",
          "Cote d'Ivoire",
          "Nicaragua",
          "Saint Vincent and the Grenadines",
          "Ethiopia",
          "Congo",
          "Libya",
          "Tonga",
          "Tuvalu",
          "Central African Republic",
          "Madagascar",
          "Vanuatu",
          "Pitcairn",
          "Haiti"
         ],
         "locations": [
          "CHN",
          "USA",
          "IND",
          "DEU",
          "GBR",
          "BRA",
          "OWID_ENG",
          "FRA",
          "ITA",
          "JPN",
          "ESP",
          "MEX",
          "RUS",
          "TUR",
          "CAN",
          "IDN",
          "POL",
          "CHL",
          "COL",
          "MAR",
          "NLD",
          "ARE",
          "KOR",
          "BEL",
          "ARG",
          "HUN",
          "ISR",
          "ROU",
          "PRT",
          "GRC",
          "PAK",
          "MYS",
          "PHL",
          "BGD",
          "CZE",
          "KHM",
          "AUT",
          "SAU",
          "PER",
          "SWE",
          "DOM",
          "CHE",
          "THA",
          "OWID_SCT",
          "AUS",
          "KAZ",
          "SRB",
          "SGP",
          "DNK",
          "IRL",
          "IRN",
          "CUB",
          "URY",
          "HKG",
          "OWID_WLS",
          "JOR",
          "ECU",
          "SVK",
          "MNG",
          "AZE",
          "ZAF",
          "NOR",
          "LKA",
          "QAT",
          "MMR",
          "FIN",
          "UKR",
          "NGA",
          "SLV",
          "HRV",
          "EGY",
          "UZB",
          "LTU",
          "NPL",
          "VEN",
          "BHR",
          "OWID_NIR",
          "KWT",
          "BGR",
          "CRI",
          "BOL",
          "SVN",
          "TUN",
          "LAO",
          "LBN",
          "PAN",
          "LVA",
          "ZWE",
          "AGO",
          "KEN",
          "NZL",
          "EST",
          "ALB",
          "CYP",
          "PSE",
          "GHA",
          "IRQ",
          "BLR",
          "MDA",
          "MLT",
          "MUS",
          "VNM",
          "OMN",
          "GIN",
          "MKD",
          "LUX",
          "MDV",
          "GTM",
          "RWA",
          "ISL",
          "SEN",
          "AFG",
          "MAC",
          "BIH",
          "TTO",
          "MOZ",
          "MNE",
          "PRY",
          "TWN",
          "SDN",
          "GUY",
          "JAM",
          "GNQ",
          "GEO",
          "BWA",
          "SOM",
          "OWID_CYN",
          "CUW",
          "HND",
          "TGO",
          "KGZ",
          "BRB",
          "ARM",
          "SYC",
          "FJI",
          "PYF",
          "ABW",
          "ZMB",
          "OWID_KOS",
          "NER",
          "JEY",
          "NCL",
          "IMN",
          "MLI",
          "SUR",
          "CYM",
          "TLS",
          "MWI",
          "BLZ",
          "COM",
          "BMU",
          "GIB",
          "BHS",
          "NAM",
          "CMR",
          "ATG",
          "AND",
          "GAB",
          "FRO",
          "LCA",
          "SMR",
          "SWZ",
          "TCA",
          "TJK",
          "DMA",
          "LSO",
          "KNA",
          "SXM",
          "GRL",
          "BRN",
          "MCO",
          "LIE",
          "SLE",
          "GRD",
          "CPV",
          "GGY",
          "MRT",
          "GMB",
          "BEN",
          "STP",
          "TKM",
          "VGB",
          "SYR",
          "WSM",
          "COK",
          "LBR",
          "DJI",
          "YEM",
          "COD",
          "AIA",
          "SLB",
          "TCD",
          "WLF",
          "SSD",
          "UGA",
          "SHN",
          "BFA",
          "NRU",
          "FLK",
          "BES",
          "BTN",
          "GNB",
          "MSR",
          "PNG",
          "NIU",
          "DZA",
          "CIV",
          "NIC",
          "VCT",
          "ETH",
          "COG",
          "LBY",
          "TON",
          "TUV",
          "CAF",
          "MDG",
          "VUT",
          "PCN",
          "HTI"
         ],
         "name": "",
         "type": "choropleth",
         "z": [
          223299000,
          160994035,
          81030653,
          38194316,
          35732297,
          33854929,
          29911441,
          27070389,
          25963073,
          25765094,
          23372796,
          21525199,
          20596805,
          20552887,
          18556079,
          16217855,
          16211976,
          11713620,
          9876044,
          9619727,
          7419262,
          6735241,
          6563885,
          5292222,
          5289658,
          5268814,
          5225831,
          4717574,
          4659363,
          4586714,
          4550696,
          4431350,
          4288660,
          4284959,
          4209733,
          4109976,
          4033347,
          3824488,
          3782220,
          3755292,
          3692082,
          3589640,
          3443330,
          2954776,
          2753511,
          2731707,
          2648573,
          2609367,
          2594684,
          2220585,
          2139782,
          2055163,
          2048449,
          1981021,
          1892082,
          1874961,
          1861422,
          1840558,
          1820488,
          1757167,
          1674152,
          1663798,
          1646176,
          1596287,
          1527284,
          1512165,
          1422536,
          1404740,
          1323958,
          1321943,
          1245472,
          1199541,
          1174337,
          1126870,
          1100000,
          1030588,
          973998,
          923307,
          873183,
          822842,
          796290,
          766912,
          728004,
          670727,
          649780,
          647068,
          635884,
          630610,
          599828,
          572361,
          564789,
          459941,
          455131,
          421004,
          400561,
          400342,
          388541,
          372099,
          358824,
          355883,
          305275,
          304998,
          291645,
          280730,
          267106,
          259085,
          255280,
          254727,
          252842,
          252152,
          236522,
          219159,
          180808,
          163789,
          157330,
          153612,
          145882,
          138116,
          125703,
          123862,
          123050,
          118304,
          117124,
          113895,
          111164,
          87135,
          85859,
          80688,
          79737,
          76462,
          73800,
          72894,
          69998,
          68135,
          66643,
          66019,
          62715,
          62016,
          60759,
          60317,
          58424,
          54454,
          53821,
          51846,
          47192,
          46360,
          43356,
          43165,
          41356,
          41220,
          40545,
          38976,
          37689,
          34288,
          29813,
          28665,
          26613,
          26383,
          25470,
          23113,
          22801,
          22072,
          21496,
          19950,
          19759,
          19685,
          19200,
          18963,
          18915,
          18655,
          18646,
          16196,
          15170,
          14780,
          14280,
          13618,
          13047,
          12303,
          12293,
          11532,
          9753,
          9398,
          9312,
          9254,
          9187,
          9135,
          8810,
          8577,
          8016,
          7630,
          5987,
          5975,
          4502,
          4344,
          4129,
          3531,
          3481,
          3054,
          1775,
          1665,
          1563,
          1463,
          1260,
          710,
          32,
          null,
          null,
          null,
          null,
          null,
          null,
          null,
          null,
          null,
          null,
          null,
          null,
          null,
          null
         ]
        }
       ],
       "layout": {
        "coloraxis": {
         "colorbar": {
          "title": {
           "text": "people_fully_vaccinated"
          }
         },
         "colorscale": [
          [
           0,
           "rgb(246, 210, 169)"
          ],
          [
           0.16666666666666666,
           "rgb(245, 183, 142)"
          ],
          [
           0.3333333333333333,
           "rgb(241, 156, 124)"
          ],
          [
           0.5,
           "rgb(234, 129, 113)"
          ],
          [
           0.6666666666666666,
           "rgb(221, 104, 108)"
          ],
          [
           0.8333333333333334,
           "rgb(202, 82, 104)"
          ],
          [
           1,
           "rgb(177, 63, 100)"
          ]
         ]
        },
        "geo": {
         "center": {},
         "domain": {
          "x": [
           0,
           1
          ],
          "y": [
           0,
           1
          ]
         }
        },
        "legend": {
         "tracegroupgap": 0
        },
        "margin": {
         "t": 60
        },
        "template": {
         "data": {
          "bar": [
           {
            "error_x": {
             "color": "#2a3f5f"
            },
            "error_y": {
             "color": "#2a3f5f"
            },
            "marker": {
             "line": {
              "color": "#E5ECF6",
              "width": 0.5
             }
            },
            "type": "bar"
           }
          ],
          "barpolar": [
           {
            "marker": {
             "line": {
              "color": "#E5ECF6",
              "width": 0.5
             }
            },
            "type": "barpolar"
           }
          ],
          "carpet": [
           {
            "aaxis": {
             "endlinecolor": "#2a3f5f",
             "gridcolor": "white",
             "linecolor": "white",
             "minorgridcolor": "white",
             "startlinecolor": "#2a3f5f"
            },
            "baxis": {
             "endlinecolor": "#2a3f5f",
             "gridcolor": "white",
             "linecolor": "white",
             "minorgridcolor": "white",
             "startlinecolor": "#2a3f5f"
            },
            "type": "carpet"
           }
          ],
          "choropleth": [
           {
            "colorbar": {
             "outlinewidth": 0,
             "ticks": ""
            },
            "type": "choropleth"
           }
          ],
          "contour": [
           {
            "colorbar": {
             "outlinewidth": 0,
             "ticks": ""
            },
            "colorscale": [
             [
              0,
              "#0d0887"
             ],
             [
              0.1111111111111111,
              "#46039f"
             ],
             [
              0.2222222222222222,
              "#7201a8"
             ],
             [
              0.3333333333333333,
              "#9c179e"
             ],
             [
              0.4444444444444444,
              "#bd3786"
             ],
             [
              0.5555555555555556,
              "#d8576b"
             ],
             [
              0.6666666666666666,
              "#ed7953"
             ],
             [
              0.7777777777777778,
              "#fb9f3a"
             ],
             [
              0.8888888888888888,
              "#fdca26"
             ],
             [
              1,
              "#f0f921"
             ]
            ],
            "type": "contour"
           }
          ],
          "contourcarpet": [
           {
            "colorbar": {
             "outlinewidth": 0,
             "ticks": ""
            },
            "type": "contourcarpet"
           }
          ],
          "heatmap": [
           {
            "colorbar": {
             "outlinewidth": 0,
             "ticks": ""
            },
            "colorscale": [
             [
              0,
              "#0d0887"
             ],
             [
              0.1111111111111111,
              "#46039f"
             ],
             [
              0.2222222222222222,
              "#7201a8"
             ],
             [
              0.3333333333333333,
              "#9c179e"
             ],
             [
              0.4444444444444444,
              "#bd3786"
             ],
             [
              0.5555555555555556,
              "#d8576b"
             ],
             [
              0.6666666666666666,
              "#ed7953"
             ],
             [
              0.7777777777777778,
              "#fb9f3a"
             ],
             [
              0.8888888888888888,
              "#fdca26"
             ],
             [
              1,
              "#f0f921"
             ]
            ],
            "type": "heatmap"
           }
          ],
          "heatmapgl": [
           {
            "colorbar": {
             "outlinewidth": 0,
             "ticks": ""
            },
            "colorscale": [
             [
              0,
              "#0d0887"
             ],
             [
              0.1111111111111111,
              "#46039f"
             ],
             [
              0.2222222222222222,
              "#7201a8"
             ],
             [
              0.3333333333333333,
              "#9c179e"
             ],
             [
              0.4444444444444444,
              "#bd3786"
             ],
             [
              0.5555555555555556,
              "#d8576b"
             ],
             [
              0.6666666666666666,
              "#ed7953"
             ],
             [
              0.7777777777777778,
              "#fb9f3a"
             ],
             [
              0.8888888888888888,
              "#fdca26"
             ],
             [
              1,
              "#f0f921"
             ]
            ],
            "type": "heatmapgl"
           }
          ],
          "histogram": [
           {
            "marker": {
             "colorbar": {
              "outlinewidth": 0,
              "ticks": ""
             }
            },
            "type": "histogram"
           }
          ],
          "histogram2d": [
           {
            "colorbar": {
             "outlinewidth": 0,
             "ticks": ""
            },
            "colorscale": [
             [
              0,
              "#0d0887"
             ],
             [
              0.1111111111111111,
              "#46039f"
             ],
             [
              0.2222222222222222,
              "#7201a8"
             ],
             [
              0.3333333333333333,
              "#9c179e"
             ],
             [
              0.4444444444444444,
              "#bd3786"
             ],
             [
              0.5555555555555556,
              "#d8576b"
             ],
             [
              0.6666666666666666,
              "#ed7953"
             ],
             [
              0.7777777777777778,
              "#fb9f3a"
             ],
             [
              0.8888888888888888,
              "#fdca26"
             ],
             [
              1,
              "#f0f921"
             ]
            ],
            "type": "histogram2d"
           }
          ],
          "histogram2dcontour": [
           {
            "colorbar": {
             "outlinewidth": 0,
             "ticks": ""
            },
            "colorscale": [
             [
              0,
              "#0d0887"
             ],
             [
              0.1111111111111111,
              "#46039f"
             ],
             [
              0.2222222222222222,
              "#7201a8"
             ],
             [
              0.3333333333333333,
              "#9c179e"
             ],
             [
              0.4444444444444444,
              "#bd3786"
             ],
             [
              0.5555555555555556,
              "#d8576b"
             ],
             [
              0.6666666666666666,
              "#ed7953"
             ],
             [
              0.7777777777777778,
              "#fb9f3a"
             ],
             [
              0.8888888888888888,
              "#fdca26"
             ],
             [
              1,
              "#f0f921"
             ]
            ],
            "type": "histogram2dcontour"
           }
          ],
          "mesh3d": [
           {
            "colorbar": {
             "outlinewidth": 0,
             "ticks": ""
            },
            "type": "mesh3d"
           }
          ],
          "parcoords": [
           {
            "line": {
             "colorbar": {
              "outlinewidth": 0,
              "ticks": ""
             }
            },
            "type": "parcoords"
           }
          ],
          "pie": [
           {
            "automargin": true,
            "type": "pie"
           }
          ],
          "scatter": [
           {
            "marker": {
             "colorbar": {
              "outlinewidth": 0,
              "ticks": ""
             }
            },
            "type": "scatter"
           }
          ],
          "scatter3d": [
           {
            "line": {
             "colorbar": {
              "outlinewidth": 0,
              "ticks": ""
             }
            },
            "marker": {
             "colorbar": {
              "outlinewidth": 0,
              "ticks": ""
             }
            },
            "type": "scatter3d"
           }
          ],
          "scattercarpet": [
           {
            "marker": {
             "colorbar": {
              "outlinewidth": 0,
              "ticks": ""
             }
            },
            "type": "scattercarpet"
           }
          ],
          "scattergeo": [
           {
            "marker": {
             "colorbar": {
              "outlinewidth": 0,
              "ticks": ""
             }
            },
            "type": "scattergeo"
           }
          ],
          "scattergl": [
           {
            "marker": {
             "colorbar": {
              "outlinewidth": 0,
              "ticks": ""
             }
            },
            "type": "scattergl"
           }
          ],
          "scattermapbox": [
           {
            "marker": {
             "colorbar": {
              "outlinewidth": 0,
              "ticks": ""
             }
            },
            "type": "scattermapbox"
           }
          ],
          "scatterpolar": [
           {
            "marker": {
             "colorbar": {
              "outlinewidth": 0,
              "ticks": ""
             }
            },
            "type": "scatterpolar"
           }
          ],
          "scatterpolargl": [
           {
            "marker": {
             "colorbar": {
              "outlinewidth": 0,
              "ticks": ""
             }
            },
            "type": "scatterpolargl"
           }
          ],
          "scatterternary": [
           {
            "marker": {
             "colorbar": {
              "outlinewidth": 0,
              "ticks": ""
             }
            },
            "type": "scatterternary"
           }
          ],
          "surface": [
           {
            "colorbar": {
             "outlinewidth": 0,
             "ticks": ""
            },
            "colorscale": [
             [
              0,
              "#0d0887"
             ],
             [
              0.1111111111111111,
              "#46039f"
             ],
             [
              0.2222222222222222,
              "#7201a8"
             ],
             [
              0.3333333333333333,
              "#9c179e"
             ],
             [
              0.4444444444444444,
              "#bd3786"
             ],
             [
              0.5555555555555556,
              "#d8576b"
             ],
             [
              0.6666666666666666,
              "#ed7953"
             ],
             [
              0.7777777777777778,
              "#fb9f3a"
             ],
             [
              0.8888888888888888,
              "#fdca26"
             ],
             [
              1,
              "#f0f921"
             ]
            ],
            "type": "surface"
           }
          ],
          "table": [
           {
            "cells": {
             "fill": {
              "color": "#EBF0F8"
             },
             "line": {
              "color": "white"
             }
            },
            "header": {
             "fill": {
              "color": "#C8D4E3"
             },
             "line": {
              "color": "white"
             }
            },
            "type": "table"
           }
          ]
         },
         "layout": {
          "annotationdefaults": {
           "arrowcolor": "#2a3f5f",
           "arrowhead": 0,
           "arrowwidth": 1
          },
          "autotypenumbers": "strict",
          "coloraxis": {
           "colorbar": {
            "outlinewidth": 0,
            "ticks": ""
           }
          },
          "colorscale": {
           "diverging": [
            [
             0,
             "#8e0152"
            ],
            [
             0.1,
             "#c51b7d"
            ],
            [
             0.2,
             "#de77ae"
            ],
            [
             0.3,
             "#f1b6da"
            ],
            [
             0.4,
             "#fde0ef"
            ],
            [
             0.5,
             "#f7f7f7"
            ],
            [
             0.6,
             "#e6f5d0"
            ],
            [
             0.7,
             "#b8e186"
            ],
            [
             0.8,
             "#7fbc41"
            ],
            [
             0.9,
             "#4d9221"
            ],
            [
             1,
             "#276419"
            ]
           ],
           "sequential": [
            [
             0,
             "#0d0887"
            ],
            [
             0.1111111111111111,
             "#46039f"
            ],
            [
             0.2222222222222222,
             "#7201a8"
            ],
            [
             0.3333333333333333,
             "#9c179e"
            ],
            [
             0.4444444444444444,
             "#bd3786"
            ],
            [
             0.5555555555555556,
             "#d8576b"
            ],
            [
             0.6666666666666666,
             "#ed7953"
            ],
            [
             0.7777777777777778,
             "#fb9f3a"
            ],
            [
             0.8888888888888888,
             "#fdca26"
            ],
            [
             1,
             "#f0f921"
            ]
           ],
           "sequentialminus": [
            [
             0,
             "#0d0887"
            ],
            [
             0.1111111111111111,
             "#46039f"
            ],
            [
             0.2222222222222222,
             "#7201a8"
            ],
            [
             0.3333333333333333,
             "#9c179e"
            ],
            [
             0.4444444444444444,
             "#bd3786"
            ],
            [
             0.5555555555555556,
             "#d8576b"
            ],
            [
             0.6666666666666666,
             "#ed7953"
            ],
            [
             0.7777777777777778,
             "#fb9f3a"
            ],
            [
             0.8888888888888888,
             "#fdca26"
            ],
            [
             1,
             "#f0f921"
            ]
           ]
          },
          "colorway": [
           "#636efa",
           "#EF553B",
           "#00cc96",
           "#ab63fa",
           "#FFA15A",
           "#19d3f3",
           "#FF6692",
           "#B6E880",
           "#FF97FF",
           "#FECB52"
          ],
          "font": {
           "color": "#2a3f5f"
          },
          "geo": {
           "bgcolor": "white",
           "lakecolor": "white",
           "landcolor": "#E5ECF6",
           "showlakes": true,
           "showland": true,
           "subunitcolor": "white"
          },
          "hoverlabel": {
           "align": "left"
          },
          "hovermode": "closest",
          "mapbox": {
           "style": "light"
          },
          "paper_bgcolor": "white",
          "plot_bgcolor": "#E5ECF6",
          "polar": {
           "angularaxis": {
            "gridcolor": "white",
            "linecolor": "white",
            "ticks": ""
           },
           "bgcolor": "#E5ECF6",
           "radialaxis": {
            "gridcolor": "white",
            "linecolor": "white",
            "ticks": ""
           }
          },
          "scene": {
           "xaxis": {
            "backgroundcolor": "#E5ECF6",
            "gridcolor": "white",
            "gridwidth": 2,
            "linecolor": "white",
            "showbackground": true,
            "ticks": "",
            "zerolinecolor": "white"
           },
           "yaxis": {
            "backgroundcolor": "#E5ECF6",
            "gridcolor": "white",
            "gridwidth": 2,
            "linecolor": "white",
            "showbackground": true,
            "ticks": "",
            "zerolinecolor": "white"
           },
           "zaxis": {
            "backgroundcolor": "#E5ECF6",
            "gridcolor": "white",
            "gridwidth": 2,
            "linecolor": "white",
            "showbackground": true,
            "ticks": "",
            "zerolinecolor": "white"
           }
          },
          "shapedefaults": {
           "line": {
            "color": "#2a3f5f"
           }
          },
          "ternary": {
           "aaxis": {
            "gridcolor": "white",
            "linecolor": "white",
            "ticks": ""
           },
           "baxis": {
            "gridcolor": "white",
            "linecolor": "white",
            "ticks": ""
           },
           "bgcolor": "#E5ECF6",
           "caxis": {
            "gridcolor": "white",
            "linecolor": "white",
            "ticks": ""
           }
          },
          "title": {
           "x": 0.05
          },
          "xaxis": {
           "automargin": true,
           "gridcolor": "white",
           "linecolor": "white",
           "ticks": "",
           "title": {
            "standoff": 15
           },
           "zerolinecolor": "white",
           "zerolinewidth": 2
          },
          "yaxis": {
           "automargin": true,
           "gridcolor": "white",
           "linecolor": "white",
           "ticks": "",
           "title": {
            "standoff": 15
           },
           "zerolinecolor": "white",
           "zerolinewidth": 2
          }
         }
        }
       }
      },
      "text/html": [
       "<div>                            <div id=\"7da3d892-7225-4fe7-863a-164939b092d2\" class=\"plotly-graph-div\" style=\"height:525px; width:100%;\"></div>            <script type=\"text/javascript\">                require([\"plotly\"], function(Plotly) {                    window.PLOTLYENV=window.PLOTLYENV || {};                                    if (document.getElementById(\"7da3d892-7225-4fe7-863a-164939b092d2\")) {                    Plotly.newPlot(                        \"7da3d892-7225-4fe7-863a-164939b092d2\",                        [{\"coloraxis\": \"coloraxis\", \"geo\": \"geo\", \"hovertemplate\": \"<b>%{hovertext}</b><br><br>iso_code=%{location}<br>people_fully_vaccinated=%{z}<extra></extra>\", \"hovertext\": [\"China\", \"United States\", \"India\", \"Germany\", \"United Kingdom\", \"Brazil\", \"England\", \"France\", \"Italy\", \"Japan\", \"Spain\", \"Mexico\", \"Russia\", \"Turkey\", \"Canada\", \"Indonesia\", \"Poland\", \"Chile\", \"Colombia\", \"Morocco\", \"Netherlands\", \"United Arab Emirates\", \"South Korea\", \"Belgium\", \"Argentina\", \"Hungary\", \"Israel\", \"Romania\", \"Portugal\", \"Greece\", \"Pakistan\", \"Malaysia\", \"Philippines\", \"Bangladesh\", \"Czechia\", \"Cambodia\", \"Austria\", \"Saudi Arabia\", \"Peru\", \"Sweden\", \"Dominican Republic\", \"Switzerland\", \"Thailand\", \"Scotland\", \"Australia\", \"Kazakhstan\", \"Serbia\", \"Singapore\", \"Denmark\", \"Ireland\", \"Iran\", \"Cuba\", \"Uruguay\", \"Hong Kong\", \"Wales\", \"Jordan\", \"Ecuador\", \"Slovakia\", \"Mongolia\", \"Azerbaijan\", \"South Africa\", \"Norway\", \"Sri Lanka\", \"Qatar\", \"Myanmar\", \"Finland\", \"Ukraine\", \"Nigeria\", \"El Salvador\", \"Croatia\", \"Egypt\", \"Uzbekistan\", \"Lithuania\", \"Nepal\", \"Venezuela\", \"Bahrain\", \"Northern Ireland\", \"Kuwait\", \"Bulgaria\", \"Costa Rica\", \"Bolivia\", \"Slovenia\", \"Tunisia\", \"Laos\", \"Lebanon\", \"Panama\", \"Latvia\", \"Zimbabwe\", \"Angola\", \"Kenya\", \"New Zealand\", \"Estonia\", \"Albania\", \"Cyprus\", \"Palestine\", \"Ghana\", \"Iraq\", \"Belarus\", \"Moldova\", \"Malta\", \"Mauritius\", \"Vietnam\", \"Oman\", \"Guinea\", \"North Macedonia\", \"Luxembourg\", \"Maldives\", \"Guatemala\", \"Rwanda\", \"Iceland\", \"Senegal\", \"Afghanistan\", \"Macao\", \"Bosnia and Herzegovina\", \"Trinidad and Tobago\", \"Mozambique\", \"Montenegro\", \"Paraguay\", \"Taiwan\", \"Sudan\", \"Guyana\", \"Jamaica\", \"Equatorial Guinea\", \"Georgia\", \"Botswana\", \"Somalia\", \"Northern Cyprus\", \"Curacao\", \"Honduras\", \"Togo\", \"Kyrgyzstan\", \"Barbados\", \"Armenia\", \"Seychelles\", \"Fiji\", \"French Polynesia\", \"Aruba\", \"Zambia\", \"Kosovo\", \"Niger\", \"Jersey\", \"New Caledonia\", \"Isle of Man\", \"Mali\", \"Suriname\", \"Cayman Islands\", \"Timor\", \"Malawi\", \"Belize\", \"Comoros\", \"Bermuda\", \"Gibraltar\", \"Bahamas\", \"Namibia\", \"Cameroon\", \"Antigua and Barbuda\", \"Andorra\", \"Gabon\", \"Faeroe Islands\", \"Saint Lucia\", \"San Marino\", \"Eswatini\", \"Turks and Caicos Islands\", \"Tajikistan\", \"Dominica\", \"Lesotho\", \"Saint Kitts and Nevis\", \"Sint Maarten (Dutch part)\", \"Greenland\", \"Brunei\", \"Monaco\", \"Liechtenstein\", \"Sierra Leone\", \"Grenada\", \"Cape Verde\", \"Guernsey\", \"Mauritania\", \"Gambia\", \"Benin\", \"Sao Tome and Principe\", \"Turkmenistan\", \"British Virgin Islands\", \"Syria\", \"Samoa\", \"Cook Islands\", \"Liberia\", \"Djibouti\", \"Yemen\", \"Democratic Republic of Congo\", \"Anguilla\", \"Solomon Islands\", \"Chad\", \"Wallis and Futuna\", \"South Sudan\", \"Uganda\", \"Saint Helena\", \"Burkina Faso\", \"Nauru\", \"Falkland Islands\", \"Bonaire Sint Eustatius and Saba\", \"Bhutan\", \"Guinea-Bissau\", \"Montserrat\", \"Papua New Guinea\", \"Niue\", \"Algeria\", \"Cote d'Ivoire\", \"Nicaragua\", \"Saint Vincent and the Grenadines\", \"Ethiopia\", \"Congo\", \"Libya\", \"Tonga\", \"Tuvalu\", \"Central African Republic\", \"Madagascar\", \"Vanuatu\", \"Pitcairn\", \"Haiti\"], \"locations\": [\"CHN\", \"USA\", \"IND\", \"DEU\", \"GBR\", \"BRA\", \"OWID_ENG\", \"FRA\", \"ITA\", \"JPN\", \"ESP\", \"MEX\", \"RUS\", \"TUR\", \"CAN\", \"IDN\", \"POL\", \"CHL\", \"COL\", \"MAR\", \"NLD\", \"ARE\", \"KOR\", \"BEL\", \"ARG\", \"HUN\", \"ISR\", \"ROU\", \"PRT\", \"GRC\", \"PAK\", \"MYS\", \"PHL\", \"BGD\", \"CZE\", \"KHM\", \"AUT\", \"SAU\", \"PER\", \"SWE\", \"DOM\", \"CHE\", \"THA\", \"OWID_SCT\", \"AUS\", \"KAZ\", \"SRB\", \"SGP\", \"DNK\", \"IRL\", \"IRN\", \"CUB\", \"URY\", \"HKG\", \"OWID_WLS\", \"JOR\", \"ECU\", \"SVK\", \"MNG\", \"AZE\", \"ZAF\", \"NOR\", \"LKA\", \"QAT\", \"MMR\", \"FIN\", \"UKR\", \"NGA\", \"SLV\", \"HRV\", \"EGY\", \"UZB\", \"LTU\", \"NPL\", \"VEN\", \"BHR\", \"OWID_NIR\", \"KWT\", \"BGR\", \"CRI\", \"BOL\", \"SVN\", \"TUN\", \"LAO\", \"LBN\", \"PAN\", \"LVA\", \"ZWE\", \"AGO\", \"KEN\", \"NZL\", \"EST\", \"ALB\", \"CYP\", \"PSE\", \"GHA\", \"IRQ\", \"BLR\", \"MDA\", \"MLT\", \"MUS\", \"VNM\", \"OMN\", \"GIN\", \"MKD\", \"LUX\", \"MDV\", \"GTM\", \"RWA\", \"ISL\", \"SEN\", \"AFG\", \"MAC\", \"BIH\", \"TTO\", \"MOZ\", \"MNE\", \"PRY\", \"TWN\", \"SDN\", \"GUY\", \"JAM\", \"GNQ\", \"GEO\", \"BWA\", \"SOM\", \"OWID_CYN\", \"CUW\", \"HND\", \"TGO\", \"KGZ\", \"BRB\", \"ARM\", \"SYC\", \"FJI\", \"PYF\", \"ABW\", \"ZMB\", \"OWID_KOS\", \"NER\", \"JEY\", \"NCL\", \"IMN\", \"MLI\", \"SUR\", \"CYM\", \"TLS\", \"MWI\", \"BLZ\", \"COM\", \"BMU\", \"GIB\", \"BHS\", \"NAM\", \"CMR\", \"ATG\", \"AND\", \"GAB\", \"FRO\", \"LCA\", \"SMR\", \"SWZ\", \"TCA\", \"TJK\", \"DMA\", \"LSO\", \"KNA\", \"SXM\", \"GRL\", \"BRN\", \"MCO\", \"LIE\", \"SLE\", \"GRD\", \"CPV\", \"GGY\", \"MRT\", \"GMB\", \"BEN\", \"STP\", \"TKM\", \"VGB\", \"SYR\", \"WSM\", \"COK\", \"LBR\", \"DJI\", \"YEM\", \"COD\", \"AIA\", \"SLB\", \"TCD\", \"WLF\", \"SSD\", \"UGA\", \"SHN\", \"BFA\", \"NRU\", \"FLK\", \"BES\", \"BTN\", \"GNB\", \"MSR\", \"PNG\", \"NIU\", \"DZA\", \"CIV\", \"NIC\", \"VCT\", \"ETH\", \"COG\", \"LBY\", \"TON\", \"TUV\", \"CAF\", \"MDG\", \"VUT\", \"PCN\", \"HTI\"], \"name\": \"\", \"type\": \"choropleth\", \"z\": [223299000.0, 160994035.0, 81030653.0, 38194316.0, 35732297.0, 33854929.0, 29911441.0, 27070389.0, 25963073.0, 25765094.0, 23372796.0, 21525199.0, 20596805.0, 20552887.0, 18556079.0, 16217855.0, 16211976.0, 11713620.0, 9876044.0, 9619727.0, 7419262.0, 6735241.0, 6563885.0, 5292222.0, 5289658.0, 5268814.0, 5225831.0, 4717574.0, 4659363.0, 4586714.0, 4550696.0, 4431350.0, 4288660.0, 4284959.0, 4209733.0, 4109976.0, 4033347.0, 3824488.0, 3782220.0, 3755292.0, 3692082.0, 3589640.0, 3443330.0, 2954776.0, 2753511.0, 2731707.0, 2648573.0, 2609367.0, 2594684.0, 2220585.0, 2139782.0, 2055163.0, 2048449.0, 1981021.0, 1892082.0, 1874961.0, 1861422.0, 1840558.0, 1820488.0, 1757167.0, 1674152.0, 1663798.0, 1646176.0, 1596287.0, 1527284.0, 1512165.0, 1422536.0, 1404740.0, 1323958.0, 1321943.0, 1245472.0, 1199541.0, 1174337.0, 1126870.0, 1100000.0, 1030588.0, 973998.0, 923307.0, 873183.0, 822842.0, 796290.0, 766912.0, 728004.0, 670727.0, 649780.0, 647068.0, 635884.0, 630610.0, 599828.0, 572361.0, 564789.0, 459941.0, 455131.0, 421004.0, 400561.0, 400342.0, 388541.0, 372099.0, 358824.0, 355883.0, 305275.0, 304998.0, 291645.0, 280730.0, 267106.0, 259085.0, 255280.0, 254727.0, 252842.0, 252152.0, 236522.0, 219159.0, 180808.0, 163789.0, 157330.0, 153612.0, 145882.0, 138116.0, 125703.0, 123862.0, 123050.0, 118304.0, 117124.0, 113895.0, 111164.0, 87135.0, 85859.0, 80688.0, 79737.0, 76462.0, 73800.0, 72894.0, 69998.0, 68135.0, 66643.0, 66019.0, 62715.0, 62016.0, 60759.0, 60317.0, 58424.0, 54454.0, 53821.0, 51846.0, 47192.0, 46360.0, 43356.0, 43165.0, 41356.0, 41220.0, 40545.0, 38976.0, 37689.0, 34288.0, 29813.0, 28665.0, 26613.0, 26383.0, 25470.0, 23113.0, 22801.0, 22072.0, 21496.0, 19950.0, 19759.0, 19685.0, 19200.0, 18963.0, 18915.0, 18655.0, 18646.0, 16196.0, 15170.0, 14780.0, 14280.0, 13618.0, 13047.0, 12303.0, 12293.0, 11532.0, 9753.0, 9398.0, 9312.0, 9254.0, 9187.0, 9135.0, 8810.0, 8577.0, 8016.0, 7630.0, 5987.0, 5975.0, 4502.0, 4344.0, 4129.0, 3531.0, 3481.0, 3054.0, 1775.0, 1665.0, 1563.0, 1463.0, 1260.0, 710.0, 32.0, null, null, null, null, null, null, null, null, null, null, null, null, null, null]}],                        {\"coloraxis\": {\"colorbar\": {\"title\": {\"text\": \"people_fully_vaccinated\"}}, \"colorscale\": [[0.0, \"rgb(246, 210, 169)\"], [0.16666666666666666, \"rgb(245, 183, 142)\"], [0.3333333333333333, \"rgb(241, 156, 124)\"], [0.5, \"rgb(234, 129, 113)\"], [0.6666666666666666, \"rgb(221, 104, 108)\"], [0.8333333333333334, \"rgb(202, 82, 104)\"], [1.0, \"rgb(177, 63, 100)\"]]}, \"geo\": {\"center\": {}, \"domain\": {\"x\": [0.0, 1.0], \"y\": [0.0, 1.0]}}, \"legend\": {\"tracegroupgap\": 0}, \"margin\": {\"t\": 60}, \"template\": {\"data\": {\"bar\": [{\"error_x\": {\"color\": \"#2a3f5f\"}, \"error_y\": {\"color\": \"#2a3f5f\"}, \"marker\": {\"line\": {\"color\": \"#E5ECF6\", \"width\": 0.5}}, \"type\": \"bar\"}], \"barpolar\": [{\"marker\": {\"line\": {\"color\": \"#E5ECF6\", \"width\": 0.5}}, \"type\": \"barpolar\"}], \"carpet\": [{\"aaxis\": {\"endlinecolor\": \"#2a3f5f\", \"gridcolor\": \"white\", \"linecolor\": \"white\", \"minorgridcolor\": \"white\", \"startlinecolor\": \"#2a3f5f\"}, \"baxis\": {\"endlinecolor\": \"#2a3f5f\", \"gridcolor\": \"white\", \"linecolor\": \"white\", \"minorgridcolor\": \"white\", \"startlinecolor\": \"#2a3f5f\"}, \"type\": \"carpet\"}], \"choropleth\": [{\"colorbar\": {\"outlinewidth\": 0, \"ticks\": \"\"}, \"type\": \"choropleth\"}], \"contour\": [{\"colorbar\": {\"outlinewidth\": 0, \"ticks\": \"\"}, \"colorscale\": [[0.0, \"#0d0887\"], [0.1111111111111111, \"#46039f\"], [0.2222222222222222, \"#7201a8\"], [0.3333333333333333, \"#9c179e\"], [0.4444444444444444, \"#bd3786\"], [0.5555555555555556, \"#d8576b\"], [0.6666666666666666, \"#ed7953\"], [0.7777777777777778, \"#fb9f3a\"], [0.8888888888888888, \"#fdca26\"], [1.0, \"#f0f921\"]], \"type\": \"contour\"}], \"contourcarpet\": [{\"colorbar\": {\"outlinewidth\": 0, \"ticks\": \"\"}, \"type\": \"contourcarpet\"}], \"heatmap\": [{\"colorbar\": {\"outlinewidth\": 0, \"ticks\": \"\"}, \"colorscale\": [[0.0, \"#0d0887\"], [0.1111111111111111, \"#46039f\"], [0.2222222222222222, \"#7201a8\"], [0.3333333333333333, \"#9c179e\"], [0.4444444444444444, \"#bd3786\"], [0.5555555555555556, \"#d8576b\"], [0.6666666666666666, \"#ed7953\"], [0.7777777777777778, \"#fb9f3a\"], [0.8888888888888888, \"#fdca26\"], [1.0, \"#f0f921\"]], \"type\": \"heatmap\"}], \"heatmapgl\": [{\"colorbar\": {\"outlinewidth\": 0, \"ticks\": \"\"}, \"colorscale\": [[0.0, \"#0d0887\"], [0.1111111111111111, \"#46039f\"], [0.2222222222222222, \"#7201a8\"], [0.3333333333333333, \"#9c179e\"], [0.4444444444444444, \"#bd3786\"], [0.5555555555555556, \"#d8576b\"], [0.6666666666666666, \"#ed7953\"], [0.7777777777777778, \"#fb9f3a\"], [0.8888888888888888, \"#fdca26\"], [1.0, \"#f0f921\"]], \"type\": \"heatmapgl\"}], \"histogram\": [{\"marker\": {\"colorbar\": {\"outlinewidth\": 0, \"ticks\": \"\"}}, \"type\": \"histogram\"}], \"histogram2d\": [{\"colorbar\": {\"outlinewidth\": 0, \"ticks\": \"\"}, \"colorscale\": [[0.0, \"#0d0887\"], [0.1111111111111111, \"#46039f\"], [0.2222222222222222, \"#7201a8\"], [0.3333333333333333, \"#9c179e\"], [0.4444444444444444, \"#bd3786\"], [0.5555555555555556, \"#d8576b\"], [0.6666666666666666, \"#ed7953\"], [0.7777777777777778, \"#fb9f3a\"], [0.8888888888888888, \"#fdca26\"], [1.0, \"#f0f921\"]], \"type\": \"histogram2d\"}], \"histogram2dcontour\": [{\"colorbar\": {\"outlinewidth\": 0, \"ticks\": \"\"}, \"colorscale\": [[0.0, \"#0d0887\"], [0.1111111111111111, \"#46039f\"], [0.2222222222222222, \"#7201a8\"], [0.3333333333333333, \"#9c179e\"], [0.4444444444444444, \"#bd3786\"], [0.5555555555555556, \"#d8576b\"], [0.6666666666666666, \"#ed7953\"], [0.7777777777777778, \"#fb9f3a\"], [0.8888888888888888, \"#fdca26\"], [1.0, \"#f0f921\"]], \"type\": \"histogram2dcontour\"}], \"mesh3d\": [{\"colorbar\": {\"outlinewidth\": 0, \"ticks\": \"\"}, \"type\": \"mesh3d\"}], \"parcoords\": [{\"line\": {\"colorbar\": {\"outlinewidth\": 0, \"ticks\": \"\"}}, \"type\": \"parcoords\"}], \"pie\": [{\"automargin\": true, \"type\": \"pie\"}], \"scatter\": [{\"marker\": {\"colorbar\": {\"outlinewidth\": 0, \"ticks\": \"\"}}, \"type\": \"scatter\"}], \"scatter3d\": [{\"line\": {\"colorbar\": {\"outlinewidth\": 0, \"ticks\": \"\"}}, \"marker\": {\"colorbar\": {\"outlinewidth\": 0, \"ticks\": \"\"}}, \"type\": \"scatter3d\"}], \"scattercarpet\": [{\"marker\": {\"colorbar\": {\"outlinewidth\": 0, \"ticks\": \"\"}}, \"type\": \"scattercarpet\"}], \"scattergeo\": [{\"marker\": {\"colorbar\": {\"outlinewidth\": 0, \"ticks\": \"\"}}, \"type\": \"scattergeo\"}], \"scattergl\": [{\"marker\": {\"colorbar\": {\"outlinewidth\": 0, \"ticks\": \"\"}}, \"type\": \"scattergl\"}], \"scattermapbox\": [{\"marker\": {\"colorbar\": {\"outlinewidth\": 0, \"ticks\": \"\"}}, \"type\": \"scattermapbox\"}], \"scatterpolar\": [{\"marker\": {\"colorbar\": {\"outlinewidth\": 0, \"ticks\": \"\"}}, \"type\": \"scatterpolar\"}], \"scatterpolargl\": [{\"marker\": {\"colorbar\": {\"outlinewidth\": 0, \"ticks\": \"\"}}, \"type\": \"scatterpolargl\"}], \"scatterternary\": [{\"marker\": {\"colorbar\": {\"outlinewidth\": 0, \"ticks\": \"\"}}, \"type\": \"scatterternary\"}], \"surface\": [{\"colorbar\": {\"outlinewidth\": 0, \"ticks\": \"\"}, \"colorscale\": [[0.0, \"#0d0887\"], [0.1111111111111111, \"#46039f\"], [0.2222222222222222, \"#7201a8\"], [0.3333333333333333, \"#9c179e\"], [0.4444444444444444, \"#bd3786\"], [0.5555555555555556, \"#d8576b\"], [0.6666666666666666, \"#ed7953\"], [0.7777777777777778, \"#fb9f3a\"], [0.8888888888888888, \"#fdca26\"], [1.0, \"#f0f921\"]], \"type\": \"surface\"}], \"table\": [{\"cells\": {\"fill\": {\"color\": \"#EBF0F8\"}, \"line\": {\"color\": \"white\"}}, \"header\": {\"fill\": {\"color\": \"#C8D4E3\"}, \"line\": {\"color\": \"white\"}}, \"type\": \"table\"}]}, \"layout\": {\"annotationdefaults\": {\"arrowcolor\": \"#2a3f5f\", \"arrowhead\": 0, \"arrowwidth\": 1}, \"autotypenumbers\": \"strict\", \"coloraxis\": {\"colorbar\": {\"outlinewidth\": 0, \"ticks\": \"\"}}, \"colorscale\": {\"diverging\": [[0, \"#8e0152\"], [0.1, \"#c51b7d\"], [0.2, \"#de77ae\"], [0.3, \"#f1b6da\"], [0.4, \"#fde0ef\"], [0.5, \"#f7f7f7\"], [0.6, \"#e6f5d0\"], [0.7, \"#b8e186\"], [0.8, \"#7fbc41\"], [0.9, \"#4d9221\"], [1, \"#276419\"]], \"sequential\": [[0.0, \"#0d0887\"], [0.1111111111111111, \"#46039f\"], [0.2222222222222222, \"#7201a8\"], [0.3333333333333333, \"#9c179e\"], [0.4444444444444444, \"#bd3786\"], [0.5555555555555556, \"#d8576b\"], [0.6666666666666666, \"#ed7953\"], [0.7777777777777778, \"#fb9f3a\"], [0.8888888888888888, \"#fdca26\"], [1.0, \"#f0f921\"]], \"sequentialminus\": [[0.0, \"#0d0887\"], [0.1111111111111111, \"#46039f\"], [0.2222222222222222, \"#7201a8\"], [0.3333333333333333, \"#9c179e\"], [0.4444444444444444, \"#bd3786\"], [0.5555555555555556, \"#d8576b\"], [0.6666666666666666, \"#ed7953\"], [0.7777777777777778, \"#fb9f3a\"], [0.8888888888888888, \"#fdca26\"], [1.0, \"#f0f921\"]]}, \"colorway\": [\"#636efa\", \"#EF553B\", \"#00cc96\", \"#ab63fa\", \"#FFA15A\", \"#19d3f3\", \"#FF6692\", \"#B6E880\", \"#FF97FF\", \"#FECB52\"], \"font\": {\"color\": \"#2a3f5f\"}, \"geo\": {\"bgcolor\": \"white\", \"lakecolor\": \"white\", \"landcolor\": \"#E5ECF6\", \"showlakes\": true, \"showland\": true, \"subunitcolor\": \"white\"}, \"hoverlabel\": {\"align\": \"left\"}, \"hovermode\": \"closest\", \"mapbox\": {\"style\": \"light\"}, \"paper_bgcolor\": \"white\", \"plot_bgcolor\": \"#E5ECF6\", \"polar\": {\"angularaxis\": {\"gridcolor\": \"white\", \"linecolor\": \"white\", \"ticks\": \"\"}, \"bgcolor\": \"#E5ECF6\", \"radialaxis\": {\"gridcolor\": \"white\", \"linecolor\": \"white\", \"ticks\": \"\"}}, \"scene\": {\"xaxis\": {\"backgroundcolor\": \"#E5ECF6\", \"gridcolor\": \"white\", \"gridwidth\": 2, \"linecolor\": \"white\", \"showbackground\": true, \"ticks\": \"\", \"zerolinecolor\": \"white\"}, \"yaxis\": {\"backgroundcolor\": \"#E5ECF6\", \"gridcolor\": \"white\", \"gridwidth\": 2, \"linecolor\": \"white\", \"showbackground\": true, \"ticks\": \"\", \"zerolinecolor\": \"white\"}, \"zaxis\": {\"backgroundcolor\": \"#E5ECF6\", \"gridcolor\": \"white\", \"gridwidth\": 2, \"linecolor\": \"white\", \"showbackground\": true, \"ticks\": \"\", \"zerolinecolor\": \"white\"}}, \"shapedefaults\": {\"line\": {\"color\": \"#2a3f5f\"}}, \"ternary\": {\"aaxis\": {\"gridcolor\": \"white\", \"linecolor\": \"white\", \"ticks\": \"\"}, \"baxis\": {\"gridcolor\": \"white\", \"linecolor\": \"white\", \"ticks\": \"\"}, \"bgcolor\": \"#E5ECF6\", \"caxis\": {\"gridcolor\": \"white\", \"linecolor\": \"white\", \"ticks\": \"\"}}, \"title\": {\"x\": 0.05}, \"xaxis\": {\"automargin\": true, \"gridcolor\": \"white\", \"linecolor\": \"white\", \"ticks\": \"\", \"title\": {\"standoff\": 15}, \"zerolinecolor\": \"white\", \"zerolinewidth\": 2}, \"yaxis\": {\"automargin\": true, \"gridcolor\": \"white\", \"linecolor\": \"white\", \"ticks\": \"\", \"title\": {\"standoff\": 15}, \"zerolinecolor\": \"white\", \"zerolinewidth\": 2}}}},                        {\"responsive\": true}                    ).then(function(){\n",
       "                            \n",
       "var gd = document.getElementById('7da3d892-7225-4fe7-863a-164939b092d2');\n",
       "var x = new MutationObserver(function (mutations, observer) {{\n",
       "        var display = window.getComputedStyle(gd).display;\n",
       "        if (!display || display === 'none') {{\n",
       "            console.log([gd, 'removed!']);\n",
       "            Plotly.purge(gd);\n",
       "            observer.disconnect();\n",
       "        }}\n",
       "}});\n",
       "\n",
       "// Listen for the removal of the full notebook cells\n",
       "var notebookContainer = gd.closest('#notebook-container');\n",
       "if (notebookContainer) {{\n",
       "    x.observe(notebookContainer, {childList: true});\n",
       "}}\n",
       "\n",
       "// Listen for the clearing of the current output cell\n",
       "var outputEl = gd.closest('.output');\n",
       "if (outputEl) {{\n",
       "    x.observe(outputEl, {childList: true});\n",
       "}}\n",
       "\n",
       "                        })                };                });            </script>        </div>"
      ]
     },
     "metadata": {},
     "output_type": "display_data"
    }
   ],
   "source": [
    "fig = px.choropleth(data_total, locations=\"iso_code\",\n",
    "                   color=\"people_fully_vaccinated\",\n",
    "                   hover_name=\"country\",\n",
    "                   color_continuous_scale=px.colors.sequential.Redor)\n",
    "fig.show()"
   ]
  },
  {
   "cell_type": "code",
   "execution_count": null,
   "metadata": {},
   "outputs": [],
   "source": []
  },
  {
   "cell_type": "code",
   "execution_count": null,
   "metadata": {},
   "outputs": [],
   "source": []
  }
 ],
 "metadata": {
  "colab": {
   "name": "COVID-19 Vaccinations Project.ipynb",
   "provenance": []
  },
  "kernelspec": {
   "display_name": "Python 3",
   "language": "python",
   "name": "python3"
  },
  "language_info": {
   "codemirror_mode": {
    "name": "ipython",
    "version": 3
   },
   "file_extension": ".py",
   "mimetype": "text/x-python",
   "name": "python",
   "nbconvert_exporter": "python",
   "pygments_lexer": "ipython3",
   "version": "3.8.10"
  }
 },
 "nbformat": 4,
 "nbformat_minor": 1
}
